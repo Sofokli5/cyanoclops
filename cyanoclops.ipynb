{
  "nbformat": 4,
  "nbformat_minor": 0,
  "metadata": {
    "colab": {
      "provenance": [],
      "machine_shape": "hm",
      "gpuType": "T4",
      "mount_file_id": "1hqCHnZaQrBoltU4pyaVK4_WKtNoyufia",
      "authorship_tag": "ABX9TyOi4W3yzXNEYnWT1YtnkGgm"
    },
    "kernelspec": {
      "name": "python3",
      "display_name": "Python 3"
    },
    "language_info": {
      "name": "python"
    },
    "accelerator": "GPU"
  },
  "cells": [
    {
      "cell_type": "code",
      "source": [
        "!nvidia-smi"
      ],
      "metadata": {
        "colab": {
          "base_uri": "https://localhost:8080/"
        },
        "id": "uoVbLMW1Dmuq",
        "outputId": "eb3a4236-fb44-4b1d-9a34-00dadb46f452"
      },
      "execution_count": null,
      "outputs": [
        {
          "output_type": "stream",
          "name": "stdout",
          "text": [
            "Sun Nov  3 17:31:00 2024       \n",
            "+---------------------------------------------------------------------------------------+\n",
            "| NVIDIA-SMI 535.104.05             Driver Version: 535.104.05   CUDA Version: 12.2     |\n",
            "|-----------------------------------------+----------------------+----------------------+\n",
            "| GPU  Name                 Persistence-M | Bus-Id        Disp.A | Volatile Uncorr. ECC |\n",
            "| Fan  Temp   Perf          Pwr:Usage/Cap |         Memory-Usage | GPU-Util  Compute M. |\n",
            "|                                         |                      |               MIG M. |\n",
            "|=========================================+======================+======================|\n",
            "|   0  NVIDIA L4                      Off | 00000000:00:03.0 Off |                    0 |\n",
            "| N/A   43C    P8              12W /  72W |      1MiB / 23034MiB |      0%      Default |\n",
            "|                                         |                      |                  N/A |\n",
            "+-----------------------------------------+----------------------+----------------------+\n",
            "                                                                                         \n",
            "+---------------------------------------------------------------------------------------+\n",
            "| Processes:                                                                            |\n",
            "|  GPU   GI   CI        PID   Type   Process name                            GPU Memory |\n",
            "|        ID   ID                                                             Usage      |\n",
            "|=======================================================================================|\n",
            "|  No running processes found                                                           |\n",
            "+---------------------------------------------------------------------------------------+\n"
          ]
        }
      ]
    },
    {
      "cell_type": "code",
      "execution_count": null,
      "metadata": {
        "colab": {
          "base_uri": "https://localhost:8080/",
          "height": 304
        },
        "id": "Qdtd1Pj7lyBG",
        "outputId": "89d0e10f-29af-4602-9960-92671ae8e179"
      },
      "outputs": [
        {
          "output_type": "error",
          "ename": "MessageError",
          "evalue": "Error: credential propagation was unsuccessful",
          "traceback": [
            "\u001b[0;31m---------------------------------------------------------------------------\u001b[0m",
            "\u001b[0;31mMessageError\u001b[0m                              Traceback (most recent call last)",
            "\u001b[0;32m<ipython-input-4-d5df0069828e>\u001b[0m in \u001b[0;36m<cell line: 0>\u001b[0;34m()\u001b[0m\n\u001b[1;32m      1\u001b[0m \u001b[0;32mfrom\u001b[0m \u001b[0mgoogle\u001b[0m\u001b[0;34m.\u001b[0m\u001b[0mcolab\u001b[0m \u001b[0;32mimport\u001b[0m \u001b[0mdrive\u001b[0m\u001b[0;34m\u001b[0m\u001b[0;34m\u001b[0m\u001b[0m\n\u001b[0;32m----> 2\u001b[0;31m \u001b[0mdrive\u001b[0m\u001b[0;34m.\u001b[0m\u001b[0mmount\u001b[0m\u001b[0;34m(\u001b[0m\u001b[0;34m'/content/drive'\u001b[0m\u001b[0;34m)\u001b[0m\u001b[0;34m\u001b[0m\u001b[0;34m\u001b[0m\u001b[0m\n\u001b[0m",
            "\u001b[0;32m/usr/local/lib/python3.11/dist-packages/google/colab/drive.py\u001b[0m in \u001b[0;36mmount\u001b[0;34m(mountpoint, force_remount, timeout_ms, readonly)\u001b[0m\n\u001b[1;32m     98\u001b[0m \u001b[0;32mdef\u001b[0m \u001b[0mmount\u001b[0m\u001b[0;34m(\u001b[0m\u001b[0mmountpoint\u001b[0m\u001b[0;34m,\u001b[0m \u001b[0mforce_remount\u001b[0m\u001b[0;34m=\u001b[0m\u001b[0;32mFalse\u001b[0m\u001b[0;34m,\u001b[0m \u001b[0mtimeout_ms\u001b[0m\u001b[0;34m=\u001b[0m\u001b[0;36m120000\u001b[0m\u001b[0;34m,\u001b[0m \u001b[0mreadonly\u001b[0m\u001b[0;34m=\u001b[0m\u001b[0;32mFalse\u001b[0m\u001b[0;34m)\u001b[0m\u001b[0;34m:\u001b[0m\u001b[0;34m\u001b[0m\u001b[0;34m\u001b[0m\u001b[0m\n\u001b[1;32m     99\u001b[0m   \u001b[0;34m\"\"\"Mount your Google Drive at the specified mountpoint path.\"\"\"\u001b[0m\u001b[0;34m\u001b[0m\u001b[0;34m\u001b[0m\u001b[0m\n\u001b[0;32m--> 100\u001b[0;31m   return _mount(\n\u001b[0m\u001b[1;32m    101\u001b[0m       \u001b[0mmountpoint\u001b[0m\u001b[0;34m,\u001b[0m\u001b[0;34m\u001b[0m\u001b[0;34m\u001b[0m\u001b[0m\n\u001b[1;32m    102\u001b[0m       \u001b[0mforce_remount\u001b[0m\u001b[0;34m=\u001b[0m\u001b[0mforce_remount\u001b[0m\u001b[0;34m,\u001b[0m\u001b[0;34m\u001b[0m\u001b[0;34m\u001b[0m\u001b[0m\n",
            "\u001b[0;32m/usr/local/lib/python3.11/dist-packages/google/colab/drive.py\u001b[0m in \u001b[0;36m_mount\u001b[0;34m(mountpoint, force_remount, timeout_ms, ephemeral, readonly)\u001b[0m\n\u001b[1;32m    135\u001b[0m   )\n\u001b[1;32m    136\u001b[0m   \u001b[0;32mif\u001b[0m \u001b[0mephemeral\u001b[0m\u001b[0;34m:\u001b[0m\u001b[0;34m\u001b[0m\u001b[0;34m\u001b[0m\u001b[0m\n\u001b[0;32m--> 137\u001b[0;31m     _message.blocking_request(\n\u001b[0m\u001b[1;32m    138\u001b[0m         \u001b[0;34m'request_auth'\u001b[0m\u001b[0;34m,\u001b[0m\u001b[0;34m\u001b[0m\u001b[0;34m\u001b[0m\u001b[0m\n\u001b[1;32m    139\u001b[0m         \u001b[0mrequest\u001b[0m\u001b[0;34m=\u001b[0m\u001b[0;34m{\u001b[0m\u001b[0;34m'authType'\u001b[0m\u001b[0;34m:\u001b[0m \u001b[0;34m'dfs_ephemeral'\u001b[0m\u001b[0;34m}\u001b[0m\u001b[0;34m,\u001b[0m\u001b[0;34m\u001b[0m\u001b[0;34m\u001b[0m\u001b[0m\n",
            "\u001b[0;32m/usr/local/lib/python3.11/dist-packages/google/colab/_message.py\u001b[0m in \u001b[0;36mblocking_request\u001b[0;34m(request_type, request, timeout_sec, parent)\u001b[0m\n\u001b[1;32m    174\u001b[0m       \u001b[0mrequest_type\u001b[0m\u001b[0;34m,\u001b[0m \u001b[0mrequest\u001b[0m\u001b[0;34m,\u001b[0m \u001b[0mparent\u001b[0m\u001b[0;34m=\u001b[0m\u001b[0mparent\u001b[0m\u001b[0;34m,\u001b[0m \u001b[0mexpect_reply\u001b[0m\u001b[0;34m=\u001b[0m\u001b[0;32mTrue\u001b[0m\u001b[0;34m\u001b[0m\u001b[0;34m\u001b[0m\u001b[0m\n\u001b[1;32m    175\u001b[0m   )\n\u001b[0;32m--> 176\u001b[0;31m   \u001b[0;32mreturn\u001b[0m \u001b[0mread_reply_from_input\u001b[0m\u001b[0;34m(\u001b[0m\u001b[0mrequest_id\u001b[0m\u001b[0;34m,\u001b[0m \u001b[0mtimeout_sec\u001b[0m\u001b[0;34m)\u001b[0m\u001b[0;34m\u001b[0m\u001b[0;34m\u001b[0m\u001b[0m\n\u001b[0m",
            "\u001b[0;32m/usr/local/lib/python3.11/dist-packages/google/colab/_message.py\u001b[0m in \u001b[0;36mread_reply_from_input\u001b[0;34m(message_id, timeout_sec)\u001b[0m\n\u001b[1;32m    101\u001b[0m     ):\n\u001b[1;32m    102\u001b[0m       \u001b[0;32mif\u001b[0m \u001b[0;34m'error'\u001b[0m \u001b[0;32min\u001b[0m \u001b[0mreply\u001b[0m\u001b[0;34m:\u001b[0m\u001b[0;34m\u001b[0m\u001b[0;34m\u001b[0m\u001b[0m\n\u001b[0;32m--> 103\u001b[0;31m         \u001b[0;32mraise\u001b[0m \u001b[0mMessageError\u001b[0m\u001b[0;34m(\u001b[0m\u001b[0mreply\u001b[0m\u001b[0;34m[\u001b[0m\u001b[0;34m'error'\u001b[0m\u001b[0;34m]\u001b[0m\u001b[0;34m)\u001b[0m\u001b[0;34m\u001b[0m\u001b[0;34m\u001b[0m\u001b[0m\n\u001b[0m\u001b[1;32m    104\u001b[0m       \u001b[0;32mreturn\u001b[0m \u001b[0mreply\u001b[0m\u001b[0;34m.\u001b[0m\u001b[0mget\u001b[0m\u001b[0;34m(\u001b[0m\u001b[0;34m'data'\u001b[0m\u001b[0;34m,\u001b[0m \u001b[0;32mNone\u001b[0m\u001b[0;34m)\u001b[0m\u001b[0;34m\u001b[0m\u001b[0;34m\u001b[0m\u001b[0m\n\u001b[1;32m    105\u001b[0m \u001b[0;34m\u001b[0m\u001b[0m\n",
            "\u001b[0;31mMessageError\u001b[0m: Error: credential propagation was unsuccessful"
          ]
        }
      ],
      "source": [
        "from google.colab import drive\n",
        "drive.mount('/content/drive')"
      ]
    },
    {
      "cell_type": "code",
      "source": [
        "# Set your folder path (adjust to your actual folder)\n",
        "folder_path = '/content/drive/MyDrive/thesis/data/labels/train'"
      ],
      "metadata": {
        "id": "Uv-YVAzkjpce"
      },
      "execution_count": null,
      "outputs": []
    },
    {
      "cell_type": "code",
      "source": [
        "import re\n",
        "for filename in os.listdir(folder_path):\n",
        "    if filename.lower().startswith(\"limnospira\") and filename.endswith(('.tif', '.txt', '.jpeg')):\n",
        "        new_name = re.sub(r'^limnospira', 'arthrospira', filename)\n",
        "        old_file = os.path.join(folder_path, filename)\n",
        "        new_file = os.path.join(folder_path, new_name)\n",
        "        os.rename(old_file, new_file)\n",
        "        print(f\"Renamed: {filename} → {new_name}\")"
      ],
      "metadata": {
        "colab": {
          "base_uri": "https://localhost:8080/"
        },
        "collapsed": true,
        "id": "8aLwBb2vj1QD",
        "outputId": "7ea4e28f-c7ac-4525-a6ff-cfec77c62af9"
      },
      "execution_count": null,
      "outputs": [
        {
          "output_type": "stream",
          "name": "stdout",
          "text": [
            "Renamed: limnospira (3).txt → arthrospira (3).txt\n",
            "Renamed: limnospira (12).txt → arthrospira (12).txt\n",
            "Renamed: limnospira (30).txt → arthrospira (30).txt\n",
            "Renamed: limnospira (25).txt → arthrospira (25).txt\n",
            "Renamed: limnospira (34).txt → arthrospira (34).txt\n",
            "Renamed: limnospira (32).txt → arthrospira (32).txt\n",
            "Renamed: limnospira (38).txt → arthrospira (38).txt\n",
            "Renamed: limnospira (74).txt → arthrospira (74).txt\n",
            "Renamed: limnospira (43).txt → arthrospira (43).txt\n",
            "Renamed: limnospira (56).txt → arthrospira (56).txt\n",
            "Renamed: limnospira (52).txt → arthrospira (52).txt\n",
            "Renamed: limnospira (21).txt → arthrospira (21).txt\n",
            "Renamed: limnospira (7).txt → arthrospira (7).txt\n",
            "Renamed: limnospira (61).txt → arthrospira (61).txt\n",
            "Renamed: limnospira (78).txt → arthrospira (78).txt\n",
            "Renamed: limnospira (69).txt → arthrospira (69).txt\n",
            "Renamed: limnospira (47).txt → arthrospira (47).txt\n",
            "Renamed: limnospira (70).txt → arthrospira (70).txt\n",
            "Renamed: limnospira (29).txt → arthrospira (29).txt\n",
            "Renamed: limnospira (65).txt → arthrospira (65).txt\n",
            "Renamed: limnospira (16).txt → arthrospira (16).txt\n",
            "Renamed: limnospira (27).txt → arthrospira (27).txt\n",
            "Renamed: limnospira (23).txt → arthrospira (23).txt\n",
            "Renamed: limnospira (67).txt → arthrospira (67).txt\n",
            "Renamed: limnospira (58).txt → arthrospira (58).txt\n",
            "Renamed: limnospira (36).txt → arthrospira (36).txt\n",
            "Renamed: limnospira (41).txt → arthrospira (41).txt\n",
            "Renamed: limnospira (72).txt → arthrospira (72).txt\n",
            "Renamed: limnospira (14).txt → arthrospira (14).txt\n",
            "Renamed: limnospira (10).txt → arthrospira (10).txt\n",
            "Renamed: limnospira (9).txt → arthrospira (9).txt\n",
            "Renamed: limnospira (45).txt → arthrospira (45).txt\n",
            "Renamed: limnospira (18).txt → arthrospira (18).txt\n",
            "Renamed: limnospira (76).txt → arthrospira (76).txt\n",
            "Renamed: limnospira (54).txt → arthrospira (54).txt\n",
            "Renamed: limnospira (50).txt → arthrospira (50).txt\n",
            "Renamed: limnospira (49).txt → arthrospira (49).txt\n",
            "Renamed: limnospira (5).txt → arthrospira (5).txt\n",
            "Renamed: limnospira (63).txt → arthrospira (63).txt\n",
            "Renamed: limnospira (4).txt → arthrospira (4).txt\n",
            "Renamed: limnospira (17).txt → arthrospira (17).txt\n",
            "Renamed: limnospira (71).txt → arthrospira (71).txt\n",
            "Renamed: limnospira (1).txt → arthrospira (1).txt\n",
            "Renamed: limnospira (35).txt → arthrospira (35).txt\n",
            "Renamed: limnospira (57).txt → arthrospira (57).txt\n",
            "Renamed: limnospira (13).txt → arthrospira (13).txt\n",
            "Renamed: limnospira (39).txt → arthrospira (39).txt\n",
            "Renamed: limnospira (44).txt → arthrospira (44).txt\n",
            "Renamed: limnospira (53).txt → arthrospira (53).txt\n",
            "Renamed: limnospira (22).txt → arthrospira (22).txt\n",
            "Renamed: limnospira (8).txt → arthrospira (8).txt\n",
            "Renamed: limnospira (31).txt → arthrospira (31).txt\n",
            "Renamed: limnospira (40).txt → arthrospira (40).txt\n",
            "Renamed: limnospira (48).txt → arthrospira (48).txt\n",
            "Renamed: limnospira (75).txt → arthrospira (75).txt\n",
            "Renamed: limnospira (26).txt → arthrospira (26).txt\n",
            "Renamed: limnospira (62).txt → arthrospira (62).txt\n",
            "Renamed: limnospira (66).txt → arthrospira (66).txt\n",
            "Renamed: limnospira (55).txt → arthrospira (55).txt\n",
            "Renamed: limnospira (59).txt → arthrospira (59).txt\n",
            "Renamed: limnospira (42).txt → arthrospira (42).txt\n",
            "Renamed: limnospira (28).txt → arthrospira (28).txt\n",
            "Renamed: limnospira (37).txt → arthrospira (37).txt\n",
            "Renamed: limnospira (33).txt → arthrospira (33).txt\n",
            "Renamed: limnospira (51).txt → arthrospira (51).txt\n",
            "Renamed: limnospira (77).txt → arthrospira (77).txt\n",
            "Renamed: limnospira (68).txt → arthrospira (68).txt\n",
            "Renamed: limnospira (6).txt → arthrospira (6).txt\n",
            "Renamed: limnospira (24).txt → arthrospira (24).txt\n",
            "Renamed: limnospira (73).txt → arthrospira (73).txt\n",
            "Renamed: limnospira (19).txt → arthrospira (19).txt\n",
            "Renamed: limnospira (46).txt → arthrospira (46).txt\n",
            "Renamed: limnospira (79).txt → arthrospira (79).txt\n",
            "Renamed: limnospira (11).txt → arthrospira (11).txt\n",
            "Renamed: limnospira (20).txt → arthrospira (20).txt\n",
            "Renamed: limnospira (2).txt → arthrospira (2).txt\n",
            "Renamed: limnospira (80).txt → arthrospira (80).txt\n",
            "Renamed: limnospira (81).txt → arthrospira (81).txt\n",
            "Renamed: limnospira (82).txt → arthrospira (82).txt\n",
            "Renamed: limnospira (83).txt → arthrospira (83).txt\n",
            "Renamed: limnospira (84).txt → arthrospira (84).txt\n",
            "Renamed: limnospira (85).txt → arthrospira (85).txt\n",
            "Renamed: limnospira (86).txt → arthrospira (86).txt\n",
            "Renamed: limnospira (87).txt → arthrospira (87).txt\n",
            "Renamed: limnospira (88).txt → arthrospira (88).txt\n",
            "Renamed: limnospira (89).txt → arthrospira (89).txt\n",
            "Renamed: limnospira (90).txt → arthrospira (90).txt\n"
          ]
        }
      ]
    },
    {
      "cell_type": "code",
      "source": [
        "ROOT_DIR = '/content/drive/MyDrive/thesis'"
      ],
      "metadata": {
        "id": "iBHtviXKiLq7"
      },
      "execution_count": null,
      "outputs": []
    },
    {
      "cell_type": "code",
      "source": [
        "!pip install ultralytics"
      ],
      "metadata": {
        "colab": {
          "base_uri": "https://localhost:8080/"
        },
        "collapsed": true,
        "id": "Zg10if3gikBp",
        "outputId": "a8dc561b-81d7-43f2-8602-e1e1aa6532fa"
      },
      "execution_count": null,
      "outputs": [
        {
          "output_type": "stream",
          "name": "stdout",
          "text": [
            "Collecting ultralytics\n",
            "  Downloading ultralytics-8.3.129-py3-none-any.whl.metadata (37 kB)\n",
            "Requirement already satisfied: numpy>=1.23.0 in /usr/local/lib/python3.11/dist-packages (from ultralytics) (2.0.2)\n",
            "Requirement already satisfied: matplotlib>=3.3.0 in /usr/local/lib/python3.11/dist-packages (from ultralytics) (3.10.0)\n",
            "Requirement already satisfied: opencv-python>=4.6.0 in /usr/local/lib/python3.11/dist-packages (from ultralytics) (4.11.0.86)\n",
            "Requirement already satisfied: pillow>=7.1.2 in /usr/local/lib/python3.11/dist-packages (from ultralytics) (11.2.1)\n",
            "Requirement already satisfied: pyyaml>=5.3.1 in /usr/local/lib/python3.11/dist-packages (from ultralytics) (6.0.2)\n",
            "Requirement already satisfied: requests>=2.23.0 in /usr/local/lib/python3.11/dist-packages (from ultralytics) (2.32.3)\n",
            "Requirement already satisfied: scipy>=1.4.1 in /usr/local/lib/python3.11/dist-packages (from ultralytics) (1.15.2)\n",
            "Requirement already satisfied: torch>=1.8.0 in /usr/local/lib/python3.11/dist-packages (from ultralytics) (2.6.0+cu124)\n",
            "Requirement already satisfied: torchvision>=0.9.0 in /usr/local/lib/python3.11/dist-packages (from ultralytics) (0.21.0+cu124)\n",
            "Requirement already satisfied: tqdm>=4.64.0 in /usr/local/lib/python3.11/dist-packages (from ultralytics) (4.67.1)\n",
            "Requirement already satisfied: psutil in /usr/local/lib/python3.11/dist-packages (from ultralytics) (5.9.5)\n",
            "Requirement already satisfied: py-cpuinfo in /usr/local/lib/python3.11/dist-packages (from ultralytics) (9.0.0)\n",
            "Requirement already satisfied: pandas>=1.1.4 in /usr/local/lib/python3.11/dist-packages (from ultralytics) (2.2.2)\n",
            "Requirement already satisfied: seaborn>=0.11.0 in /usr/local/lib/python3.11/dist-packages (from ultralytics) (0.13.2)\n",
            "Collecting ultralytics-thop>=2.0.0 (from ultralytics)\n",
            "  Downloading ultralytics_thop-2.0.14-py3-none-any.whl.metadata (9.4 kB)\n",
            "Requirement already satisfied: contourpy>=1.0.1 in /usr/local/lib/python3.11/dist-packages (from matplotlib>=3.3.0->ultralytics) (1.3.2)\n",
            "Requirement already satisfied: cycler>=0.10 in /usr/local/lib/python3.11/dist-packages (from matplotlib>=3.3.0->ultralytics) (0.12.1)\n",
            "Requirement already satisfied: fonttools>=4.22.0 in /usr/local/lib/python3.11/dist-packages (from matplotlib>=3.3.0->ultralytics) (4.57.0)\n",
            "Requirement already satisfied: kiwisolver>=1.3.1 in /usr/local/lib/python3.11/dist-packages (from matplotlib>=3.3.0->ultralytics) (1.4.8)\n",
            "Requirement already satisfied: packaging>=20.0 in /usr/local/lib/python3.11/dist-packages (from matplotlib>=3.3.0->ultralytics) (24.2)\n",
            "Requirement already satisfied: pyparsing>=2.3.1 in /usr/local/lib/python3.11/dist-packages (from matplotlib>=3.3.0->ultralytics) (3.2.3)\n",
            "Requirement already satisfied: python-dateutil>=2.7 in /usr/local/lib/python3.11/dist-packages (from matplotlib>=3.3.0->ultralytics) (2.9.0.post0)\n",
            "Requirement already satisfied: pytz>=2020.1 in /usr/local/lib/python3.11/dist-packages (from pandas>=1.1.4->ultralytics) (2025.2)\n",
            "Requirement already satisfied: tzdata>=2022.7 in /usr/local/lib/python3.11/dist-packages (from pandas>=1.1.4->ultralytics) (2025.2)\n",
            "Requirement already satisfied: charset-normalizer<4,>=2 in /usr/local/lib/python3.11/dist-packages (from requests>=2.23.0->ultralytics) (3.4.1)\n",
            "Requirement already satisfied: idna<4,>=2.5 in /usr/local/lib/python3.11/dist-packages (from requests>=2.23.0->ultralytics) (3.10)\n",
            "Requirement already satisfied: urllib3<3,>=1.21.1 in /usr/local/lib/python3.11/dist-packages (from requests>=2.23.0->ultralytics) (2.4.0)\n",
            "Requirement already satisfied: certifi>=2017.4.17 in /usr/local/lib/python3.11/dist-packages (from requests>=2.23.0->ultralytics) (2025.4.26)\n",
            "Requirement already satisfied: filelock in /usr/local/lib/python3.11/dist-packages (from torch>=1.8.0->ultralytics) (3.18.0)\n",
            "Requirement already satisfied: typing-extensions>=4.10.0 in /usr/local/lib/python3.11/dist-packages (from torch>=1.8.0->ultralytics) (4.13.2)\n",
            "Requirement already satisfied: networkx in /usr/local/lib/python3.11/dist-packages (from torch>=1.8.0->ultralytics) (3.4.2)\n",
            "Requirement already satisfied: jinja2 in /usr/local/lib/python3.11/dist-packages (from torch>=1.8.0->ultralytics) (3.1.6)\n",
            "Requirement already satisfied: fsspec in /usr/local/lib/python3.11/dist-packages (from torch>=1.8.0->ultralytics) (2025.3.2)\n",
            "Collecting nvidia-cuda-nvrtc-cu12==12.4.127 (from torch>=1.8.0->ultralytics)\n",
            "  Downloading nvidia_cuda_nvrtc_cu12-12.4.127-py3-none-manylinux2014_x86_64.whl.metadata (1.5 kB)\n",
            "Collecting nvidia-cuda-runtime-cu12==12.4.127 (from torch>=1.8.0->ultralytics)\n",
            "  Downloading nvidia_cuda_runtime_cu12-12.4.127-py3-none-manylinux2014_x86_64.whl.metadata (1.5 kB)\n",
            "Collecting nvidia-cuda-cupti-cu12==12.4.127 (from torch>=1.8.0->ultralytics)\n",
            "  Downloading nvidia_cuda_cupti_cu12-12.4.127-py3-none-manylinux2014_x86_64.whl.metadata (1.6 kB)\n",
            "Collecting nvidia-cudnn-cu12==9.1.0.70 (from torch>=1.8.0->ultralytics)\n",
            "  Downloading nvidia_cudnn_cu12-9.1.0.70-py3-none-manylinux2014_x86_64.whl.metadata (1.6 kB)\n",
            "Collecting nvidia-cublas-cu12==12.4.5.8 (from torch>=1.8.0->ultralytics)\n",
            "  Downloading nvidia_cublas_cu12-12.4.5.8-py3-none-manylinux2014_x86_64.whl.metadata (1.5 kB)\n",
            "Collecting nvidia-cufft-cu12==11.2.1.3 (from torch>=1.8.0->ultralytics)\n",
            "  Downloading nvidia_cufft_cu12-11.2.1.3-py3-none-manylinux2014_x86_64.whl.metadata (1.5 kB)\n",
            "Collecting nvidia-curand-cu12==10.3.5.147 (from torch>=1.8.0->ultralytics)\n",
            "  Downloading nvidia_curand_cu12-10.3.5.147-py3-none-manylinux2014_x86_64.whl.metadata (1.5 kB)\n",
            "Collecting nvidia-cusolver-cu12==11.6.1.9 (from torch>=1.8.0->ultralytics)\n",
            "  Downloading nvidia_cusolver_cu12-11.6.1.9-py3-none-manylinux2014_x86_64.whl.metadata (1.6 kB)\n",
            "Collecting nvidia-cusparse-cu12==12.3.1.170 (from torch>=1.8.0->ultralytics)\n",
            "  Downloading nvidia_cusparse_cu12-12.3.1.170-py3-none-manylinux2014_x86_64.whl.metadata (1.6 kB)\n",
            "Requirement already satisfied: nvidia-cusparselt-cu12==0.6.2 in /usr/local/lib/python3.11/dist-packages (from torch>=1.8.0->ultralytics) (0.6.2)\n",
            "Requirement already satisfied: nvidia-nccl-cu12==2.21.5 in /usr/local/lib/python3.11/dist-packages (from torch>=1.8.0->ultralytics) (2.21.5)\n",
            "Requirement already satisfied: nvidia-nvtx-cu12==12.4.127 in /usr/local/lib/python3.11/dist-packages (from torch>=1.8.0->ultralytics) (12.4.127)\n",
            "Collecting nvidia-nvjitlink-cu12==12.4.127 (from torch>=1.8.0->ultralytics)\n",
            "  Downloading nvidia_nvjitlink_cu12-12.4.127-py3-none-manylinux2014_x86_64.whl.metadata (1.5 kB)\n",
            "Requirement already satisfied: triton==3.2.0 in /usr/local/lib/python3.11/dist-packages (from torch>=1.8.0->ultralytics) (3.2.0)\n",
            "Requirement already satisfied: sympy==1.13.1 in /usr/local/lib/python3.11/dist-packages (from torch>=1.8.0->ultralytics) (1.13.1)\n",
            "Requirement already satisfied: mpmath<1.4,>=1.1.0 in /usr/local/lib/python3.11/dist-packages (from sympy==1.13.1->torch>=1.8.0->ultralytics) (1.3.0)\n",
            "Requirement already satisfied: six>=1.5 in /usr/local/lib/python3.11/dist-packages (from python-dateutil>=2.7->matplotlib>=3.3.0->ultralytics) (1.17.0)\n",
            "Requirement already satisfied: MarkupSafe>=2.0 in /usr/local/lib/python3.11/dist-packages (from jinja2->torch>=1.8.0->ultralytics) (3.0.2)\n",
            "Downloading ultralytics-8.3.129-py3-none-any.whl (1.0 MB)\n",
            "\u001b[2K   \u001b[90m━━━━━━━━━━━━━━━━━━━━━━━━━━━━━━━━━━━━━━━━\u001b[0m \u001b[32m1.0/1.0 MB\u001b[0m \u001b[31m16.0 MB/s\u001b[0m eta \u001b[36m0:00:00\u001b[0m\n",
            "\u001b[?25hDownloading nvidia_cublas_cu12-12.4.5.8-py3-none-manylinux2014_x86_64.whl (363.4 MB)\n",
            "\u001b[2K   \u001b[90m━━━━━━━━━━━━━━━━━━━━━━━━━━━━━━━━━━━━━━━━\u001b[0m \u001b[32m363.4/363.4 MB\u001b[0m \u001b[31m1.2 MB/s\u001b[0m eta \u001b[36m0:00:00\u001b[0m\n",
            "\u001b[?25hDownloading nvidia_cuda_cupti_cu12-12.4.127-py3-none-manylinux2014_x86_64.whl (13.8 MB)\n",
            "\u001b[2K   \u001b[90m━━━━━━━━━━━━━━━━━━━━━━━━━━━━━━━━━━━━━━━━\u001b[0m \u001b[32m13.8/13.8 MB\u001b[0m \u001b[31m50.1 MB/s\u001b[0m eta \u001b[36m0:00:00\u001b[0m\n",
            "\u001b[?25hDownloading nvidia_cuda_nvrtc_cu12-12.4.127-py3-none-manylinux2014_x86_64.whl (24.6 MB)\n",
            "\u001b[2K   \u001b[90m━━━━━━━━━━━━━━━━━━━━━━━━━━━━━━━━━━━━━━━━\u001b[0m \u001b[32m24.6/24.6 MB\u001b[0m \u001b[31m23.7 MB/s\u001b[0m eta \u001b[36m0:00:00\u001b[0m\n",
            "\u001b[?25hDownloading nvidia_cuda_runtime_cu12-12.4.127-py3-none-manylinux2014_x86_64.whl (883 kB)\n",
            "\u001b[2K   \u001b[90m━━━━━━━━━━━━━━━━━━━━━━━━━━━━━━━━━━━━━━━━\u001b[0m \u001b[32m883.7/883.7 kB\u001b[0m \u001b[31m20.3 MB/s\u001b[0m eta \u001b[36m0:00:00\u001b[0m\n",
            "\u001b[?25hDownloading nvidia_cudnn_cu12-9.1.0.70-py3-none-manylinux2014_x86_64.whl (664.8 MB)\n",
            "\u001b[2K   \u001b[90m━━━━━━━━━━━━━━━━━━━━━━━━━━━━━━━━━━━━━━━\u001b[0m \u001b[32m664.8/664.8 MB\u001b[0m \u001b[31m850.7 kB/s\u001b[0m eta \u001b[36m0:00:00\u001b[0m\n",
            "\u001b[?25hDownloading nvidia_cufft_cu12-11.2.1.3-py3-none-manylinux2014_x86_64.whl (211.5 MB)\n",
            "\u001b[2K   \u001b[90m━━━━━━━━━━━━━━━━━━━━━━━━━━━━━━━━━━━━━━━━\u001b[0m \u001b[32m211.5/211.5 MB\u001b[0m \u001b[31m5.6 MB/s\u001b[0m eta \u001b[36m0:00:00\u001b[0m\n",
            "\u001b[?25hDownloading nvidia_curand_cu12-10.3.5.147-py3-none-manylinux2014_x86_64.whl (56.3 MB)\n",
            "\u001b[2K   \u001b[90m━━━━━━━━━━━━━━━━━━━━━━━━━━━━━━━━━━━━━━━━\u001b[0m \u001b[32m56.3/56.3 MB\u001b[0m \u001b[31m11.4 MB/s\u001b[0m eta \u001b[36m0:00:00\u001b[0m\n",
            "\u001b[?25hDownloading nvidia_cusolver_cu12-11.6.1.9-py3-none-manylinux2014_x86_64.whl (127.9 MB)\n",
            "\u001b[2K   \u001b[90m━━━━━━━━━━━━━━━━━━━━━━━━━━━━━━━━━━━━━━━━\u001b[0m \u001b[32m127.9/127.9 MB\u001b[0m \u001b[31m6.5 MB/s\u001b[0m eta \u001b[36m0:00:00\u001b[0m\n",
            "\u001b[?25hDownloading nvidia_cusparse_cu12-12.3.1.170-py3-none-manylinux2014_x86_64.whl (207.5 MB)\n",
            "\u001b[2K   \u001b[90m━━━━━━━━━━━━━━━━━━━━━━━━━━━━━━━━━━━━━━━━\u001b[0m \u001b[32m207.5/207.5 MB\u001b[0m \u001b[31m6.2 MB/s\u001b[0m eta \u001b[36m0:00:00\u001b[0m\n",
            "\u001b[?25hDownloading nvidia_nvjitlink_cu12-12.4.127-py3-none-manylinux2014_x86_64.whl (21.1 MB)\n",
            "\u001b[2K   \u001b[90m━━━━━━━━━━━━━━━━━━━━━━━━━━━━━━━━━━━━━━━━\u001b[0m \u001b[32m21.1/21.1 MB\u001b[0m \u001b[31m85.5 MB/s\u001b[0m eta \u001b[36m0:00:00\u001b[0m\n",
            "\u001b[?25hDownloading ultralytics_thop-2.0.14-py3-none-any.whl (26 kB)\n",
            "Installing collected packages: nvidia-nvjitlink-cu12, nvidia-curand-cu12, nvidia-cufft-cu12, nvidia-cuda-runtime-cu12, nvidia-cuda-nvrtc-cu12, nvidia-cuda-cupti-cu12, nvidia-cublas-cu12, nvidia-cusparse-cu12, nvidia-cudnn-cu12, nvidia-cusolver-cu12, ultralytics-thop, ultralytics\n",
            "  Attempting uninstall: nvidia-nvjitlink-cu12\n",
            "    Found existing installation: nvidia-nvjitlink-cu12 12.5.82\n",
            "    Uninstalling nvidia-nvjitlink-cu12-12.5.82:\n",
            "      Successfully uninstalled nvidia-nvjitlink-cu12-12.5.82\n",
            "  Attempting uninstall: nvidia-curand-cu12\n",
            "    Found existing installation: nvidia-curand-cu12 10.3.6.82\n",
            "    Uninstalling nvidia-curand-cu12-10.3.6.82:\n",
            "      Successfully uninstalled nvidia-curand-cu12-10.3.6.82\n",
            "  Attempting uninstall: nvidia-cufft-cu12\n",
            "    Found existing installation: nvidia-cufft-cu12 11.2.3.61\n",
            "    Uninstalling nvidia-cufft-cu12-11.2.3.61:\n",
            "      Successfully uninstalled nvidia-cufft-cu12-11.2.3.61\n",
            "  Attempting uninstall: nvidia-cuda-runtime-cu12\n",
            "    Found existing installation: nvidia-cuda-runtime-cu12 12.5.82\n",
            "    Uninstalling nvidia-cuda-runtime-cu12-12.5.82:\n",
            "      Successfully uninstalled nvidia-cuda-runtime-cu12-12.5.82\n",
            "  Attempting uninstall: nvidia-cuda-nvrtc-cu12\n",
            "    Found existing installation: nvidia-cuda-nvrtc-cu12 12.5.82\n",
            "    Uninstalling nvidia-cuda-nvrtc-cu12-12.5.82:\n",
            "      Successfully uninstalled nvidia-cuda-nvrtc-cu12-12.5.82\n",
            "  Attempting uninstall: nvidia-cuda-cupti-cu12\n",
            "    Found existing installation: nvidia-cuda-cupti-cu12 12.5.82\n",
            "    Uninstalling nvidia-cuda-cupti-cu12-12.5.82:\n",
            "      Successfully uninstalled nvidia-cuda-cupti-cu12-12.5.82\n",
            "  Attempting uninstall: nvidia-cublas-cu12\n",
            "    Found existing installation: nvidia-cublas-cu12 12.5.3.2\n",
            "    Uninstalling nvidia-cublas-cu12-12.5.3.2:\n",
            "      Successfully uninstalled nvidia-cublas-cu12-12.5.3.2\n",
            "  Attempting uninstall: nvidia-cusparse-cu12\n",
            "    Found existing installation: nvidia-cusparse-cu12 12.5.1.3\n",
            "    Uninstalling nvidia-cusparse-cu12-12.5.1.3:\n",
            "      Successfully uninstalled nvidia-cusparse-cu12-12.5.1.3\n",
            "  Attempting uninstall: nvidia-cudnn-cu12\n",
            "    Found existing installation: nvidia-cudnn-cu12 9.3.0.75\n",
            "    Uninstalling nvidia-cudnn-cu12-9.3.0.75:\n",
            "      Successfully uninstalled nvidia-cudnn-cu12-9.3.0.75\n",
            "  Attempting uninstall: nvidia-cusolver-cu12\n",
            "    Found existing installation: nvidia-cusolver-cu12 11.6.3.83\n",
            "    Uninstalling nvidia-cusolver-cu12-11.6.3.83:\n",
            "      Successfully uninstalled nvidia-cusolver-cu12-11.6.3.83\n",
            "Successfully installed nvidia-cublas-cu12-12.4.5.8 nvidia-cuda-cupti-cu12-12.4.127 nvidia-cuda-nvrtc-cu12-12.4.127 nvidia-cuda-runtime-cu12-12.4.127 nvidia-cudnn-cu12-9.1.0.70 nvidia-cufft-cu12-11.2.1.3 nvidia-curand-cu12-10.3.5.147 nvidia-cusolver-cu12-11.6.1.9 nvidia-cusparse-cu12-12.3.1.170 nvidia-nvjitlink-cu12-12.4.127 ultralytics-8.3.129 ultralytics-thop-2.0.14\n"
          ]
        }
      ]
    },
    {
      "cell_type": "code",
      "source": [
        "import os\n",
        "from ultralytics import YOLO"
      ],
      "metadata": {
        "id": "viE3ZtlKlN4l",
        "collapsed": true,
        "colab": {
          "base_uri": "https://localhost:8080/"
        },
        "outputId": "f34a45be-875e-4fee-9d4f-d2e9f533dd20"
      },
      "execution_count": null,
      "outputs": [
        {
          "output_type": "stream",
          "name": "stdout",
          "text": [
            "Creating new Ultralytics Settings v0.0.6 file ✅ \n",
            "View Ultralytics Settings with 'yolo settings' or at '/root/.config/Ultralytics/settings.json'\n",
            "Update Settings with 'yolo settings key=value', i.e. 'yolo settings runs_dir=path/to/dir'. For help see https://docs.ultralytics.com/quickstart/#ultralytics-settings.\n"
          ]
        }
      ]
    },
    {
      "cell_type": "code",
      "source": [
        "model = YOLO('yolov8m.pt')  # build a new model from scratch\n",
        "\n"
      ],
      "metadata": {
        "id": "OLXRvA1GQTv7",
        "colab": {
          "base_uri": "https://localhost:8080/"
        },
        "outputId": "66ac1d82-6246-4594-927f-22cc5766764c"
      },
      "execution_count": null,
      "outputs": [
        {
          "output_type": "stream",
          "name": "stdout",
          "text": [
            "Downloading https://github.com/ultralytics/assets/releases/download/v8.3.0/yolov8m.pt to 'yolov8m.pt'...\n"
          ]
        },
        {
          "output_type": "stream",
          "name": "stderr",
          "text": [
            "100%|██████████| 49.7M/49.7M [00:00<00:00, 568MB/s]\n"
          ]
        }
      ]
    },
    {
      "cell_type": "code",
      "source": [
        "results = model.train(data=os.path.join(ROOT_DIR, 'config.yml'), epochs=200)  # train the model"
      ],
      "metadata": {
        "colab": {
          "base_uri": "https://localhost:8080/"
        },
        "id": "q3_YFPuqQmJ6",
        "outputId": "7846034f-d392-45a7-905c-f488fff6e491",
        "collapsed": true
      },
      "execution_count": null,
      "outputs": [
        {
          "output_type": "stream",
          "name": "stdout",
          "text": [
            "Ultralytics 8.3.28 🚀 Python-3.10.12 torch-2.5.0+cu121 CUDA:0 (NVIDIA L4, 22700MiB)\n",
            "\u001b[34m\u001b[1mengine/trainer: \u001b[0mtask=detect, mode=train, model=yolov8m.pt, data=/content/drive/MyDrive/thesis/config.yml, epochs=200, time=None, patience=100, batch=16, imgsz=640, save=True, save_period=-1, cache=False, device=None, workers=8, project=None, name=train2, exist_ok=False, pretrained=True, optimizer=auto, verbose=True, seed=0, deterministic=True, single_cls=False, rect=False, cos_lr=False, close_mosaic=10, resume=False, amp=True, fraction=1.0, profile=False, freeze=None, multi_scale=False, overlap_mask=True, mask_ratio=4, dropout=0.0, val=True, split=val, save_json=False, save_hybrid=False, conf=None, iou=0.7, max_det=300, half=False, dnn=False, plots=True, source=None, vid_stride=1, stream_buffer=False, visualize=False, augment=False, agnostic_nms=False, classes=None, retina_masks=False, embed=None, show=False, save_frames=False, save_txt=False, save_conf=False, save_crop=False, show_labels=True, show_conf=True, show_boxes=True, line_width=None, format=torchscript, keras=False, optimize=False, int8=False, dynamic=False, simplify=True, opset=None, workspace=4, nms=False, lr0=0.01, lrf=0.01, momentum=0.937, weight_decay=0.0005, warmup_epochs=3.0, warmup_momentum=0.8, warmup_bias_lr=0.1, box=7.5, cls=0.5, dfl=1.5, pose=12.0, kobj=1.0, label_smoothing=0.0, nbs=64, hsv_h=0.015, hsv_s=0.7, hsv_v=0.4, degrees=0.0, translate=0.1, scale=0.5, shear=0.0, perspective=0.0, flipud=0.0, fliplr=0.5, bgr=0.0, mosaic=1.0, mixup=0.0, copy_paste=0.0, copy_paste_mode=flip, auto_augment=randaugment, erasing=0.4, crop_fraction=1.0, cfg=None, tracker=botsort.yaml, save_dir=runs/detect/train2\n",
            "Overriding model.yaml nc=80 with nc=3\n",
            "\n",
            "                   from  n    params  module                                       arguments                     \n",
            "  0                  -1  1      1392  ultralytics.nn.modules.conv.Conv             [3, 48, 3, 2]                 \n",
            "  1                  -1  1     41664  ultralytics.nn.modules.conv.Conv             [48, 96, 3, 2]                \n",
            "  2                  -1  2    111360  ultralytics.nn.modules.block.C2f             [96, 96, 2, True]             \n",
            "  3                  -1  1    166272  ultralytics.nn.modules.conv.Conv             [96, 192, 3, 2]               \n",
            "  4                  -1  4    813312  ultralytics.nn.modules.block.C2f             [192, 192, 4, True]           \n",
            "  5                  -1  1    664320  ultralytics.nn.modules.conv.Conv             [192, 384, 3, 2]              \n",
            "  6                  -1  4   3248640  ultralytics.nn.modules.block.C2f             [384, 384, 4, True]           \n",
            "  7                  -1  1   1991808  ultralytics.nn.modules.conv.Conv             [384, 576, 3, 2]              \n",
            "  8                  -1  2   3985920  ultralytics.nn.modules.block.C2f             [576, 576, 2, True]           \n",
            "  9                  -1  1    831168  ultralytics.nn.modules.block.SPPF            [576, 576, 5]                 \n",
            " 10                  -1  1         0  torch.nn.modules.upsampling.Upsample         [None, 2, 'nearest']          \n",
            " 11             [-1, 6]  1         0  ultralytics.nn.modules.conv.Concat           [1]                           \n",
            " 12                  -1  2   1993728  ultralytics.nn.modules.block.C2f             [960, 384, 2]                 \n",
            " 13                  -1  1         0  torch.nn.modules.upsampling.Upsample         [None, 2, 'nearest']          \n",
            " 14             [-1, 4]  1         0  ultralytics.nn.modules.conv.Concat           [1]                           \n",
            " 15                  -1  2    517632  ultralytics.nn.modules.block.C2f             [576, 192, 2]                 \n",
            " 16                  -1  1    332160  ultralytics.nn.modules.conv.Conv             [192, 192, 3, 2]              \n",
            " 17            [-1, 12]  1         0  ultralytics.nn.modules.conv.Concat           [1]                           \n",
            " 18                  -1  2   1846272  ultralytics.nn.modules.block.C2f             [576, 384, 2]                 \n",
            " 19                  -1  1   1327872  ultralytics.nn.modules.conv.Conv             [384, 384, 3, 2]              \n",
            " 20             [-1, 9]  1         0  ultralytics.nn.modules.conv.Concat           [1]                           \n",
            " 21                  -1  2   4207104  ultralytics.nn.modules.block.C2f             [960, 576, 2]                 \n",
            " 22        [15, 18, 21]  1   3777433  ultralytics.nn.modules.head.Detect           [3, [192, 384, 576]]          \n",
            "Model summary: 295 layers, 25,858,057 parameters, 25,858,041 gradients, 79.1 GFLOPs\n",
            "\n",
            "Transferred 469/475 items from pretrained weights\n",
            "\u001b[34m\u001b[1mTensorBoard: \u001b[0mStart with 'tensorboard --logdir runs/detect/train2', view at http://localhost:6006/\n",
            "Freezing layer 'model.22.dfl.conv.weight'\n",
            "\u001b[34m\u001b[1mAMP: \u001b[0mrunning Automatic Mixed Precision (AMP) checks...\n",
            "\u001b[34m\u001b[1mAMP: \u001b[0mchecks passed ✅\n"
          ]
        },
        {
          "output_type": "stream",
          "name": "stderr",
          "text": [
            "\u001b[34m\u001b[1mtrain: \u001b[0mScanning /content/drive/MyDrive/thesis/data/labels/train.cache... 210 images, 5 backgrounds, 0 corrupt: 100%|██████████| 213/213 [00:00<?, ?it/s]\n"
          ]
        },
        {
          "output_type": "stream",
          "name": "stdout",
          "text": [
            "\u001b[34m\u001b[1malbumentations: \u001b[0mBlur(p=0.01, blur_limit=(3, 7)), MedianBlur(p=0.01, blur_limit=(3, 7)), ToGray(p=0.01, num_output_channels=3, method='weighted_average'), CLAHE(p=0.01, clip_limit=(1.0, 4.0), tile_grid_size=(8, 8))\n"
          ]
        },
        {
          "output_type": "stream",
          "name": "stderr",
          "text": [
            "/usr/local/lib/python3.10/dist-packages/albumentations/__init__.py:24: UserWarning: A new version of Albumentations is available: 1.4.21 (you have 1.4.20). Upgrade using: pip install -U albumentations. To disable automatic update checks, set the environment variable NO_ALBUMENTATIONS_UPDATE to 1.\n",
            "  check_for_updates()\n",
            "\u001b[34m\u001b[1mval: \u001b[0mScanning /content/drive/MyDrive/thesis/data/labels/train.cache... 210 images, 5 backgrounds, 0 corrupt: 100%|██████████| 213/213 [00:00<?, ?it/s]\n"
          ]
        },
        {
          "output_type": "stream",
          "name": "stdout",
          "text": [
            "Plotting labels to runs/detect/train2/labels.jpg... \n",
            "\u001b[34m\u001b[1moptimizer:\u001b[0m 'optimizer=auto' found, ignoring 'lr0=0.01' and 'momentum=0.937' and determining best 'optimizer', 'lr0' and 'momentum' automatically... \n",
            "\u001b[34m\u001b[1moptimizer:\u001b[0m AdamW(lr=0.001429, momentum=0.9) with parameter groups 77 weight(decay=0.0), 84 weight(decay=0.0005), 83 bias(decay=0.0)\n",
            "\u001b[34m\u001b[1mTensorBoard: \u001b[0mmodel graph visualization added ✅\n",
            "Image sizes 640 train, 640 val\n",
            "Using 8 dataloader workers\n",
            "Logging results to \u001b[1mruns/detect/train2\u001b[0m\n",
            "Starting training for 200 epochs...\n",
            "\n",
            "      Epoch    GPU_mem   box_loss   cls_loss   dfl_loss  Instances       Size\n"
          ]
        },
        {
          "output_type": "stream",
          "name": "stderr",
          "text": [
            "      1/200      7.08G      1.376      3.009      1.516         22        640: 100%|██████████| 14/14 [00:05<00:00,  2.78it/s]\n",
            "                 Class     Images  Instances      Box(P          R      mAP50  mAP50-95): 100%|██████████| 7/7 [00:02<00:00,  2.67it/s]"
          ]
        },
        {
          "output_type": "stream",
          "name": "stdout",
          "text": [
            "                   all        213        496        0.5      0.368      0.364      0.227\n"
          ]
        },
        {
          "output_type": "stream",
          "name": "stderr",
          "text": [
            "\n"
          ]
        },
        {
          "output_type": "stream",
          "name": "stdout",
          "text": [
            "\n",
            "      Epoch    GPU_mem   box_loss   cls_loss   dfl_loss  Instances       Size\n"
          ]
        },
        {
          "output_type": "stream",
          "name": "stderr",
          "text": [
            "      2/200      6.97G      1.344      2.107      1.444         20        640: 100%|██████████| 14/14 [00:04<00:00,  3.36it/s]\n",
            "                 Class     Images  Instances      Box(P          R      mAP50  mAP50-95): 100%|██████████| 7/7 [00:01<00:00,  3.88it/s]\n"
          ]
        },
        {
          "output_type": "stream",
          "name": "stdout",
          "text": [
            "                   all        213        496      0.358      0.397      0.175     0.0998\n",
            "\n",
            "      Epoch    GPU_mem   box_loss   cls_loss   dfl_loss  Instances       Size\n"
          ]
        },
        {
          "output_type": "stream",
          "name": "stderr",
          "text": [
            "      3/200      7.15G      1.387      1.944      1.438         25        640: 100%|██████████| 14/14 [00:04<00:00,  3.29it/s]\n",
            "                 Class     Images  Instances      Box(P          R      mAP50  mAP50-95): 100%|██████████| 7/7 [00:01<00:00,  4.08it/s]\n"
          ]
        },
        {
          "output_type": "stream",
          "name": "stdout",
          "text": [
            "                   all        213        496      0.189      0.443      0.101     0.0481\n",
            "\n",
            "      Epoch    GPU_mem   box_loss   cls_loss   dfl_loss  Instances       Size\n"
          ]
        },
        {
          "output_type": "stream",
          "name": "stderr",
          "text": [
            "      4/200      7.14G      1.423      1.802      1.489         28        640: 100%|██████████| 14/14 [00:04<00:00,  3.40it/s]\n",
            "                 Class     Images  Instances      Box(P          R      mAP50  mAP50-95): 100%|██████████| 7/7 [00:01<00:00,  3.86it/s]\n"
          ]
        },
        {
          "output_type": "stream",
          "name": "stdout",
          "text": [
            "                   all        213        496      0.111      0.278     0.0608     0.0282\n",
            "\n",
            "      Epoch    GPU_mem   box_loss   cls_loss   dfl_loss  Instances       Size\n"
          ]
        },
        {
          "output_type": "stream",
          "name": "stderr",
          "text": [
            "      5/200      7.13G       1.44      1.794      1.485         27        640: 100%|██████████| 14/14 [00:04<00:00,  3.43it/s]\n",
            "                 Class     Images  Instances      Box(P          R      mAP50  mAP50-95): 100%|██████████| 7/7 [00:01<00:00,  4.02it/s]\n"
          ]
        },
        {
          "output_type": "stream",
          "name": "stdout",
          "text": [
            "                   all        213        496      0.337      0.122    0.00243   0.000768\n",
            "\n",
            "      Epoch    GPU_mem   box_loss   cls_loss   dfl_loss  Instances       Size\n"
          ]
        },
        {
          "output_type": "stream",
          "name": "stderr",
          "text": [
            "      6/200      7.13G      1.563      1.858      1.605         23        640: 100%|██████████| 14/14 [00:04<00:00,  3.42it/s]\n",
            "                 Class     Images  Instances      Box(P          R      mAP50  mAP50-95): 100%|██████████| 7/7 [00:01<00:00,  3.84it/s]\n"
          ]
        },
        {
          "output_type": "stream",
          "name": "stdout",
          "text": [
            "                   all        213        496     0.0154      0.201    0.00883    0.00367\n",
            "\n",
            "      Epoch    GPU_mem   box_loss   cls_loss   dfl_loss  Instances       Size\n"
          ]
        },
        {
          "output_type": "stream",
          "name": "stderr",
          "text": [
            "      7/200      7.02G      1.519      1.884      1.552         17        640: 100%|██████████| 14/14 [00:04<00:00,  3.46it/s]\n",
            "                 Class     Images  Instances      Box(P          R      mAP50  mAP50-95): 100%|██████████| 7/7 [00:01<00:00,  3.78it/s]\n"
          ]
        },
        {
          "output_type": "stream",
          "name": "stdout",
          "text": [
            "                   all        213        496      0.123      0.232     0.0792     0.0386\n",
            "\n",
            "      Epoch    GPU_mem   box_loss   cls_loss   dfl_loss  Instances       Size\n"
          ]
        },
        {
          "output_type": "stream",
          "name": "stderr",
          "text": [
            "      8/200      7.11G      1.566      1.889      1.623         26        640: 100%|██████████| 14/14 [00:04<00:00,  3.43it/s]\n",
            "                 Class     Images  Instances      Box(P          R      mAP50  mAP50-95): 100%|██████████| 7/7 [00:01<00:00,  4.04it/s]\n"
          ]
        },
        {
          "output_type": "stream",
          "name": "stdout",
          "text": [
            "                   all        213        496      0.388       0.11     0.0481     0.0228\n",
            "\n",
            "      Epoch    GPU_mem   box_loss   cls_loss   dfl_loss  Instances       Size\n"
          ]
        },
        {
          "output_type": "stream",
          "name": "stderr",
          "text": [
            "      9/200         7G      1.531      1.709      1.546         23        640: 100%|██████████| 14/14 [00:04<00:00,  3.43it/s]\n",
            "                 Class     Images  Instances      Box(P          R      mAP50  mAP50-95): 100%|██████████| 7/7 [00:01<00:00,  3.69it/s]\n"
          ]
        },
        {
          "output_type": "stream",
          "name": "stdout",
          "text": [
            "                   all        213        496     0.0599      0.303     0.0343      0.014\n",
            "\n",
            "      Epoch    GPU_mem   box_loss   cls_loss   dfl_loss  Instances       Size\n"
          ]
        },
        {
          "output_type": "stream",
          "name": "stderr",
          "text": [
            "     10/200      7.11G      1.542      1.694      1.554         18        640: 100%|██████████| 14/14 [00:04<00:00,  3.43it/s]\n",
            "                 Class     Images  Instances      Box(P          R      mAP50  mAP50-95): 100%|██████████| 7/7 [00:01<00:00,  4.16it/s]"
          ]
        },
        {
          "output_type": "stream",
          "name": "stdout",
          "text": [
            "                   all        213        496      0.371      0.364      0.283      0.146\n"
          ]
        },
        {
          "output_type": "stream",
          "name": "stderr",
          "text": [
            "\n"
          ]
        },
        {
          "output_type": "stream",
          "name": "stdout",
          "text": [
            "\n",
            "      Epoch    GPU_mem   box_loss   cls_loss   dfl_loss  Instances       Size\n"
          ]
        },
        {
          "output_type": "stream",
          "name": "stderr",
          "text": [
            "     11/200      7.03G      1.453      1.637      1.517         22        640: 100%|██████████| 14/14 [00:04<00:00,  3.42it/s]\n",
            "                 Class     Images  Instances      Box(P          R      mAP50  mAP50-95): 100%|██████████| 7/7 [00:01<00:00,  3.89it/s]\n"
          ]
        },
        {
          "output_type": "stream",
          "name": "stdout",
          "text": [
            "                   all        213        496      0.209      0.422      0.152       0.07\n",
            "\n",
            "      Epoch    GPU_mem   box_loss   cls_loss   dfl_loss  Instances       Size\n"
          ]
        },
        {
          "output_type": "stream",
          "name": "stderr",
          "text": [
            "     12/200      7.09G      1.474      1.642      1.549         17        640: 100%|██████████| 14/14 [00:04<00:00,  3.42it/s]\n",
            "                 Class     Images  Instances      Box(P          R      mAP50  mAP50-95): 100%|██████████| 7/7 [00:01<00:00,  4.09it/s]"
          ]
        },
        {
          "output_type": "stream",
          "name": "stdout",
          "text": [
            "                   all        213        496     0.0388       0.27      0.036     0.0209\n"
          ]
        },
        {
          "output_type": "stream",
          "name": "stderr",
          "text": [
            "\n"
          ]
        },
        {
          "output_type": "stream",
          "name": "stdout",
          "text": [
            "\n",
            "      Epoch    GPU_mem   box_loss   cls_loss   dfl_loss  Instances       Size\n"
          ]
        },
        {
          "output_type": "stream",
          "name": "stderr",
          "text": [
            "     13/200      7.09G      1.491      1.543      1.484         23        640: 100%|██████████| 14/14 [00:04<00:00,  3.45it/s]\n",
            "                 Class     Images  Instances      Box(P          R      mAP50  mAP50-95): 100%|██████████| 7/7 [00:01<00:00,  4.02it/s]\n"
          ]
        },
        {
          "output_type": "stream",
          "name": "stdout",
          "text": [
            "                   all        213        496      0.152      0.289      0.151     0.0776\n",
            "\n",
            "      Epoch    GPU_mem   box_loss   cls_loss   dfl_loss  Instances       Size\n"
          ]
        },
        {
          "output_type": "stream",
          "name": "stderr",
          "text": [
            "     14/200      7.11G      1.496       1.58       1.52         22        640: 100%|██████████| 14/14 [00:04<00:00,  3.43it/s]\n",
            "                 Class     Images  Instances      Box(P          R      mAP50  mAP50-95): 100%|██████████| 7/7 [00:01<00:00,  4.25it/s]"
          ]
        },
        {
          "output_type": "stream",
          "name": "stdout",
          "text": [
            "                   all        213        496      0.424      0.476      0.347      0.189\n"
          ]
        },
        {
          "output_type": "stream",
          "name": "stderr",
          "text": [
            "\n"
          ]
        },
        {
          "output_type": "stream",
          "name": "stdout",
          "text": [
            "\n",
            "      Epoch    GPU_mem   box_loss   cls_loss   dfl_loss  Instances       Size\n"
          ]
        },
        {
          "output_type": "stream",
          "name": "stderr",
          "text": [
            "     15/200      7.05G      1.416      1.476      1.458         19        640: 100%|██████████| 14/14 [00:04<00:00,  3.46it/s]\n",
            "                 Class     Images  Instances      Box(P          R      mAP50  mAP50-95): 100%|██████████| 7/7 [00:01<00:00,  3.97it/s]"
          ]
        },
        {
          "output_type": "stream",
          "name": "stdout",
          "text": [
            "                   all        213        496      0.439      0.443      0.414      0.238\n"
          ]
        },
        {
          "output_type": "stream",
          "name": "stderr",
          "text": [
            "\n"
          ]
        },
        {
          "output_type": "stream",
          "name": "stdout",
          "text": [
            "\n",
            "      Epoch    GPU_mem   box_loss   cls_loss   dfl_loss  Instances       Size\n"
          ]
        },
        {
          "output_type": "stream",
          "name": "stderr",
          "text": [
            "     16/200      7.14G      1.406      1.458      1.475         21        640: 100%|██████████| 14/14 [00:04<00:00,  3.41it/s]\n",
            "                 Class     Images  Instances      Box(P          R      mAP50  mAP50-95): 100%|██████████| 7/7 [00:01<00:00,  4.21it/s]"
          ]
        },
        {
          "output_type": "stream",
          "name": "stdout",
          "text": [
            "                   all        213        496      0.357      0.419      0.329      0.183\n"
          ]
        },
        {
          "output_type": "stream",
          "name": "stderr",
          "text": [
            "\n"
          ]
        },
        {
          "output_type": "stream",
          "name": "stdout",
          "text": [
            "\n",
            "      Epoch    GPU_mem   box_loss   cls_loss   dfl_loss  Instances       Size\n"
          ]
        },
        {
          "output_type": "stream",
          "name": "stderr",
          "text": [
            "     17/200      7.12G      1.439      1.452      1.482         11        640: 100%|██████████| 14/14 [00:04<00:00,  3.46it/s]\n",
            "                 Class     Images  Instances      Box(P          R      mAP50  mAP50-95): 100%|██████████| 7/7 [00:01<00:00,  4.22it/s]"
          ]
        },
        {
          "output_type": "stream",
          "name": "stdout",
          "text": [
            "                   all        213        496      0.444      0.427      0.399      0.223\n"
          ]
        },
        {
          "output_type": "stream",
          "name": "stderr",
          "text": [
            "\n"
          ]
        },
        {
          "output_type": "stream",
          "name": "stdout",
          "text": [
            "\n",
            "      Epoch    GPU_mem   box_loss   cls_loss   dfl_loss  Instances       Size\n"
          ]
        },
        {
          "output_type": "stream",
          "name": "stderr",
          "text": [
            "     18/200      7.11G      1.437      1.525      1.511         23        640: 100%|██████████| 14/14 [00:04<00:00,  3.45it/s]\n",
            "                 Class     Images  Instances      Box(P          R      mAP50  mAP50-95): 100%|██████████| 7/7 [00:01<00:00,  3.98it/s]\n"
          ]
        },
        {
          "output_type": "stream",
          "name": "stdout",
          "text": [
            "                   all        213        496      0.616      0.552      0.547      0.305\n",
            "\n",
            "      Epoch    GPU_mem   box_loss   cls_loss   dfl_loss  Instances       Size\n"
          ]
        },
        {
          "output_type": "stream",
          "name": "stderr",
          "text": [
            "     19/200      7.04G      1.399      1.438      1.474         19        640: 100%|██████████| 14/14 [00:04<00:00,  3.47it/s]\n",
            "                 Class     Images  Instances      Box(P          R      mAP50  mAP50-95): 100%|██████████| 7/7 [00:01<00:00,  4.11it/s]"
          ]
        },
        {
          "output_type": "stream",
          "name": "stdout",
          "text": [
            "                   all        213        496      0.629      0.538      0.614      0.374\n"
          ]
        },
        {
          "output_type": "stream",
          "name": "stderr",
          "text": [
            "\n"
          ]
        },
        {
          "output_type": "stream",
          "name": "stdout",
          "text": [
            "\n",
            "      Epoch    GPU_mem   box_loss   cls_loss   dfl_loss  Instances       Size\n"
          ]
        },
        {
          "output_type": "stream",
          "name": "stderr",
          "text": [
            "     20/200      7.13G      1.371      1.434      1.467         54        640: 100%|██████████| 14/14 [00:04<00:00,  3.43it/s]\n",
            "                 Class     Images  Instances      Box(P          R      mAP50  mAP50-95): 100%|██████████| 7/7 [00:01<00:00,  4.11it/s]\n"
          ]
        },
        {
          "output_type": "stream",
          "name": "stdout",
          "text": [
            "                   all        213        496      0.584      0.688      0.736      0.464\n",
            "\n",
            "      Epoch    GPU_mem   box_loss   cls_loss   dfl_loss  Instances       Size\n"
          ]
        },
        {
          "output_type": "stream",
          "name": "stderr",
          "text": [
            "     21/200      6.98G      1.363      1.407      1.422         22        640: 100%|██████████| 14/14 [00:04<00:00,  3.46it/s]\n",
            "                 Class     Images  Instances      Box(P          R      mAP50  mAP50-95): 100%|██████████| 7/7 [00:01<00:00,  4.23it/s]"
          ]
        },
        {
          "output_type": "stream",
          "name": "stdout",
          "text": [
            "                   all        213        496      0.534      0.711      0.618      0.361\n"
          ]
        },
        {
          "output_type": "stream",
          "name": "stderr",
          "text": [
            "\n"
          ]
        },
        {
          "output_type": "stream",
          "name": "stdout",
          "text": [
            "\n",
            "      Epoch    GPU_mem   box_loss   cls_loss   dfl_loss  Instances       Size\n"
          ]
        },
        {
          "output_type": "stream",
          "name": "stderr",
          "text": [
            "     22/200      7.11G      1.307      1.298      1.385         20        640: 100%|██████████| 14/14 [00:04<00:00,  3.43it/s]\n",
            "                 Class     Images  Instances      Box(P          R      mAP50  mAP50-95): 100%|██████████| 7/7 [00:01<00:00,  3.94it/s]\n"
          ]
        },
        {
          "output_type": "stream",
          "name": "stdout",
          "text": [
            "                   all        213        496      0.597       0.65      0.666      0.422\n",
            "\n",
            "      Epoch    GPU_mem   box_loss   cls_loss   dfl_loss  Instances       Size\n"
          ]
        },
        {
          "output_type": "stream",
          "name": "stderr",
          "text": [
            "     23/200      7.02G      1.265      1.305      1.367         24        640: 100%|██████████| 14/14 [00:04<00:00,  3.45it/s]\n",
            "                 Class     Images  Instances      Box(P          R      mAP50  mAP50-95): 100%|██████████| 7/7 [00:01<00:00,  4.03it/s]\n"
          ]
        },
        {
          "output_type": "stream",
          "name": "stdout",
          "text": [
            "                   all        213        496      0.293      0.386      0.232      0.124\n",
            "\n",
            "      Epoch    GPU_mem   box_loss   cls_loss   dfl_loss  Instances       Size\n"
          ]
        },
        {
          "output_type": "stream",
          "name": "stderr",
          "text": [
            "     24/200      7.11G      1.324      1.349      1.415         34        640: 100%|██████████| 14/14 [00:04<00:00,  3.42it/s]\n",
            "                 Class     Images  Instances      Box(P          R      mAP50  mAP50-95): 100%|██████████| 7/7 [00:01<00:00,  3.74it/s]\n"
          ]
        },
        {
          "output_type": "stream",
          "name": "stdout",
          "text": [
            "                   all        213        496      0.339      0.366      0.318      0.181\n",
            "\n",
            "      Epoch    GPU_mem   box_loss   cls_loss   dfl_loss  Instances       Size\n"
          ]
        },
        {
          "output_type": "stream",
          "name": "stderr",
          "text": [
            "     25/200      7.04G      1.307      1.329      1.395         21        640: 100%|██████████| 14/14 [00:04<00:00,  3.42it/s]\n",
            "                 Class     Images  Instances      Box(P          R      mAP50  mAP50-95): 100%|██████████| 7/7 [00:01<00:00,  3.69it/s]\n"
          ]
        },
        {
          "output_type": "stream",
          "name": "stdout",
          "text": [
            "                   all        213        496      0.403      0.459      0.367      0.211\n",
            "\n",
            "      Epoch    GPU_mem   box_loss   cls_loss   dfl_loss  Instances       Size\n"
          ]
        },
        {
          "output_type": "stream",
          "name": "stderr",
          "text": [
            "     26/200      7.14G      1.289      1.303      1.389         32        640: 100%|██████████| 14/14 [00:04<00:00,  3.42it/s]\n",
            "                 Class     Images  Instances      Box(P          R      mAP50  mAP50-95): 100%|██████████| 7/7 [00:01<00:00,  4.23it/s]"
          ]
        },
        {
          "output_type": "stream",
          "name": "stdout",
          "text": [
            "                   all        213        496      0.312      0.529      0.326      0.216\n"
          ]
        },
        {
          "output_type": "stream",
          "name": "stderr",
          "text": [
            "\n"
          ]
        },
        {
          "output_type": "stream",
          "name": "stdout",
          "text": [
            "\n",
            "      Epoch    GPU_mem   box_loss   cls_loss   dfl_loss  Instances       Size\n"
          ]
        },
        {
          "output_type": "stream",
          "name": "stderr",
          "text": [
            "     27/200      7.02G      1.274      1.213      1.361         21        640: 100%|██████████| 14/14 [00:04<00:00,  3.44it/s]\n",
            "                 Class     Images  Instances      Box(P          R      mAP50  mAP50-95): 100%|██████████| 7/7 [00:01<00:00,  4.16it/s]"
          ]
        },
        {
          "output_type": "stream",
          "name": "stdout",
          "text": [
            "                   all        213        496      0.698      0.711      0.758      0.499\n"
          ]
        },
        {
          "output_type": "stream",
          "name": "stderr",
          "text": [
            "\n"
          ]
        },
        {
          "output_type": "stream",
          "name": "stdout",
          "text": [
            "\n",
            "      Epoch    GPU_mem   box_loss   cls_loss   dfl_loss  Instances       Size\n"
          ]
        },
        {
          "output_type": "stream",
          "name": "stderr",
          "text": [
            "     28/200      7.11G      1.231      1.298      1.349         17        640: 100%|██████████| 14/14 [00:04<00:00,  3.41it/s]\n",
            "                 Class     Images  Instances      Box(P          R      mAP50  mAP50-95): 100%|██████████| 7/7 [00:01<00:00,  4.15it/s]"
          ]
        },
        {
          "output_type": "stream",
          "name": "stdout",
          "text": [
            "                   all        213        496      0.764      0.796      0.839      0.571\n"
          ]
        },
        {
          "output_type": "stream",
          "name": "stderr",
          "text": [
            "\n"
          ]
        },
        {
          "output_type": "stream",
          "name": "stdout",
          "text": [
            "\n",
            "      Epoch    GPU_mem   box_loss   cls_loss   dfl_loss  Instances       Size\n"
          ]
        },
        {
          "output_type": "stream",
          "name": "stderr",
          "text": [
            "     29/200      7.02G      1.235      1.229      1.347         23        640: 100%|██████████| 14/14 [00:04<00:00,  3.43it/s]\n",
            "                 Class     Images  Instances      Box(P          R      mAP50  mAP50-95): 100%|██████████| 7/7 [00:01<00:00,  4.02it/s]"
          ]
        },
        {
          "output_type": "stream",
          "name": "stdout",
          "text": [
            "                   all        213        496      0.745      0.799      0.832      0.556\n"
          ]
        },
        {
          "output_type": "stream",
          "name": "stderr",
          "text": [
            "\n"
          ]
        },
        {
          "output_type": "stream",
          "name": "stdout",
          "text": [
            "\n",
            "      Epoch    GPU_mem   box_loss   cls_loss   dfl_loss  Instances       Size\n"
          ]
        },
        {
          "output_type": "stream",
          "name": "stderr",
          "text": [
            "     30/200       7.1G      1.267      1.269      1.362         30        640: 100%|██████████| 14/14 [00:04<00:00,  3.40it/s]\n",
            "                 Class     Images  Instances      Box(P          R      mAP50  mAP50-95): 100%|██████████| 7/7 [00:01<00:00,  4.27it/s]"
          ]
        },
        {
          "output_type": "stream",
          "name": "stdout",
          "text": [
            "                   all        213        496        0.8      0.766      0.841      0.547\n"
          ]
        },
        {
          "output_type": "stream",
          "name": "stderr",
          "text": [
            "\n"
          ]
        },
        {
          "output_type": "stream",
          "name": "stdout",
          "text": [
            "\n",
            "      Epoch    GPU_mem   box_loss   cls_loss   dfl_loss  Instances       Size\n"
          ]
        },
        {
          "output_type": "stream",
          "name": "stderr",
          "text": [
            "     31/200         7G      1.219      1.285      1.348         24        640: 100%|██████████| 14/14 [00:04<00:00,  3.46it/s]\n",
            "                 Class     Images  Instances      Box(P          R      mAP50  mAP50-95): 100%|██████████| 7/7 [00:01<00:00,  4.14it/s]"
          ]
        },
        {
          "output_type": "stream",
          "name": "stdout",
          "text": [
            "                   all        213        496      0.779      0.754       0.82       0.54\n"
          ]
        },
        {
          "output_type": "stream",
          "name": "stderr",
          "text": [
            "\n"
          ]
        },
        {
          "output_type": "stream",
          "name": "stdout",
          "text": [
            "\n",
            "      Epoch    GPU_mem   box_loss   cls_loss   dfl_loss  Instances       Size\n"
          ]
        },
        {
          "output_type": "stream",
          "name": "stderr",
          "text": [
            "     32/200      7.14G      1.287      1.234        1.4         27        640: 100%|██████████| 14/14 [00:04<00:00,  3.42it/s]\n",
            "                 Class     Images  Instances      Box(P          R      mAP50  mAP50-95): 100%|██████████| 7/7 [00:01<00:00,  4.16it/s]"
          ]
        },
        {
          "output_type": "stream",
          "name": "stdout",
          "text": [
            "                   all        213        496      0.796      0.765      0.848      0.578\n"
          ]
        },
        {
          "output_type": "stream",
          "name": "stderr",
          "text": [
            "\n"
          ]
        },
        {
          "output_type": "stream",
          "name": "stdout",
          "text": [
            "\n",
            "      Epoch    GPU_mem   box_loss   cls_loss   dfl_loss  Instances       Size\n"
          ]
        },
        {
          "output_type": "stream",
          "name": "stderr",
          "text": [
            "     33/200      7.05G      1.251       1.31       1.38         16        640: 100%|██████████| 14/14 [00:04<00:00,  3.47it/s]\n",
            "                 Class     Images  Instances      Box(P          R      mAP50  mAP50-95): 100%|██████████| 7/7 [00:01<00:00,  4.08it/s]"
          ]
        },
        {
          "output_type": "stream",
          "name": "stdout",
          "text": [
            "                   all        213        496      0.752      0.779       0.83      0.573\n"
          ]
        },
        {
          "output_type": "stream",
          "name": "stderr",
          "text": [
            "\n"
          ]
        },
        {
          "output_type": "stream",
          "name": "stdout",
          "text": [
            "\n",
            "      Epoch    GPU_mem   box_loss   cls_loss   dfl_loss  Instances       Size\n"
          ]
        },
        {
          "output_type": "stream",
          "name": "stderr",
          "text": [
            "     34/200      7.11G      1.219      1.225      1.337         11        640: 100%|██████████| 14/14 [00:04<00:00,  3.41it/s]\n",
            "                 Class     Images  Instances      Box(P          R      mAP50  mAP50-95): 100%|██████████| 7/7 [00:01<00:00,  4.17it/s]"
          ]
        },
        {
          "output_type": "stream",
          "name": "stdout",
          "text": [
            "                   all        213        496      0.737      0.596      0.717      0.451\n"
          ]
        },
        {
          "output_type": "stream",
          "name": "stderr",
          "text": [
            "\n"
          ]
        },
        {
          "output_type": "stream",
          "name": "stdout",
          "text": [
            "\n",
            "      Epoch    GPU_mem   box_loss   cls_loss   dfl_loss  Instances       Size\n"
          ]
        },
        {
          "output_type": "stream",
          "name": "stderr",
          "text": [
            "     35/200      7.03G      1.223      1.155      1.303         30        640: 100%|██████████| 14/14 [00:04<00:00,  3.45it/s]\n",
            "                 Class     Images  Instances      Box(P          R      mAP50  mAP50-95): 100%|██████████| 7/7 [00:01<00:00,  4.26it/s]"
          ]
        },
        {
          "output_type": "stream",
          "name": "stdout",
          "text": [
            "                   all        213        496      0.684      0.793      0.805      0.516\n"
          ]
        },
        {
          "output_type": "stream",
          "name": "stderr",
          "text": [
            "\n"
          ]
        },
        {
          "output_type": "stream",
          "name": "stdout",
          "text": [
            "\n",
            "      Epoch    GPU_mem   box_loss   cls_loss   dfl_loss  Instances       Size\n"
          ]
        },
        {
          "output_type": "stream",
          "name": "stderr",
          "text": [
            "     36/200      7.14G      1.166      1.184       1.31         11        640: 100%|██████████| 14/14 [00:04<00:00,  3.43it/s]\n",
            "                 Class     Images  Instances      Box(P          R      mAP50  mAP50-95): 100%|██████████| 7/7 [00:01<00:00,  3.97it/s]"
          ]
        },
        {
          "output_type": "stream",
          "name": "stdout",
          "text": [
            "                   all        213        496      0.867      0.811      0.882      0.607\n"
          ]
        },
        {
          "output_type": "stream",
          "name": "stderr",
          "text": [
            "\n"
          ]
        },
        {
          "output_type": "stream",
          "name": "stdout",
          "text": [
            "\n",
            "      Epoch    GPU_mem   box_loss   cls_loss   dfl_loss  Instances       Size\n"
          ]
        },
        {
          "output_type": "stream",
          "name": "stderr",
          "text": [
            "     37/200      7.04G      1.159       1.17      1.325         18        640: 100%|██████████| 14/14 [00:04<00:00,  3.45it/s]\n",
            "                 Class     Images  Instances      Box(P          R      mAP50  mAP50-95): 100%|██████████| 7/7 [00:01<00:00,  4.25it/s]"
          ]
        },
        {
          "output_type": "stream",
          "name": "stdout",
          "text": [
            "                   all        213        496      0.825      0.788      0.868      0.614\n"
          ]
        },
        {
          "output_type": "stream",
          "name": "stderr",
          "text": [
            "\n"
          ]
        },
        {
          "output_type": "stream",
          "name": "stdout",
          "text": [
            "\n",
            "      Epoch    GPU_mem   box_loss   cls_loss   dfl_loss  Instances       Size\n"
          ]
        },
        {
          "output_type": "stream",
          "name": "stderr",
          "text": [
            "     38/200      7.12G      1.258      1.266       1.38         19        640: 100%|██████████| 14/14 [00:04<00:00,  3.39it/s]\n",
            "                 Class     Images  Instances      Box(P          R      mAP50  mAP50-95): 100%|██████████| 7/7 [00:01<00:00,  4.14it/s]"
          ]
        },
        {
          "output_type": "stream",
          "name": "stdout",
          "text": [
            "                   all        213        496      0.759       0.85      0.888      0.637\n"
          ]
        },
        {
          "output_type": "stream",
          "name": "stderr",
          "text": [
            "\n"
          ]
        },
        {
          "output_type": "stream",
          "name": "stdout",
          "text": [
            "\n",
            "      Epoch    GPU_mem   box_loss   cls_loss   dfl_loss  Instances       Size\n"
          ]
        },
        {
          "output_type": "stream",
          "name": "stderr",
          "text": [
            "     39/200      7.04G      1.224      1.186      1.324         29        640: 100%|██████████| 14/14 [00:04<00:00,  3.46it/s]\n",
            "                 Class     Images  Instances      Box(P          R      mAP50  mAP50-95): 100%|██████████| 7/7 [00:01<00:00,  4.26it/s]"
          ]
        },
        {
          "output_type": "stream",
          "name": "stdout",
          "text": [
            "                   all        213        496      0.808      0.797      0.864      0.605\n"
          ]
        },
        {
          "output_type": "stream",
          "name": "stderr",
          "text": [
            "\n"
          ]
        },
        {
          "output_type": "stream",
          "name": "stdout",
          "text": [
            "\n",
            "      Epoch    GPU_mem   box_loss   cls_loss   dfl_loss  Instances       Size\n"
          ]
        },
        {
          "output_type": "stream",
          "name": "stderr",
          "text": [
            "     40/200      7.11G      1.155      1.152      1.318         20        640: 100%|██████████| 14/14 [00:04<00:00,  3.44it/s]\n",
            "                 Class     Images  Instances      Box(P          R      mAP50  mAP50-95): 100%|██████████| 7/7 [00:01<00:00,  4.28it/s]"
          ]
        },
        {
          "output_type": "stream",
          "name": "stdout",
          "text": [
            "                   all        213        496      0.708      0.691      0.749      0.536\n"
          ]
        },
        {
          "output_type": "stream",
          "name": "stderr",
          "text": [
            "\n"
          ]
        },
        {
          "output_type": "stream",
          "name": "stdout",
          "text": [
            "\n",
            "      Epoch    GPU_mem   box_loss   cls_loss   dfl_loss  Instances       Size\n"
          ]
        },
        {
          "output_type": "stream",
          "name": "stderr",
          "text": [
            "     41/200      7.03G      1.182      1.176      1.311         28        640: 100%|██████████| 14/14 [00:04<00:00,  3.45it/s]\n",
            "                 Class     Images  Instances      Box(P          R      mAP50  mAP50-95): 100%|██████████| 7/7 [00:01<00:00,  4.07it/s]"
          ]
        },
        {
          "output_type": "stream",
          "name": "stdout",
          "text": [
            "                   all        213        496      0.821      0.695      0.799      0.537\n"
          ]
        },
        {
          "output_type": "stream",
          "name": "stderr",
          "text": [
            "\n"
          ]
        },
        {
          "output_type": "stream",
          "name": "stdout",
          "text": [
            "\n",
            "      Epoch    GPU_mem   box_loss   cls_loss   dfl_loss  Instances       Size\n"
          ]
        },
        {
          "output_type": "stream",
          "name": "stderr",
          "text": [
            "     42/200      7.08G      1.139      1.105      1.282         23        640: 100%|██████████| 14/14 [00:04<00:00,  3.43it/s]\n",
            "                 Class     Images  Instances      Box(P          R      mAP50  mAP50-95): 100%|██████████| 7/7 [00:01<00:00,  4.23it/s]"
          ]
        },
        {
          "output_type": "stream",
          "name": "stdout",
          "text": [
            "                   all        213        496      0.754      0.793      0.816      0.556\n"
          ]
        },
        {
          "output_type": "stream",
          "name": "stderr",
          "text": [
            "\n"
          ]
        },
        {
          "output_type": "stream",
          "name": "stdout",
          "text": [
            "\n",
            "      Epoch    GPU_mem   box_loss   cls_loss   dfl_loss  Instances       Size\n"
          ]
        },
        {
          "output_type": "stream",
          "name": "stderr",
          "text": [
            "     43/200      7.05G      1.202      1.198      1.338         17        640: 100%|██████████| 14/14 [00:04<00:00,  3.46it/s]\n",
            "                 Class     Images  Instances      Box(P          R      mAP50  mAP50-95): 100%|██████████| 7/7 [00:01<00:00,  4.06it/s]"
          ]
        },
        {
          "output_type": "stream",
          "name": "stdout",
          "text": [
            "                   all        213        496      0.806       0.75      0.832      0.579\n"
          ]
        },
        {
          "output_type": "stream",
          "name": "stderr",
          "text": [
            "\n"
          ]
        },
        {
          "output_type": "stream",
          "name": "stdout",
          "text": [
            "\n",
            "      Epoch    GPU_mem   box_loss   cls_loss   dfl_loss  Instances       Size\n"
          ]
        },
        {
          "output_type": "stream",
          "name": "stderr",
          "text": [
            "     44/200      7.21G      1.103      1.103      1.264         20        640: 100%|██████████| 14/14 [00:04<00:00,  3.44it/s]\n",
            "                 Class     Images  Instances      Box(P          R      mAP50  mAP50-95): 100%|██████████| 7/7 [00:01<00:00,  4.13it/s]"
          ]
        },
        {
          "output_type": "stream",
          "name": "stdout",
          "text": [
            "                   all        213        496      0.444      0.432      0.374      0.248\n"
          ]
        },
        {
          "output_type": "stream",
          "name": "stderr",
          "text": [
            "\n"
          ]
        },
        {
          "output_type": "stream",
          "name": "stdout",
          "text": [
            "\n",
            "      Epoch    GPU_mem   box_loss   cls_loss   dfl_loss  Instances       Size\n"
          ]
        },
        {
          "output_type": "stream",
          "name": "stderr",
          "text": [
            "     45/200      7.01G      1.111      1.125      1.281         37        640: 100%|██████████| 14/14 [00:04<00:00,  3.47it/s]\n",
            "                 Class     Images  Instances      Box(P          R      mAP50  mAP50-95): 100%|██████████| 7/7 [00:01<00:00,  3.95it/s]\n"
          ]
        },
        {
          "output_type": "stream",
          "name": "stdout",
          "text": [
            "                   all        213        496      0.332      0.298      0.195      0.118\n",
            "\n",
            "      Epoch    GPU_mem   box_loss   cls_loss   dfl_loss  Instances       Size\n"
          ]
        },
        {
          "output_type": "stream",
          "name": "stderr",
          "text": [
            "     46/200      7.09G      1.141      1.111      1.327         19        640: 100%|██████████| 14/14 [00:04<00:00,  3.44it/s]\n",
            "                 Class     Images  Instances      Box(P          R      mAP50  mAP50-95): 100%|██████████| 7/7 [00:01<00:00,  4.20it/s]"
          ]
        },
        {
          "output_type": "stream",
          "name": "stdout",
          "text": [
            "                   all        213        496      0.802      0.793      0.874      0.606\n"
          ]
        },
        {
          "output_type": "stream",
          "name": "stderr",
          "text": [
            "\n"
          ]
        },
        {
          "output_type": "stream",
          "name": "stdout",
          "text": [
            "\n",
            "      Epoch    GPU_mem   box_loss   cls_loss   dfl_loss  Instances       Size\n"
          ]
        },
        {
          "output_type": "stream",
          "name": "stderr",
          "text": [
            "     47/200      7.04G      1.122      1.073      1.277         32        640: 100%|██████████| 14/14 [00:04<00:00,  3.40it/s]\n",
            "                 Class     Images  Instances      Box(P          R      mAP50  mAP50-95): 100%|██████████| 7/7 [00:01<00:00,  4.16it/s]"
          ]
        },
        {
          "output_type": "stream",
          "name": "stdout",
          "text": [
            "                   all        213        496      0.822      0.843      0.895      0.643\n"
          ]
        },
        {
          "output_type": "stream",
          "name": "stderr",
          "text": [
            "\n"
          ]
        },
        {
          "output_type": "stream",
          "name": "stdout",
          "text": [
            "\n",
            "      Epoch    GPU_mem   box_loss   cls_loss   dfl_loss  Instances       Size\n"
          ]
        },
        {
          "output_type": "stream",
          "name": "stderr",
          "text": [
            "     48/200      7.09G      1.094      1.058       1.28         17        640: 100%|██████████| 14/14 [00:04<00:00,  3.42it/s]\n",
            "                 Class     Images  Instances      Box(P          R      mAP50  mAP50-95): 100%|██████████| 7/7 [00:01<00:00,  4.11it/s]"
          ]
        },
        {
          "output_type": "stream",
          "name": "stdout",
          "text": [
            "                   all        213        496      0.841      0.793      0.875      0.604\n"
          ]
        },
        {
          "output_type": "stream",
          "name": "stderr",
          "text": [
            "\n"
          ]
        },
        {
          "output_type": "stream",
          "name": "stdout",
          "text": [
            "\n",
            "      Epoch    GPU_mem   box_loss   cls_loss   dfl_loss  Instances       Size\n"
          ]
        },
        {
          "output_type": "stream",
          "name": "stderr",
          "text": [
            "     49/200      7.04G      1.099      1.081      1.279         22        640: 100%|██████████| 14/14 [00:04<00:00,  3.47it/s]\n",
            "                 Class     Images  Instances      Box(P          R      mAP50  mAP50-95): 100%|██████████| 7/7 [00:01<00:00,  4.11it/s]"
          ]
        },
        {
          "output_type": "stream",
          "name": "stdout",
          "text": [
            "                   all        213        496      0.667      0.749      0.736       0.51\n"
          ]
        },
        {
          "output_type": "stream",
          "name": "stderr",
          "text": [
            "\n"
          ]
        },
        {
          "output_type": "stream",
          "name": "stdout",
          "text": [
            "\n",
            "      Epoch    GPU_mem   box_loss   cls_loss   dfl_loss  Instances       Size\n"
          ]
        },
        {
          "output_type": "stream",
          "name": "stderr",
          "text": [
            "     50/200      7.14G      1.112      1.054       1.27         15        640: 100%|██████████| 14/14 [00:04<00:00,  3.42it/s]\n",
            "                 Class     Images  Instances      Box(P          R      mAP50  mAP50-95): 100%|██████████| 7/7 [00:01<00:00,  4.17it/s]"
          ]
        },
        {
          "output_type": "stream",
          "name": "stdout",
          "text": [
            "                   all        213        496      0.855      0.818      0.881      0.635\n"
          ]
        },
        {
          "output_type": "stream",
          "name": "stderr",
          "text": [
            "\n"
          ]
        },
        {
          "output_type": "stream",
          "name": "stdout",
          "text": [
            "\n",
            "      Epoch    GPU_mem   box_loss   cls_loss   dfl_loss  Instances       Size\n"
          ]
        },
        {
          "output_type": "stream",
          "name": "stderr",
          "text": [
            "     51/200      7.02G      1.105      1.098      1.307         14        640: 100%|██████████| 14/14 [00:04<00:00,  3.45it/s]\n",
            "                 Class     Images  Instances      Box(P          R      mAP50  mAP50-95): 100%|██████████| 7/7 [00:01<00:00,  4.08it/s]"
          ]
        },
        {
          "output_type": "stream",
          "name": "stdout",
          "text": [
            "                   all        213        496      0.809      0.747      0.802      0.571\n"
          ]
        },
        {
          "output_type": "stream",
          "name": "stderr",
          "text": [
            "\n"
          ]
        },
        {
          "output_type": "stream",
          "name": "stdout",
          "text": [
            "\n",
            "      Epoch    GPU_mem   box_loss   cls_loss   dfl_loss  Instances       Size\n"
          ]
        },
        {
          "output_type": "stream",
          "name": "stderr",
          "text": [
            "     52/200      7.08G      1.164      1.209      1.319         10        640: 100%|██████████| 14/14 [00:04<00:00,  3.42it/s]\n",
            "                 Class     Images  Instances      Box(P          R      mAP50  mAP50-95): 100%|██████████| 7/7 [00:01<00:00,  4.11it/s]"
          ]
        },
        {
          "output_type": "stream",
          "name": "stdout",
          "text": [
            "                   all        213        496      0.784      0.849       0.88      0.631\n"
          ]
        },
        {
          "output_type": "stream",
          "name": "stderr",
          "text": [
            "\n"
          ]
        },
        {
          "output_type": "stream",
          "name": "stdout",
          "text": [
            "\n",
            "      Epoch    GPU_mem   box_loss   cls_loss   dfl_loss  Instances       Size\n"
          ]
        },
        {
          "output_type": "stream",
          "name": "stderr",
          "text": [
            "     53/200      7.03G      1.084      1.101      1.282         10        640: 100%|██████████| 14/14 [00:04<00:00,  3.46it/s]\n",
            "                 Class     Images  Instances      Box(P          R      mAP50  mAP50-95): 100%|██████████| 7/7 [00:01<00:00,  4.09it/s]"
          ]
        },
        {
          "output_type": "stream",
          "name": "stdout",
          "text": [
            "                   all        213        496      0.812       0.86      0.895      0.635\n"
          ]
        },
        {
          "output_type": "stream",
          "name": "stderr",
          "text": [
            "\n"
          ]
        },
        {
          "output_type": "stream",
          "name": "stdout",
          "text": [
            "\n",
            "      Epoch    GPU_mem   box_loss   cls_loss   dfl_loss  Instances       Size\n"
          ]
        },
        {
          "output_type": "stream",
          "name": "stderr",
          "text": [
            "     54/200      7.13G      1.075       1.05      1.288         25        640: 100%|██████████| 14/14 [00:04<00:00,  3.44it/s]\n",
            "                 Class     Images  Instances      Box(P          R      mAP50  mAP50-95): 100%|██████████| 7/7 [00:01<00:00,  4.23it/s]"
          ]
        },
        {
          "output_type": "stream",
          "name": "stdout",
          "text": [
            "                   all        213        496      0.647      0.655      0.692       0.45\n"
          ]
        },
        {
          "output_type": "stream",
          "name": "stderr",
          "text": [
            "\n"
          ]
        },
        {
          "output_type": "stream",
          "name": "stdout",
          "text": [
            "\n",
            "      Epoch    GPU_mem   box_loss   cls_loss   dfl_loss  Instances       Size\n"
          ]
        },
        {
          "output_type": "stream",
          "name": "stderr",
          "text": [
            "     55/200      6.99G      1.083      1.059      1.267         23        640: 100%|██████████| 14/14 [00:04<00:00,  3.46it/s]\n",
            "                 Class     Images  Instances      Box(P          R      mAP50  mAP50-95): 100%|██████████| 7/7 [00:01<00:00,  4.16it/s]"
          ]
        },
        {
          "output_type": "stream",
          "name": "stdout",
          "text": [
            "                   all        213        496      0.826      0.814      0.877      0.625\n"
          ]
        },
        {
          "output_type": "stream",
          "name": "stderr",
          "text": [
            "\n"
          ]
        },
        {
          "output_type": "stream",
          "name": "stdout",
          "text": [
            "\n",
            "      Epoch    GPU_mem   box_loss   cls_loss   dfl_loss  Instances       Size\n"
          ]
        },
        {
          "output_type": "stream",
          "name": "stderr",
          "text": [
            "     56/200      7.19G      1.089      1.051      1.263         26        640: 100%|██████████| 14/14 [00:04<00:00,  3.42it/s]\n",
            "                 Class     Images  Instances      Box(P          R      mAP50  mAP50-95): 100%|██████████| 7/7 [00:01<00:00,  4.16it/s]"
          ]
        },
        {
          "output_type": "stream",
          "name": "stdout",
          "text": [
            "                   all        213        496      0.847      0.831      0.909      0.676\n"
          ]
        },
        {
          "output_type": "stream",
          "name": "stderr",
          "text": [
            "\n"
          ]
        },
        {
          "output_type": "stream",
          "name": "stdout",
          "text": [
            "\n",
            "      Epoch    GPU_mem   box_loss   cls_loss   dfl_loss  Instances       Size\n"
          ]
        },
        {
          "output_type": "stream",
          "name": "stderr",
          "text": [
            "     57/200      7.03G      1.112      1.079      1.271         11        640: 100%|██████████| 14/14 [00:04<00:00,  3.46it/s]\n",
            "                 Class     Images  Instances      Box(P          R      mAP50  mAP50-95): 100%|██████████| 7/7 [00:01<00:00,  4.15it/s]"
          ]
        },
        {
          "output_type": "stream",
          "name": "stdout",
          "text": [
            "                   all        213        496      0.832      0.892      0.915      0.681\n"
          ]
        },
        {
          "output_type": "stream",
          "name": "stderr",
          "text": [
            "\n"
          ]
        },
        {
          "output_type": "stream",
          "name": "stdout",
          "text": [
            "\n",
            "      Epoch    GPU_mem   box_loss   cls_loss   dfl_loss  Instances       Size\n"
          ]
        },
        {
          "output_type": "stream",
          "name": "stderr",
          "text": [
            "     58/200      7.12G      1.058      1.038      1.225         38        640: 100%|██████████| 14/14 [00:04<00:00,  3.42it/s]\n",
            "                 Class     Images  Instances      Box(P          R      mAP50  mAP50-95): 100%|██████████| 7/7 [00:01<00:00,  4.31it/s]"
          ]
        },
        {
          "output_type": "stream",
          "name": "stdout",
          "text": [
            "                   all        213        496      0.835      0.899       0.92      0.694\n"
          ]
        },
        {
          "output_type": "stream",
          "name": "stderr",
          "text": [
            "\n"
          ]
        },
        {
          "output_type": "stream",
          "name": "stdout",
          "text": [
            "\n",
            "      Epoch    GPU_mem   box_loss   cls_loss   dfl_loss  Instances       Size\n"
          ]
        },
        {
          "output_type": "stream",
          "name": "stderr",
          "text": [
            "     59/200      7.03G      1.023      1.002      1.216         19        640: 100%|██████████| 14/14 [00:04<00:00,  3.47it/s]\n",
            "                 Class     Images  Instances      Box(P          R      mAP50  mAP50-95): 100%|██████████| 7/7 [00:01<00:00,  4.06it/s]"
          ]
        },
        {
          "output_type": "stream",
          "name": "stdout",
          "text": [
            "                   all        213        496      0.811      0.893      0.921      0.692\n"
          ]
        },
        {
          "output_type": "stream",
          "name": "stderr",
          "text": [
            "\n"
          ]
        },
        {
          "output_type": "stream",
          "name": "stdout",
          "text": [
            "\n",
            "      Epoch    GPU_mem   box_loss   cls_loss   dfl_loss  Instances       Size\n"
          ]
        },
        {
          "output_type": "stream",
          "name": "stderr",
          "text": [
            "     60/200      7.13G      1.045      1.018      1.229         20        640: 100%|██████████| 14/14 [00:04<00:00,  3.43it/s]\n",
            "                 Class     Images  Instances      Box(P          R      mAP50  mAP50-95): 100%|██████████| 7/7 [00:01<00:00,  4.30it/s]"
          ]
        },
        {
          "output_type": "stream",
          "name": "stdout",
          "text": [
            "                   all        213        496      0.839      0.914      0.924      0.683\n"
          ]
        },
        {
          "output_type": "stream",
          "name": "stderr",
          "text": [
            "\n"
          ]
        },
        {
          "output_type": "stream",
          "name": "stdout",
          "text": [
            "\n",
            "      Epoch    GPU_mem   box_loss   cls_loss   dfl_loss  Instances       Size\n"
          ]
        },
        {
          "output_type": "stream",
          "name": "stderr",
          "text": [
            "     61/200      7.05G      1.023     0.9964      1.214         25        640: 100%|██████████| 14/14 [00:04<00:00,  3.46it/s]\n",
            "                 Class     Images  Instances      Box(P          R      mAP50  mAP50-95): 100%|██████████| 7/7 [00:01<00:00,  4.00it/s]"
          ]
        },
        {
          "output_type": "stream",
          "name": "stdout",
          "text": [
            "                   all        213        496      0.878      0.865      0.931      0.691\n"
          ]
        },
        {
          "output_type": "stream",
          "name": "stderr",
          "text": [
            "\n"
          ]
        },
        {
          "output_type": "stream",
          "name": "stdout",
          "text": [
            "\n",
            "      Epoch    GPU_mem   box_loss   cls_loss   dfl_loss  Instances       Size\n"
          ]
        },
        {
          "output_type": "stream",
          "name": "stderr",
          "text": [
            "     62/200       7.1G      1.031     0.9864      1.217         29        640: 100%|██████████| 14/14 [00:04<00:00,  3.43it/s]\n",
            "                 Class     Images  Instances      Box(P          R      mAP50  mAP50-95): 100%|██████████| 7/7 [00:01<00:00,  4.13it/s]"
          ]
        },
        {
          "output_type": "stream",
          "name": "stdout",
          "text": [
            "                   all        213        496      0.868      0.895       0.93      0.718\n"
          ]
        },
        {
          "output_type": "stream",
          "name": "stderr",
          "text": [
            "\n"
          ]
        },
        {
          "output_type": "stream",
          "name": "stdout",
          "text": [
            "\n",
            "      Epoch    GPU_mem   box_loss   cls_loss   dfl_loss  Instances       Size\n"
          ]
        },
        {
          "output_type": "stream",
          "name": "stderr",
          "text": [
            "     63/200      7.05G      1.077      1.083      1.301         12        640: 100%|██████████| 14/14 [00:04<00:00,  3.46it/s]\n",
            "                 Class     Images  Instances      Box(P          R      mAP50  mAP50-95): 100%|██████████| 7/7 [00:01<00:00,  4.17it/s]"
          ]
        },
        {
          "output_type": "stream",
          "name": "stdout",
          "text": [
            "                   all        213        496      0.849      0.884      0.917      0.685\n"
          ]
        },
        {
          "output_type": "stream",
          "name": "stderr",
          "text": [
            "\n"
          ]
        },
        {
          "output_type": "stream",
          "name": "stdout",
          "text": [
            "\n",
            "      Epoch    GPU_mem   box_loss   cls_loss   dfl_loss  Instances       Size\n"
          ]
        },
        {
          "output_type": "stream",
          "name": "stderr",
          "text": [
            "     64/200      7.12G      1.084      1.061      1.254         38        640: 100%|██████████| 14/14 [00:04<00:00,  3.41it/s]\n",
            "                 Class     Images  Instances      Box(P          R      mAP50  mAP50-95): 100%|██████████| 7/7 [00:01<00:00,  4.13it/s]"
          ]
        },
        {
          "output_type": "stream",
          "name": "stdout",
          "text": [
            "                   all        213        496      0.817      0.872      0.923      0.691\n"
          ]
        },
        {
          "output_type": "stream",
          "name": "stderr",
          "text": [
            "\n"
          ]
        },
        {
          "output_type": "stream",
          "name": "stdout",
          "text": [
            "\n",
            "      Epoch    GPU_mem   box_loss   cls_loss   dfl_loss  Instances       Size\n"
          ]
        },
        {
          "output_type": "stream",
          "name": "stderr",
          "text": [
            "     65/200         7G      1.031       1.02      1.256         18        640: 100%|██████████| 14/14 [00:04<00:00,  3.46it/s]\n",
            "                 Class     Images  Instances      Box(P          R      mAP50  mAP50-95): 100%|██████████| 7/7 [00:01<00:00,  4.21it/s]"
          ]
        },
        {
          "output_type": "stream",
          "name": "stdout",
          "text": [
            "                   all        213        496       0.85      0.876      0.934      0.688\n"
          ]
        },
        {
          "output_type": "stream",
          "name": "stderr",
          "text": [
            "\n"
          ]
        },
        {
          "output_type": "stream",
          "name": "stdout",
          "text": [
            "\n",
            "      Epoch    GPU_mem   box_loss   cls_loss   dfl_loss  Instances       Size\n"
          ]
        },
        {
          "output_type": "stream",
          "name": "stderr",
          "text": [
            "     66/200      7.13G     0.9957     0.9495      1.192         19        640: 100%|██████████| 14/14 [00:04<00:00,  3.43it/s]\n",
            "                 Class     Images  Instances      Box(P          R      mAP50  mAP50-95): 100%|██████████| 7/7 [00:01<00:00,  4.05it/s]"
          ]
        },
        {
          "output_type": "stream",
          "name": "stdout",
          "text": [
            "                   all        213        496      0.877      0.883      0.926      0.689\n"
          ]
        },
        {
          "output_type": "stream",
          "name": "stderr",
          "text": [
            "\n"
          ]
        },
        {
          "output_type": "stream",
          "name": "stdout",
          "text": [
            "\n",
            "      Epoch    GPU_mem   box_loss   cls_loss   dfl_loss  Instances       Size\n"
          ]
        },
        {
          "output_type": "stream",
          "name": "stderr",
          "text": [
            "     67/200      7.02G      1.018      0.972      1.204         22        640: 100%|██████████| 14/14 [00:04<00:00,  3.45it/s]\n",
            "                 Class     Images  Instances      Box(P          R      mAP50  mAP50-95): 100%|██████████| 7/7 [00:01<00:00,  4.21it/s]"
          ]
        },
        {
          "output_type": "stream",
          "name": "stdout",
          "text": [
            "                   all        213        496      0.839      0.874      0.918      0.681\n"
          ]
        },
        {
          "output_type": "stream",
          "name": "stderr",
          "text": [
            "\n"
          ]
        },
        {
          "output_type": "stream",
          "name": "stdout",
          "text": [
            "\n",
            "      Epoch    GPU_mem   box_loss   cls_loss   dfl_loss  Instances       Size\n"
          ]
        },
        {
          "output_type": "stream",
          "name": "stderr",
          "text": [
            "     68/200       7.1G     0.9824     0.9351      1.192         18        640: 100%|██████████| 14/14 [00:04<00:00,  3.43it/s]\n",
            "                 Class     Images  Instances      Box(P          R      mAP50  mAP50-95): 100%|██████████| 7/7 [00:01<00:00,  4.23it/s]"
          ]
        },
        {
          "output_type": "stream",
          "name": "stdout",
          "text": [
            "                   all        213        496      0.884       0.88      0.937      0.705\n"
          ]
        },
        {
          "output_type": "stream",
          "name": "stderr",
          "text": [
            "\n"
          ]
        },
        {
          "output_type": "stream",
          "name": "stdout",
          "text": [
            "\n",
            "      Epoch    GPU_mem   box_loss   cls_loss   dfl_loss  Instances       Size\n"
          ]
        },
        {
          "output_type": "stream",
          "name": "stderr",
          "text": [
            "     69/200      6.99G       1.04     0.9596      1.239         25        640: 100%|██████████| 14/14 [00:04<00:00,  3.46it/s]\n",
            "                 Class     Images  Instances      Box(P          R      mAP50  mAP50-95): 100%|██████████| 7/7 [00:01<00:00,  4.20it/s]"
          ]
        },
        {
          "output_type": "stream",
          "name": "stdout",
          "text": [
            "                   all        213        496      0.877      0.918      0.955      0.751\n"
          ]
        },
        {
          "output_type": "stream",
          "name": "stderr",
          "text": [
            "\n"
          ]
        },
        {
          "output_type": "stream",
          "name": "stdout",
          "text": [
            "\n",
            "      Epoch    GPU_mem   box_loss   cls_loss   dfl_loss  Instances       Size\n"
          ]
        },
        {
          "output_type": "stream",
          "name": "stderr",
          "text": [
            "     70/200      7.11G      1.015     0.9695      1.232         27        640: 100%|██████████| 14/14 [00:04<00:00,  3.44it/s]\n",
            "                 Class     Images  Instances      Box(P          R      mAP50  mAP50-95): 100%|██████████| 7/7 [00:01<00:00,  4.33it/s]"
          ]
        },
        {
          "output_type": "stream",
          "name": "stdout",
          "text": [
            "                   all        213        496      0.852      0.865      0.941      0.725\n"
          ]
        },
        {
          "output_type": "stream",
          "name": "stderr",
          "text": [
            "\n"
          ]
        },
        {
          "output_type": "stream",
          "name": "stdout",
          "text": [
            "\n",
            "      Epoch    GPU_mem   box_loss   cls_loss   dfl_loss  Instances       Size\n"
          ]
        },
        {
          "output_type": "stream",
          "name": "stderr",
          "text": [
            "     71/200      7.05G     0.9997      0.975      1.217         27        640: 100%|██████████| 14/14 [00:04<00:00,  3.46it/s]\n",
            "                 Class     Images  Instances      Box(P          R      mAP50  mAP50-95): 100%|██████████| 7/7 [00:01<00:00,  4.16it/s]"
          ]
        },
        {
          "output_type": "stream",
          "name": "stdout",
          "text": [
            "                   all        213        496      0.873      0.871      0.944      0.713\n"
          ]
        },
        {
          "output_type": "stream",
          "name": "stderr",
          "text": [
            "\n"
          ]
        },
        {
          "output_type": "stream",
          "name": "stdout",
          "text": [
            "\n",
            "      Epoch    GPU_mem   box_loss   cls_loss   dfl_loss  Instances       Size\n"
          ]
        },
        {
          "output_type": "stream",
          "name": "stderr",
          "text": [
            "     72/200      7.09G      1.022     0.9648      1.205         12        640: 100%|██████████| 14/14 [00:04<00:00,  3.42it/s]\n",
            "                 Class     Images  Instances      Box(P          R      mAP50  mAP50-95): 100%|██████████| 7/7 [00:01<00:00,  4.07it/s]"
          ]
        },
        {
          "output_type": "stream",
          "name": "stdout",
          "text": [
            "                   all        213        496      0.858      0.881      0.935      0.708\n"
          ]
        },
        {
          "output_type": "stream",
          "name": "stderr",
          "text": [
            "\n"
          ]
        },
        {
          "output_type": "stream",
          "name": "stdout",
          "text": [
            "\n",
            "      Epoch    GPU_mem   box_loss   cls_loss   dfl_loss  Instances       Size\n"
          ]
        },
        {
          "output_type": "stream",
          "name": "stderr",
          "text": [
            "     73/200      7.02G     0.9335     0.8678      1.157         27        640: 100%|██████████| 14/14 [00:04<00:00,  3.46it/s]\n",
            "                 Class     Images  Instances      Box(P          R      mAP50  mAP50-95): 100%|██████████| 7/7 [00:01<00:00,  3.99it/s]"
          ]
        },
        {
          "output_type": "stream",
          "name": "stdout",
          "text": [
            "                   all        213        496      0.884      0.828       0.92      0.707\n"
          ]
        },
        {
          "output_type": "stream",
          "name": "stderr",
          "text": [
            "\n"
          ]
        },
        {
          "output_type": "stream",
          "name": "stdout",
          "text": [
            "\n",
            "      Epoch    GPU_mem   box_loss   cls_loss   dfl_loss  Instances       Size\n"
          ]
        },
        {
          "output_type": "stream",
          "name": "stderr",
          "text": [
            "     74/200      7.15G     0.9849       0.94      1.191         42        640: 100%|██████████| 14/14 [00:04<00:00,  3.43it/s]\n",
            "                 Class     Images  Instances      Box(P          R      mAP50  mAP50-95): 100%|██████████| 7/7 [00:01<00:00,  4.30it/s]"
          ]
        },
        {
          "output_type": "stream",
          "name": "stdout",
          "text": [
            "                   all        213        496      0.847      0.912      0.935      0.729\n"
          ]
        },
        {
          "output_type": "stream",
          "name": "stderr",
          "text": [
            "\n"
          ]
        },
        {
          "output_type": "stream",
          "name": "stdout",
          "text": [
            "\n",
            "      Epoch    GPU_mem   box_loss   cls_loss   dfl_loss  Instances       Size\n"
          ]
        },
        {
          "output_type": "stream",
          "name": "stderr",
          "text": [
            "     75/200      7.01G     0.9586     0.9343      1.195         26        640: 100%|██████████| 14/14 [00:04<00:00,  3.46it/s]\n",
            "                 Class     Images  Instances      Box(P          R      mAP50  mAP50-95): 100%|██████████| 7/7 [00:01<00:00,  4.22it/s]"
          ]
        },
        {
          "output_type": "stream",
          "name": "stdout",
          "text": [
            "                   all        213        496      0.878      0.896      0.943      0.735\n"
          ]
        },
        {
          "output_type": "stream",
          "name": "stderr",
          "text": [
            "\n"
          ]
        },
        {
          "output_type": "stream",
          "name": "stdout",
          "text": [
            "\n",
            "      Epoch    GPU_mem   box_loss   cls_loss   dfl_loss  Instances       Size\n"
          ]
        },
        {
          "output_type": "stream",
          "name": "stderr",
          "text": [
            "     76/200      7.21G     0.9698     0.9323      1.193         32        640: 100%|██████████| 14/14 [00:04<00:00,  3.41it/s]\n",
            "                 Class     Images  Instances      Box(P          R      mAP50  mAP50-95): 100%|██████████| 7/7 [00:01<00:00,  4.26it/s]"
          ]
        },
        {
          "output_type": "stream",
          "name": "stdout",
          "text": [
            "                   all        213        496      0.884      0.922      0.946       0.75\n"
          ]
        },
        {
          "output_type": "stream",
          "name": "stderr",
          "text": [
            "\n"
          ]
        },
        {
          "output_type": "stream",
          "name": "stdout",
          "text": [
            "\n",
            "      Epoch    GPU_mem   box_loss   cls_loss   dfl_loss  Instances       Size\n"
          ]
        },
        {
          "output_type": "stream",
          "name": "stderr",
          "text": [
            "     77/200         7G     0.9999     0.9797       1.21         39        640: 100%|██████████| 14/14 [00:04<00:00,  3.44it/s]\n",
            "                 Class     Images  Instances      Box(P          R      mAP50  mAP50-95): 100%|██████████| 7/7 [00:01<00:00,  4.19it/s]"
          ]
        },
        {
          "output_type": "stream",
          "name": "stdout",
          "text": [
            "                   all        213        496      0.907       0.89      0.948      0.747\n"
          ]
        },
        {
          "output_type": "stream",
          "name": "stderr",
          "text": [
            "\n"
          ]
        },
        {
          "output_type": "stream",
          "name": "stdout",
          "text": [
            "\n",
            "      Epoch    GPU_mem   box_loss   cls_loss   dfl_loss  Instances       Size\n"
          ]
        },
        {
          "output_type": "stream",
          "name": "stderr",
          "text": [
            "     78/200      7.08G     0.9353     0.8721       1.17         34        640: 100%|██████████| 14/14 [00:04<00:00,  3.42it/s]\n",
            "                 Class     Images  Instances      Box(P          R      mAP50  mAP50-95): 100%|██████████| 7/7 [00:01<00:00,  4.23it/s]"
          ]
        },
        {
          "output_type": "stream",
          "name": "stdout",
          "text": [
            "                   all        213        496      0.893      0.926      0.952      0.749\n"
          ]
        },
        {
          "output_type": "stream",
          "name": "stderr",
          "text": [
            "\n"
          ]
        },
        {
          "output_type": "stream",
          "name": "stdout",
          "text": [
            "\n",
            "      Epoch    GPU_mem   box_loss   cls_loss   dfl_loss  Instances       Size\n"
          ]
        },
        {
          "output_type": "stream",
          "name": "stderr",
          "text": [
            "     79/200      7.03G     0.9731     0.8957      1.211         14        640: 100%|██████████| 14/14 [00:04<00:00,  3.43it/s]\n",
            "                 Class     Images  Instances      Box(P          R      mAP50  mAP50-95): 100%|██████████| 7/7 [00:01<00:00,  4.04it/s]"
          ]
        },
        {
          "output_type": "stream",
          "name": "stdout",
          "text": [
            "                   all        213        496      0.868      0.916      0.948      0.742\n"
          ]
        },
        {
          "output_type": "stream",
          "name": "stderr",
          "text": [
            "\n"
          ]
        },
        {
          "output_type": "stream",
          "name": "stdout",
          "text": [
            "\n",
            "      Epoch    GPU_mem   box_loss   cls_loss   dfl_loss  Instances       Size\n"
          ]
        },
        {
          "output_type": "stream",
          "name": "stderr",
          "text": [
            "     80/200      7.11G     0.9261     0.8617       1.16         22        640: 100%|██████████| 14/14 [00:04<00:00,  3.44it/s]\n",
            "                 Class     Images  Instances      Box(P          R      mAP50  mAP50-95): 100%|██████████| 7/7 [00:01<00:00,  4.07it/s]"
          ]
        },
        {
          "output_type": "stream",
          "name": "stdout",
          "text": [
            "                   all        213        496      0.868      0.932      0.956      0.755\n"
          ]
        },
        {
          "output_type": "stream",
          "name": "stderr",
          "text": [
            "\n"
          ]
        },
        {
          "output_type": "stream",
          "name": "stdout",
          "text": [
            "\n",
            "      Epoch    GPU_mem   box_loss   cls_loss   dfl_loss  Instances       Size\n"
          ]
        },
        {
          "output_type": "stream",
          "name": "stderr",
          "text": [
            "     81/200         7G      0.941     0.9052      1.194         16        640: 100%|██████████| 14/14 [00:04<00:00,  3.47it/s]\n",
            "                 Class     Images  Instances      Box(P          R      mAP50  mAP50-95): 100%|██████████| 7/7 [00:01<00:00,  4.19it/s]"
          ]
        },
        {
          "output_type": "stream",
          "name": "stdout",
          "text": [
            "                   all        213        496       0.92      0.872       0.95      0.758\n"
          ]
        },
        {
          "output_type": "stream",
          "name": "stderr",
          "text": [
            "\n"
          ]
        },
        {
          "output_type": "stream",
          "name": "stdout",
          "text": [
            "\n",
            "      Epoch    GPU_mem   box_loss   cls_loss   dfl_loss  Instances       Size\n"
          ]
        },
        {
          "output_type": "stream",
          "name": "stderr",
          "text": [
            "     82/200      7.08G     0.9455     0.9036      1.191         15        640: 100%|██████████| 14/14 [00:04<00:00,  3.43it/s]\n",
            "                 Class     Images  Instances      Box(P          R      mAP50  mAP50-95): 100%|██████████| 7/7 [00:01<00:00,  4.02it/s]"
          ]
        },
        {
          "output_type": "stream",
          "name": "stdout",
          "text": [
            "                   all        213        496      0.914      0.914      0.959       0.76\n"
          ]
        },
        {
          "output_type": "stream",
          "name": "stderr",
          "text": [
            "\n"
          ]
        },
        {
          "output_type": "stream",
          "name": "stdout",
          "text": [
            "\n",
            "      Epoch    GPU_mem   box_loss   cls_loss   dfl_loss  Instances       Size\n"
          ]
        },
        {
          "output_type": "stream",
          "name": "stderr",
          "text": [
            "     83/200         7G     0.9077     0.8651      1.159         24        640: 100%|██████████| 14/14 [00:04<00:00,  3.46it/s]\n",
            "                 Class     Images  Instances      Box(P          R      mAP50  mAP50-95): 100%|██████████| 7/7 [00:01<00:00,  4.24it/s]"
          ]
        },
        {
          "output_type": "stream",
          "name": "stdout",
          "text": [
            "                   all        213        496       0.89      0.925      0.958      0.759\n"
          ]
        },
        {
          "output_type": "stream",
          "name": "stderr",
          "text": [
            "\n"
          ]
        },
        {
          "output_type": "stream",
          "name": "stdout",
          "text": [
            "\n",
            "      Epoch    GPU_mem   box_loss   cls_loss   dfl_loss  Instances       Size\n"
          ]
        },
        {
          "output_type": "stream",
          "name": "stderr",
          "text": [
            "     84/200      7.08G     0.9544     0.9556      1.202         19        640: 100%|██████████| 14/14 [00:04<00:00,  3.43it/s]\n",
            "                 Class     Images  Instances      Box(P          R      mAP50  mAP50-95): 100%|██████████| 7/7 [00:01<00:00,  4.27it/s]"
          ]
        },
        {
          "output_type": "stream",
          "name": "stdout",
          "text": [
            "                   all        213        496      0.909        0.9       0.96      0.758\n"
          ]
        },
        {
          "output_type": "stream",
          "name": "stderr",
          "text": [
            "\n"
          ]
        },
        {
          "output_type": "stream",
          "name": "stdout",
          "text": [
            "\n",
            "      Epoch    GPU_mem   box_loss   cls_loss   dfl_loss  Instances       Size\n"
          ]
        },
        {
          "output_type": "stream",
          "name": "stderr",
          "text": [
            "     85/200         7G     0.9468     0.8967      1.188         31        640: 100%|██████████| 14/14 [00:04<00:00,  3.46it/s]\n",
            "                 Class     Images  Instances      Box(P          R      mAP50  mAP50-95): 100%|██████████| 7/7 [00:01<00:00,  4.10it/s]"
          ]
        },
        {
          "output_type": "stream",
          "name": "stdout",
          "text": [
            "                   all        213        496      0.933      0.902      0.959       0.75\n"
          ]
        },
        {
          "output_type": "stream",
          "name": "stderr",
          "text": [
            "\n"
          ]
        },
        {
          "output_type": "stream",
          "name": "stdout",
          "text": [
            "\n",
            "      Epoch    GPU_mem   box_loss   cls_loss   dfl_loss  Instances       Size\n"
          ]
        },
        {
          "output_type": "stream",
          "name": "stderr",
          "text": [
            "     86/200      7.13G     0.9526      0.943      1.181         25        640: 100%|██████████| 14/14 [00:04<00:00,  3.43it/s]\n",
            "                 Class     Images  Instances      Box(P          R      mAP50  mAP50-95): 100%|██████████| 7/7 [00:01<00:00,  4.33it/s]"
          ]
        },
        {
          "output_type": "stream",
          "name": "stdout",
          "text": [
            "                   all        213        496      0.918      0.942      0.966      0.784\n"
          ]
        },
        {
          "output_type": "stream",
          "name": "stderr",
          "text": [
            "\n"
          ]
        },
        {
          "output_type": "stream",
          "name": "stdout",
          "text": [
            "\n",
            "      Epoch    GPU_mem   box_loss   cls_loss   dfl_loss  Instances       Size\n"
          ]
        },
        {
          "output_type": "stream",
          "name": "stderr",
          "text": [
            "     87/200      7.02G     0.9536     0.9339      1.201         20        640: 100%|██████████| 14/14 [00:04<00:00,  3.45it/s]\n",
            "                 Class     Images  Instances      Box(P          R      mAP50  mAP50-95): 100%|██████████| 7/7 [00:01<00:00,  4.14it/s]"
          ]
        },
        {
          "output_type": "stream",
          "name": "stdout",
          "text": [
            "                   all        213        496      0.904       0.94      0.965       0.77\n"
          ]
        },
        {
          "output_type": "stream",
          "name": "stderr",
          "text": [
            "\n"
          ]
        },
        {
          "output_type": "stream",
          "name": "stdout",
          "text": [
            "\n",
            "      Epoch    GPU_mem   box_loss   cls_loss   dfl_loss  Instances       Size\n"
          ]
        },
        {
          "output_type": "stream",
          "name": "stderr",
          "text": [
            "     88/200       7.1G     0.9436     0.8685      1.174         27        640: 100%|██████████| 14/14 [00:04<00:00,  3.42it/s]\n",
            "                 Class     Images  Instances      Box(P          R      mAP50  mAP50-95): 100%|██████████| 7/7 [00:01<00:00,  4.29it/s]"
          ]
        },
        {
          "output_type": "stream",
          "name": "stdout",
          "text": [
            "                   all        213        496      0.908      0.911      0.954      0.758\n"
          ]
        },
        {
          "output_type": "stream",
          "name": "stderr",
          "text": [
            "\n"
          ]
        },
        {
          "output_type": "stream",
          "name": "stdout",
          "text": [
            "\n",
            "      Epoch    GPU_mem   box_loss   cls_loss   dfl_loss  Instances       Size\n"
          ]
        },
        {
          "output_type": "stream",
          "name": "stderr",
          "text": [
            "     89/200      7.04G     0.9462     0.9122      1.161         28        640: 100%|██████████| 14/14 [00:04<00:00,  3.45it/s]\n",
            "                 Class     Images  Instances      Box(P          R      mAP50  mAP50-95): 100%|██████████| 7/7 [00:01<00:00,  3.98it/s]"
          ]
        },
        {
          "output_type": "stream",
          "name": "stdout",
          "text": [
            "                   all        213        496      0.905      0.888      0.957      0.767\n"
          ]
        },
        {
          "output_type": "stream",
          "name": "stderr",
          "text": [
            "\n"
          ]
        },
        {
          "output_type": "stream",
          "name": "stdout",
          "text": [
            "\n",
            "      Epoch    GPU_mem   box_loss   cls_loss   dfl_loss  Instances       Size\n"
          ]
        },
        {
          "output_type": "stream",
          "name": "stderr",
          "text": [
            "     90/200      7.11G     0.9159     0.8313      1.174         18        640: 100%|██████████| 14/14 [00:04<00:00,  3.43it/s]\n",
            "                 Class     Images  Instances      Box(P          R      mAP50  mAP50-95): 100%|██████████| 7/7 [00:01<00:00,  4.25it/s]"
          ]
        },
        {
          "output_type": "stream",
          "name": "stdout",
          "text": [
            "                   all        213        496      0.917      0.865      0.952       0.76\n"
          ]
        },
        {
          "output_type": "stream",
          "name": "stderr",
          "text": [
            "\n"
          ]
        },
        {
          "output_type": "stream",
          "name": "stdout",
          "text": [
            "\n",
            "      Epoch    GPU_mem   box_loss   cls_loss   dfl_loss  Instances       Size\n"
          ]
        },
        {
          "output_type": "stream",
          "name": "stderr",
          "text": [
            "     91/200         7G     0.9646     0.9063      1.189         21        640: 100%|██████████| 14/14 [00:04<00:00,  3.44it/s]\n",
            "                 Class     Images  Instances      Box(P          R      mAP50  mAP50-95): 100%|██████████| 7/7 [00:01<00:00,  4.06it/s]"
          ]
        },
        {
          "output_type": "stream",
          "name": "stdout",
          "text": [
            "                   all        213        496      0.909      0.902      0.958       0.77\n"
          ]
        },
        {
          "output_type": "stream",
          "name": "stderr",
          "text": [
            "\n"
          ]
        },
        {
          "output_type": "stream",
          "name": "stdout",
          "text": [
            "\n",
            "      Epoch    GPU_mem   box_loss   cls_loss   dfl_loss  Instances       Size\n"
          ]
        },
        {
          "output_type": "stream",
          "name": "stderr",
          "text": [
            "     92/200      7.11G     0.9141     0.8956       1.18         26        640: 100%|██████████| 14/14 [00:04<00:00,  3.42it/s]\n",
            "                 Class     Images  Instances      Box(P          R      mAP50  mAP50-95): 100%|██████████| 7/7 [00:01<00:00,  4.18it/s]"
          ]
        },
        {
          "output_type": "stream",
          "name": "stdout",
          "text": [
            "                   all        213        496      0.898       0.84      0.936       0.72\n"
          ]
        },
        {
          "output_type": "stream",
          "name": "stderr",
          "text": [
            "\n"
          ]
        },
        {
          "output_type": "stream",
          "name": "stdout",
          "text": [
            "\n",
            "      Epoch    GPU_mem   box_loss   cls_loss   dfl_loss  Instances       Size\n"
          ]
        },
        {
          "output_type": "stream",
          "name": "stderr",
          "text": [
            "     93/200      7.03G     0.9274     0.8848      1.168         13        640: 100%|██████████| 14/14 [00:04<00:00,  3.46it/s]\n",
            "                 Class     Images  Instances      Box(P          R      mAP50  mAP50-95): 100%|██████████| 7/7 [00:01<00:00,  4.25it/s]"
          ]
        },
        {
          "output_type": "stream",
          "name": "stdout",
          "text": [
            "                   all        213        496      0.936      0.895      0.965       0.78\n"
          ]
        },
        {
          "output_type": "stream",
          "name": "stderr",
          "text": [
            "\n"
          ]
        },
        {
          "output_type": "stream",
          "name": "stdout",
          "text": [
            "\n",
            "      Epoch    GPU_mem   box_loss   cls_loss   dfl_loss  Instances       Size\n"
          ]
        },
        {
          "output_type": "stream",
          "name": "stderr",
          "text": [
            "     94/200      7.12G     0.9338     0.8842      1.174         27        640: 100%|██████████| 14/14 [00:04<00:00,  3.43it/s]\n",
            "                 Class     Images  Instances      Box(P          R      mAP50  mAP50-95): 100%|██████████| 7/7 [00:01<00:00,  4.20it/s]"
          ]
        },
        {
          "output_type": "stream",
          "name": "stdout",
          "text": [
            "                   all        213        496      0.878      0.925      0.962      0.762\n"
          ]
        },
        {
          "output_type": "stream",
          "name": "stderr",
          "text": [
            "\n"
          ]
        },
        {
          "output_type": "stream",
          "name": "stdout",
          "text": [
            "\n",
            "      Epoch    GPU_mem   box_loss   cls_loss   dfl_loss  Instances       Size\n"
          ]
        },
        {
          "output_type": "stream",
          "name": "stderr",
          "text": [
            "     95/200      7.02G     0.9069     0.8535      1.157         22        640: 100%|██████████| 14/14 [00:04<00:00,  3.47it/s]\n",
            "                 Class     Images  Instances      Box(P          R      mAP50  mAP50-95): 100%|██████████| 7/7 [00:01<00:00,  4.35it/s]"
          ]
        },
        {
          "output_type": "stream",
          "name": "stdout",
          "text": [
            "                   all        213        496      0.897      0.927      0.959      0.774\n"
          ]
        },
        {
          "output_type": "stream",
          "name": "stderr",
          "text": [
            "\n"
          ]
        },
        {
          "output_type": "stream",
          "name": "stdout",
          "text": [
            "\n",
            "      Epoch    GPU_mem   box_loss   cls_loss   dfl_loss  Instances       Size\n"
          ]
        },
        {
          "output_type": "stream",
          "name": "stderr",
          "text": [
            "     96/200      7.08G     0.8992      0.869       1.16         23        640: 100%|██████████| 14/14 [00:04<00:00,  3.44it/s]\n",
            "                 Class     Images  Instances      Box(P          R      mAP50  mAP50-95): 100%|██████████| 7/7 [00:01<00:00,  4.14it/s]"
          ]
        },
        {
          "output_type": "stream",
          "name": "stdout",
          "text": [
            "                   all        213        496      0.941      0.918       0.97      0.794\n"
          ]
        },
        {
          "output_type": "stream",
          "name": "stderr",
          "text": [
            "\n"
          ]
        },
        {
          "output_type": "stream",
          "name": "stdout",
          "text": [
            "\n",
            "      Epoch    GPU_mem   box_loss   cls_loss   dfl_loss  Instances       Size\n"
          ]
        },
        {
          "output_type": "stream",
          "name": "stderr",
          "text": [
            "     97/200      7.04G     0.8716     0.8209      1.126         27        640: 100%|██████████| 14/14 [00:04<00:00,  3.45it/s]\n",
            "                 Class     Images  Instances      Box(P          R      mAP50  mAP50-95): 100%|██████████| 7/7 [00:01<00:00,  4.06it/s]"
          ]
        },
        {
          "output_type": "stream",
          "name": "stdout",
          "text": [
            "                   all        213        496      0.943       0.92      0.968        0.8\n"
          ]
        },
        {
          "output_type": "stream",
          "name": "stderr",
          "text": [
            "\n"
          ]
        },
        {
          "output_type": "stream",
          "name": "stdout",
          "text": [
            "\n",
            "      Epoch    GPU_mem   box_loss   cls_loss   dfl_loss  Instances       Size\n"
          ]
        },
        {
          "output_type": "stream",
          "name": "stderr",
          "text": [
            "     98/200      7.16G     0.8598     0.8013      1.123         24        640: 100%|██████████| 14/14 [00:04<00:00,  3.43it/s]\n",
            "                 Class     Images  Instances      Box(P          R      mAP50  mAP50-95): 100%|██████████| 7/7 [00:01<00:00,  4.14it/s]"
          ]
        },
        {
          "output_type": "stream",
          "name": "stdout",
          "text": [
            "                   all        213        496      0.901      0.933      0.971      0.804\n"
          ]
        },
        {
          "output_type": "stream",
          "name": "stderr",
          "text": [
            "\n"
          ]
        },
        {
          "output_type": "stream",
          "name": "stdout",
          "text": [
            "\n",
            "      Epoch    GPU_mem   box_loss   cls_loss   dfl_loss  Instances       Size\n"
          ]
        },
        {
          "output_type": "stream",
          "name": "stderr",
          "text": [
            "     99/200      7.05G     0.8562     0.8162      1.136         25        640: 100%|██████████| 14/14 [00:04<00:00,  3.46it/s]\n",
            "                 Class     Images  Instances      Box(P          R      mAP50  mAP50-95): 100%|██████████| 7/7 [00:01<00:00,  4.27it/s]"
          ]
        },
        {
          "output_type": "stream",
          "name": "stdout",
          "text": [
            "                   all        213        496      0.941      0.916      0.971      0.805\n"
          ]
        },
        {
          "output_type": "stream",
          "name": "stderr",
          "text": [
            "\n"
          ]
        },
        {
          "output_type": "stream",
          "name": "stdout",
          "text": [
            "\n",
            "      Epoch    GPU_mem   box_loss   cls_loss   dfl_loss  Instances       Size\n"
          ]
        },
        {
          "output_type": "stream",
          "name": "stderr",
          "text": [
            "    100/200      7.13G     0.8459     0.8236      1.137         25        640: 100%|██████████| 14/14 [00:04<00:00,  3.38it/s]\n",
            "                 Class     Images  Instances      Box(P          R      mAP50  mAP50-95): 100%|██████████| 7/7 [00:01<00:00,  4.25it/s]"
          ]
        },
        {
          "output_type": "stream",
          "name": "stdout",
          "text": [
            "                   all        213        496      0.941      0.937      0.974      0.807\n"
          ]
        },
        {
          "output_type": "stream",
          "name": "stderr",
          "text": [
            "\n"
          ]
        },
        {
          "output_type": "stream",
          "name": "stdout",
          "text": [
            "\n",
            "      Epoch    GPU_mem   box_loss   cls_loss   dfl_loss  Instances       Size\n"
          ]
        },
        {
          "output_type": "stream",
          "name": "stderr",
          "text": [
            "    101/200      7.11G     0.8712     0.8069      1.157         24        640: 100%|██████████| 14/14 [00:04<00:00,  3.44it/s]\n",
            "                 Class     Images  Instances      Box(P          R      mAP50  mAP50-95): 100%|██████████| 7/7 [00:01<00:00,  4.28it/s]"
          ]
        },
        {
          "output_type": "stream",
          "name": "stdout",
          "text": [
            "                   all        213        496      0.934      0.947      0.973      0.817\n"
          ]
        },
        {
          "output_type": "stream",
          "name": "stderr",
          "text": [
            "\n"
          ]
        },
        {
          "output_type": "stream",
          "name": "stdout",
          "text": [
            "\n",
            "      Epoch    GPU_mem   box_loss   cls_loss   dfl_loss  Instances       Size\n"
          ]
        },
        {
          "output_type": "stream",
          "name": "stderr",
          "text": [
            "    102/200      7.12G     0.9216     0.8325      1.154         19        640: 100%|██████████| 14/14 [00:04<00:00,  3.40it/s]\n",
            "                 Class     Images  Instances      Box(P          R      mAP50  mAP50-95): 100%|██████████| 7/7 [00:01<00:00,  4.32it/s]"
          ]
        },
        {
          "output_type": "stream",
          "name": "stdout",
          "text": [
            "                   all        213        496      0.883      0.923       0.97      0.791\n"
          ]
        },
        {
          "output_type": "stream",
          "name": "stderr",
          "text": [
            "\n"
          ]
        },
        {
          "output_type": "stream",
          "name": "stdout",
          "text": [
            "\n",
            "      Epoch    GPU_mem   box_loss   cls_loss   dfl_loss  Instances       Size\n"
          ]
        },
        {
          "output_type": "stream",
          "name": "stderr",
          "text": [
            "    103/200      7.03G     0.8815     0.7734      1.127         18        640: 100%|██████████| 14/14 [00:04<00:00,  3.43it/s]\n",
            "                 Class     Images  Instances      Box(P          R      mAP50  mAP50-95): 100%|██████████| 7/7 [00:01<00:00,  4.02it/s]"
          ]
        },
        {
          "output_type": "stream",
          "name": "stdout",
          "text": [
            "                   all        213        496      0.926      0.933       0.97      0.794\n"
          ]
        },
        {
          "output_type": "stream",
          "name": "stderr",
          "text": [
            "\n"
          ]
        },
        {
          "output_type": "stream",
          "name": "stdout",
          "text": [
            "\n",
            "      Epoch    GPU_mem   box_loss   cls_loss   dfl_loss  Instances       Size\n"
          ]
        },
        {
          "output_type": "stream",
          "name": "stderr",
          "text": [
            "    104/200      7.13G     0.8747     0.7981      1.148         21        640: 100%|██████████| 14/14 [00:04<00:00,  3.43it/s]\n",
            "                 Class     Images  Instances      Box(P          R      mAP50  mAP50-95): 100%|██████████| 7/7 [00:01<00:00,  4.29it/s]"
          ]
        },
        {
          "output_type": "stream",
          "name": "stdout",
          "text": [
            "                   all        213        496      0.956      0.928      0.977      0.821\n"
          ]
        },
        {
          "output_type": "stream",
          "name": "stderr",
          "text": [
            "\n"
          ]
        },
        {
          "output_type": "stream",
          "name": "stdout",
          "text": [
            "\n",
            "      Epoch    GPU_mem   box_loss   cls_loss   dfl_loss  Instances       Size\n"
          ]
        },
        {
          "output_type": "stream",
          "name": "stderr",
          "text": [
            "    105/200      7.04G     0.8826     0.8286      1.162         26        640: 100%|██████████| 14/14 [00:04<00:00,  3.47it/s]\n",
            "                 Class     Images  Instances      Box(P          R      mAP50  mAP50-95): 100%|██████████| 7/7 [00:01<00:00,  4.15it/s]"
          ]
        },
        {
          "output_type": "stream",
          "name": "stdout",
          "text": [
            "                   all        213        496      0.948      0.941      0.978      0.823\n"
          ]
        },
        {
          "output_type": "stream",
          "name": "stderr",
          "text": [
            "\n"
          ]
        },
        {
          "output_type": "stream",
          "name": "stdout",
          "text": [
            "\n",
            "      Epoch    GPU_mem   box_loss   cls_loss   dfl_loss  Instances       Size\n"
          ]
        },
        {
          "output_type": "stream",
          "name": "stderr",
          "text": [
            "    106/200      7.09G      0.876     0.8319      1.129         37        640: 100%|██████████| 14/14 [00:04<00:00,  3.43it/s]\n",
            "                 Class     Images  Instances      Box(P          R      mAP50  mAP50-95): 100%|██████████| 7/7 [00:01<00:00,  4.28it/s]"
          ]
        },
        {
          "output_type": "stream",
          "name": "stdout",
          "text": [
            "                   all        213        496      0.944      0.957      0.978      0.811\n"
          ]
        },
        {
          "output_type": "stream",
          "name": "stderr",
          "text": [
            "\n"
          ]
        },
        {
          "output_type": "stream",
          "name": "stdout",
          "text": [
            "\n",
            "      Epoch    GPU_mem   box_loss   cls_loss   dfl_loss  Instances       Size\n"
          ]
        },
        {
          "output_type": "stream",
          "name": "stderr",
          "text": [
            "    107/200      7.12G     0.8317     0.7617      1.123         27        640: 100%|██████████| 14/14 [00:04<00:00,  3.45it/s]\n",
            "                 Class     Images  Instances      Box(P          R      mAP50  mAP50-95): 100%|██████████| 7/7 [00:01<00:00,  4.24it/s]"
          ]
        },
        {
          "output_type": "stream",
          "name": "stdout",
          "text": [
            "                   all        213        496      0.942      0.954      0.977      0.808\n"
          ]
        },
        {
          "output_type": "stream",
          "name": "stderr",
          "text": [
            "\n"
          ]
        },
        {
          "output_type": "stream",
          "name": "stdout",
          "text": [
            "\n",
            "      Epoch    GPU_mem   box_loss   cls_loss   dfl_loss  Instances       Size\n"
          ]
        },
        {
          "output_type": "stream",
          "name": "stderr",
          "text": [
            "    108/200      7.08G     0.8452     0.7836       1.12         22        640: 100%|██████████| 14/14 [00:04<00:00,  3.43it/s]\n",
            "                 Class     Images  Instances      Box(P          R      mAP50  mAP50-95): 100%|██████████| 7/7 [00:01<00:00,  4.12it/s]"
          ]
        },
        {
          "output_type": "stream",
          "name": "stdout",
          "text": [
            "                   all        213        496       0.96      0.937      0.977      0.809\n"
          ]
        },
        {
          "output_type": "stream",
          "name": "stderr",
          "text": [
            "\n"
          ]
        },
        {
          "output_type": "stream",
          "name": "stdout",
          "text": [
            "\n",
            "      Epoch    GPU_mem   box_loss   cls_loss   dfl_loss  Instances       Size\n"
          ]
        },
        {
          "output_type": "stream",
          "name": "stderr",
          "text": [
            "    109/200      7.01G     0.8432     0.7393      1.136         22        640: 100%|██████████| 14/14 [00:04<00:00,  3.45it/s]\n",
            "                 Class     Images  Instances      Box(P          R      mAP50  mAP50-95): 100%|██████████| 7/7 [00:01<00:00,  4.29it/s]"
          ]
        },
        {
          "output_type": "stream",
          "name": "stdout",
          "text": [
            "                   all        213        496      0.944      0.959      0.979      0.828\n"
          ]
        },
        {
          "output_type": "stream",
          "name": "stderr",
          "text": [
            "\n"
          ]
        },
        {
          "output_type": "stream",
          "name": "stdout",
          "text": [
            "\n",
            "      Epoch    GPU_mem   box_loss   cls_loss   dfl_loss  Instances       Size\n"
          ]
        },
        {
          "output_type": "stream",
          "name": "stderr",
          "text": [
            "    110/200      7.08G     0.8781      0.771      1.121         29        640: 100%|██████████| 14/14 [00:04<00:00,  3.43it/s]\n",
            "                 Class     Images  Instances      Box(P          R      mAP50  mAP50-95): 100%|██████████| 7/7 [00:01<00:00,  4.08it/s]"
          ]
        },
        {
          "output_type": "stream",
          "name": "stdout",
          "text": [
            "                   all        213        496      0.932      0.916       0.97      0.801\n"
          ]
        },
        {
          "output_type": "stream",
          "name": "stderr",
          "text": [
            "\n"
          ]
        },
        {
          "output_type": "stream",
          "name": "stdout",
          "text": [
            "\n",
            "      Epoch    GPU_mem   box_loss   cls_loss   dfl_loss  Instances       Size\n"
          ]
        },
        {
          "output_type": "stream",
          "name": "stderr",
          "text": [
            "    111/200      7.04G     0.8255     0.7607      1.116         26        640: 100%|██████████| 14/14 [00:04<00:00,  3.46it/s]\n",
            "                 Class     Images  Instances      Box(P          R      mAP50  mAP50-95): 100%|██████████| 7/7 [00:01<00:00,  4.28it/s]"
          ]
        },
        {
          "output_type": "stream",
          "name": "stdout",
          "text": [
            "                   all        213        496      0.938      0.966      0.979      0.813\n"
          ]
        },
        {
          "output_type": "stream",
          "name": "stderr",
          "text": [
            "\n"
          ]
        },
        {
          "output_type": "stream",
          "name": "stdout",
          "text": [
            "\n",
            "      Epoch    GPU_mem   box_loss   cls_loss   dfl_loss  Instances       Size\n"
          ]
        },
        {
          "output_type": "stream",
          "name": "stderr",
          "text": [
            "    112/200      7.09G     0.8723     0.7708      1.111         39        640: 100%|██████████| 14/14 [00:04<00:00,  3.42it/s]\n",
            "                 Class     Images  Instances      Box(P          R      mAP50  mAP50-95): 100%|██████████| 7/7 [00:01<00:00,  4.02it/s]"
          ]
        },
        {
          "output_type": "stream",
          "name": "stdout",
          "text": [
            "                   all        213        496      0.934      0.949      0.977      0.804\n"
          ]
        },
        {
          "output_type": "stream",
          "name": "stderr",
          "text": [
            "\n"
          ]
        },
        {
          "output_type": "stream",
          "name": "stdout",
          "text": [
            "\n",
            "      Epoch    GPU_mem   box_loss   cls_loss   dfl_loss  Instances       Size\n"
          ]
        },
        {
          "output_type": "stream",
          "name": "stderr",
          "text": [
            "    113/200      7.05G     0.8803     0.7769      1.153         18        640: 100%|██████████| 14/14 [00:04<00:00,  3.44it/s]\n",
            "                 Class     Images  Instances      Box(P          R      mAP50  mAP50-95): 100%|██████████| 7/7 [00:01<00:00,  4.30it/s]"
          ]
        },
        {
          "output_type": "stream",
          "name": "stdout",
          "text": [
            "                   all        213        496      0.946      0.915      0.977      0.788\n"
          ]
        },
        {
          "output_type": "stream",
          "name": "stderr",
          "text": [
            "\n"
          ]
        },
        {
          "output_type": "stream",
          "name": "stdout",
          "text": [
            "\n",
            "      Epoch    GPU_mem   box_loss   cls_loss   dfl_loss  Instances       Size\n"
          ]
        },
        {
          "output_type": "stream",
          "name": "stderr",
          "text": [
            "    114/200      7.08G     0.8458     0.7803      1.127         15        640: 100%|██████████| 14/14 [00:04<00:00,  3.44it/s]\n",
            "                 Class     Images  Instances      Box(P          R      mAP50  mAP50-95): 100%|██████████| 7/7 [00:01<00:00,  4.23it/s]"
          ]
        },
        {
          "output_type": "stream",
          "name": "stdout",
          "text": [
            "                   all        213        496      0.939      0.944      0.979      0.821\n"
          ]
        },
        {
          "output_type": "stream",
          "name": "stderr",
          "text": [
            "\n"
          ]
        },
        {
          "output_type": "stream",
          "name": "stdout",
          "text": [
            "\n",
            "      Epoch    GPU_mem   box_loss   cls_loss   dfl_loss  Instances       Size\n"
          ]
        },
        {
          "output_type": "stream",
          "name": "stderr",
          "text": [
            "    115/200         7G     0.8618     0.7867      1.154         13        640: 100%|██████████| 14/14 [00:04<00:00,  3.45it/s]\n",
            "                 Class     Images  Instances      Box(P          R      mAP50  mAP50-95): 100%|██████████| 7/7 [00:01<00:00,  4.16it/s]"
          ]
        },
        {
          "output_type": "stream",
          "name": "stdout",
          "text": [
            "                   all        213        496      0.931      0.955      0.978      0.814\n"
          ]
        },
        {
          "output_type": "stream",
          "name": "stderr",
          "text": [
            "\n"
          ]
        },
        {
          "output_type": "stream",
          "name": "stdout",
          "text": [
            "\n",
            "      Epoch    GPU_mem   box_loss   cls_loss   dfl_loss  Instances       Size\n"
          ]
        },
        {
          "output_type": "stream",
          "name": "stderr",
          "text": [
            "    116/200      7.14G     0.7765      0.739      1.094         22        640: 100%|██████████| 14/14 [00:04<00:00,  3.43it/s]\n",
            "                 Class     Images  Instances      Box(P          R      mAP50  mAP50-95): 100%|██████████| 7/7 [00:01<00:00,  4.33it/s]"
          ]
        },
        {
          "output_type": "stream",
          "name": "stdout",
          "text": [
            "                   all        213        496       0.95      0.935      0.976       0.83\n"
          ]
        },
        {
          "output_type": "stream",
          "name": "stderr",
          "text": [
            "\n"
          ]
        },
        {
          "output_type": "stream",
          "name": "stdout",
          "text": [
            "\n",
            "      Epoch    GPU_mem   box_loss   cls_loss   dfl_loss  Instances       Size\n"
          ]
        },
        {
          "output_type": "stream",
          "name": "stderr",
          "text": [
            "    117/200      7.05G     0.7971     0.7983      1.124         13        640: 100%|██████████| 14/14 [00:04<00:00,  3.44it/s]\n",
            "                 Class     Images  Instances      Box(P          R      mAP50  mAP50-95): 100%|██████████| 7/7 [00:01<00:00,  4.09it/s]"
          ]
        },
        {
          "output_type": "stream",
          "name": "stdout",
          "text": [
            "                   all        213        496       0.95      0.942      0.981      0.835\n"
          ]
        },
        {
          "output_type": "stream",
          "name": "stderr",
          "text": [
            "\n"
          ]
        },
        {
          "output_type": "stream",
          "name": "stdout",
          "text": [
            "\n",
            "      Epoch    GPU_mem   box_loss   cls_loss   dfl_loss  Instances       Size\n"
          ]
        },
        {
          "output_type": "stream",
          "name": "stderr",
          "text": [
            "    118/200      7.11G     0.7962     0.7466      1.108         30        640: 100%|██████████| 14/14 [00:04<00:00,  3.43it/s]\n",
            "                 Class     Images  Instances      Box(P          R      mAP50  mAP50-95): 100%|██████████| 7/7 [00:01<00:00,  4.24it/s]"
          ]
        },
        {
          "output_type": "stream",
          "name": "stdout",
          "text": [
            "                   all        213        496      0.928      0.967      0.979      0.845\n"
          ]
        },
        {
          "output_type": "stream",
          "name": "stderr",
          "text": [
            "\n"
          ]
        },
        {
          "output_type": "stream",
          "name": "stdout",
          "text": [
            "\n",
            "      Epoch    GPU_mem   box_loss   cls_loss   dfl_loss  Instances       Size\n"
          ]
        },
        {
          "output_type": "stream",
          "name": "stderr",
          "text": [
            "    119/200      6.99G     0.8239     0.7695      1.108         20        640: 100%|██████████| 14/14 [00:04<00:00,  3.46it/s]\n",
            "                 Class     Images  Instances      Box(P          R      mAP50  mAP50-95): 100%|██████████| 7/7 [00:01<00:00,  4.10it/s]"
          ]
        },
        {
          "output_type": "stream",
          "name": "stdout",
          "text": [
            "                   all        213        496      0.951       0.94       0.98      0.837\n"
          ]
        },
        {
          "output_type": "stream",
          "name": "stderr",
          "text": [
            "\n"
          ]
        },
        {
          "output_type": "stream",
          "name": "stdout",
          "text": [
            "\n",
            "      Epoch    GPU_mem   box_loss   cls_loss   dfl_loss  Instances       Size\n"
          ]
        },
        {
          "output_type": "stream",
          "name": "stderr",
          "text": [
            "    120/200      7.13G     0.7931     0.7488      1.099         32        640: 100%|██████████| 14/14 [00:04<00:00,  3.43it/s]\n",
            "                 Class     Images  Instances      Box(P          R      mAP50  mAP50-95): 100%|██████████| 7/7 [00:01<00:00,  4.30it/s]"
          ]
        },
        {
          "output_type": "stream",
          "name": "stdout",
          "text": [
            "                   all        213        496      0.949      0.938      0.976       0.83\n"
          ]
        },
        {
          "output_type": "stream",
          "name": "stderr",
          "text": [
            "\n"
          ]
        },
        {
          "output_type": "stream",
          "name": "stdout",
          "text": [
            "\n",
            "      Epoch    GPU_mem   box_loss   cls_loss   dfl_loss  Instances       Size\n"
          ]
        },
        {
          "output_type": "stream",
          "name": "stderr",
          "text": [
            "    121/200      7.05G     0.8415     0.7854      1.126         12        640: 100%|██████████| 14/14 [00:04<00:00,  3.46it/s]\n",
            "                 Class     Images  Instances      Box(P          R      mAP50  mAP50-95): 100%|██████████| 7/7 [00:01<00:00,  4.22it/s]"
          ]
        },
        {
          "output_type": "stream",
          "name": "stdout",
          "text": [
            "                   all        213        496      0.929      0.948      0.977      0.838\n"
          ]
        },
        {
          "output_type": "stream",
          "name": "stderr",
          "text": [
            "\n"
          ]
        },
        {
          "output_type": "stream",
          "name": "stdout",
          "text": [
            "\n",
            "      Epoch    GPU_mem   box_loss   cls_loss   dfl_loss  Instances       Size\n"
          ]
        },
        {
          "output_type": "stream",
          "name": "stderr",
          "text": [
            "    122/200      7.18G     0.7952     0.7455      1.112         27        640: 100%|██████████| 14/14 [00:04<00:00,  3.41it/s]\n",
            "                 Class     Images  Instances      Box(P          R      mAP50  mAP50-95): 100%|██████████| 7/7 [00:01<00:00,  4.12it/s]"
          ]
        },
        {
          "output_type": "stream",
          "name": "stdout",
          "text": [
            "                   all        213        496       0.95      0.953      0.979      0.844\n"
          ]
        },
        {
          "output_type": "stream",
          "name": "stderr",
          "text": [
            "\n"
          ]
        },
        {
          "output_type": "stream",
          "name": "stdout",
          "text": [
            "\n",
            "      Epoch    GPU_mem   box_loss   cls_loss   dfl_loss  Instances       Size\n"
          ]
        },
        {
          "output_type": "stream",
          "name": "stderr",
          "text": [
            "    123/200      7.03G     0.7715     0.7029      1.072         22        640: 100%|██████████| 14/14 [00:04<00:00,  3.46it/s]\n",
            "                 Class     Images  Instances      Box(P          R      mAP50  mAP50-95): 100%|██████████| 7/7 [00:01<00:00,  4.16it/s]"
          ]
        },
        {
          "output_type": "stream",
          "name": "stdout",
          "text": [
            "                   all        213        496      0.924       0.96      0.976      0.829\n"
          ]
        },
        {
          "output_type": "stream",
          "name": "stderr",
          "text": [
            "\n"
          ]
        },
        {
          "output_type": "stream",
          "name": "stdout",
          "text": [
            "\n",
            "      Epoch    GPU_mem   box_loss   cls_loss   dfl_loss  Instances       Size\n"
          ]
        },
        {
          "output_type": "stream",
          "name": "stderr",
          "text": [
            "    124/200      7.09G     0.7817     0.7134      1.112         22        640: 100%|██████████| 14/14 [00:04<00:00,  3.43it/s]\n",
            "                 Class     Images  Instances      Box(P          R      mAP50  mAP50-95): 100%|██████████| 7/7 [00:01<00:00,  4.28it/s]"
          ]
        },
        {
          "output_type": "stream",
          "name": "stdout",
          "text": [
            "                   all        213        496      0.923      0.973      0.977      0.846\n"
          ]
        },
        {
          "output_type": "stream",
          "name": "stderr",
          "text": [
            "\n"
          ]
        },
        {
          "output_type": "stream",
          "name": "stdout",
          "text": [
            "\n",
            "      Epoch    GPU_mem   box_loss   cls_loss   dfl_loss  Instances       Size\n"
          ]
        },
        {
          "output_type": "stream",
          "name": "stderr",
          "text": [
            "    125/200      7.05G     0.7973     0.7323      1.097         23        640: 100%|██████████| 14/14 [00:04<00:00,  3.47it/s]\n",
            "                 Class     Images  Instances      Box(P          R      mAP50  mAP50-95): 100%|██████████| 7/7 [00:01<00:00,  4.37it/s]"
          ]
        },
        {
          "output_type": "stream",
          "name": "stdout",
          "text": [
            "                   all        213        496      0.939      0.955      0.983      0.841\n"
          ]
        },
        {
          "output_type": "stream",
          "name": "stderr",
          "text": [
            "\n"
          ]
        },
        {
          "output_type": "stream",
          "name": "stdout",
          "text": [
            "\n",
            "      Epoch    GPU_mem   box_loss   cls_loss   dfl_loss  Instances       Size\n"
          ]
        },
        {
          "output_type": "stream",
          "name": "stderr",
          "text": [
            "    126/200      7.13G     0.8197     0.7583      1.132         18        640: 100%|██████████| 14/14 [00:04<00:00,  3.44it/s]\n",
            "                 Class     Images  Instances      Box(P          R      mAP50  mAP50-95): 100%|██████████| 7/7 [00:01<00:00,  4.11it/s]"
          ]
        },
        {
          "output_type": "stream",
          "name": "stdout",
          "text": [
            "                   all        213        496      0.945      0.954      0.982      0.849\n"
          ]
        },
        {
          "output_type": "stream",
          "name": "stderr",
          "text": [
            "\n"
          ]
        },
        {
          "output_type": "stream",
          "name": "stdout",
          "text": [
            "\n",
            "      Epoch    GPU_mem   box_loss   cls_loss   dfl_loss  Instances       Size\n"
          ]
        },
        {
          "output_type": "stream",
          "name": "stderr",
          "text": [
            "    127/200      7.02G     0.7733     0.6778      1.091         25        640: 100%|██████████| 14/14 [00:04<00:00,  3.44it/s]\n",
            "                 Class     Images  Instances      Box(P          R      mAP50  mAP50-95): 100%|██████████| 7/7 [00:01<00:00,  4.26it/s]\n"
          ]
        },
        {
          "output_type": "stream",
          "name": "stdout",
          "text": [
            "                   all        213        496      0.942      0.938      0.984      0.841\n",
            "\n",
            "      Epoch    GPU_mem   box_loss   cls_loss   dfl_loss  Instances       Size\n"
          ]
        },
        {
          "output_type": "stream",
          "name": "stderr",
          "text": [
            "    128/200      7.11G     0.8132     0.7357      1.095         21        640: 100%|██████████| 14/14 [00:04<00:00,  3.44it/s]\n",
            "                 Class     Images  Instances      Box(P          R      mAP50  mAP50-95): 100%|██████████| 7/7 [00:01<00:00,  4.17it/s]"
          ]
        },
        {
          "output_type": "stream",
          "name": "stdout",
          "text": [
            "                   all        213        496      0.963      0.946      0.983      0.853\n"
          ]
        },
        {
          "output_type": "stream",
          "name": "stderr",
          "text": [
            "\n"
          ]
        },
        {
          "output_type": "stream",
          "name": "stdout",
          "text": [
            "\n",
            "      Epoch    GPU_mem   box_loss   cls_loss   dfl_loss  Instances       Size\n"
          ]
        },
        {
          "output_type": "stream",
          "name": "stderr",
          "text": [
            "    129/200      7.04G     0.8293     0.7411      1.121         22        640: 100%|██████████| 14/14 [00:04<00:00,  3.43it/s]\n",
            "                 Class     Images  Instances      Box(P          R      mAP50  mAP50-95): 100%|██████████| 7/7 [00:01<00:00,  4.32it/s]"
          ]
        },
        {
          "output_type": "stream",
          "name": "stdout",
          "text": [
            "                   all        213        496      0.952      0.971      0.983      0.858\n"
          ]
        },
        {
          "output_type": "stream",
          "name": "stderr",
          "text": [
            "\n"
          ]
        },
        {
          "output_type": "stream",
          "name": "stdout",
          "text": [
            "\n",
            "      Epoch    GPU_mem   box_loss   cls_loss   dfl_loss  Instances       Size\n"
          ]
        },
        {
          "output_type": "stream",
          "name": "stderr",
          "text": [
            "    130/200      7.11G     0.7827     0.7339       1.12         33        640: 100%|██████████| 14/14 [00:04<00:00,  3.43it/s]\n",
            "                 Class     Images  Instances      Box(P          R      mAP50  mAP50-95): 100%|██████████| 7/7 [00:01<00:00,  4.29it/s]"
          ]
        },
        {
          "output_type": "stream",
          "name": "stdout",
          "text": [
            "                   all        213        496      0.934      0.968      0.983      0.854\n"
          ]
        },
        {
          "output_type": "stream",
          "name": "stderr",
          "text": [
            "\n"
          ]
        },
        {
          "output_type": "stream",
          "name": "stdout",
          "text": [
            "\n",
            "      Epoch    GPU_mem   box_loss   cls_loss   dfl_loss  Instances       Size\n"
          ]
        },
        {
          "output_type": "stream",
          "name": "stderr",
          "text": [
            "    131/200      7.05G     0.7783     0.7382      1.082         24        640: 100%|██████████| 14/14 [00:04<00:00,  3.47it/s]\n",
            "                 Class     Images  Instances      Box(P          R      mAP50  mAP50-95): 100%|██████████| 7/7 [00:01<00:00,  4.21it/s]"
          ]
        },
        {
          "output_type": "stream",
          "name": "stdout",
          "text": [
            "                   all        213        496      0.966      0.945      0.984       0.85\n"
          ]
        },
        {
          "output_type": "stream",
          "name": "stderr",
          "text": [
            "\n"
          ]
        },
        {
          "output_type": "stream",
          "name": "stdout",
          "text": [
            "\n",
            "      Epoch    GPU_mem   box_loss   cls_loss   dfl_loss  Instances       Size\n"
          ]
        },
        {
          "output_type": "stream",
          "name": "stderr",
          "text": [
            "    132/200      7.14G     0.7272     0.6642      1.045         18        640: 100%|██████████| 14/14 [00:04<00:00,  3.44it/s]\n",
            "                 Class     Images  Instances      Box(P          R      mAP50  mAP50-95): 100%|██████████| 7/7 [00:01<00:00,  4.33it/s]"
          ]
        },
        {
          "output_type": "stream",
          "name": "stdout",
          "text": [
            "                   all        213        496       0.96      0.964      0.985      0.856\n"
          ]
        },
        {
          "output_type": "stream",
          "name": "stderr",
          "text": [
            "\n"
          ]
        },
        {
          "output_type": "stream",
          "name": "stdout",
          "text": [
            "\n",
            "      Epoch    GPU_mem   box_loss   cls_loss   dfl_loss  Instances       Size\n"
          ]
        },
        {
          "output_type": "stream",
          "name": "stderr",
          "text": [
            "    133/200      7.02G     0.7853     0.7359      1.099         23        640: 100%|██████████| 14/14 [00:04<00:00,  3.47it/s]\n",
            "                 Class     Images  Instances      Box(P          R      mAP50  mAP50-95): 100%|██████████| 7/7 [00:01<00:00,  4.15it/s]"
          ]
        },
        {
          "output_type": "stream",
          "name": "stdout",
          "text": [
            "                   all        213        496      0.954      0.965      0.985      0.855\n"
          ]
        },
        {
          "output_type": "stream",
          "name": "stderr",
          "text": [
            "\n"
          ]
        },
        {
          "output_type": "stream",
          "name": "stdout",
          "text": [
            "\n",
            "      Epoch    GPU_mem   box_loss   cls_loss   dfl_loss  Instances       Size\n"
          ]
        },
        {
          "output_type": "stream",
          "name": "stderr",
          "text": [
            "    134/200      7.19G     0.7672     0.7073      1.076         18        640: 100%|██████████| 14/14 [00:04<00:00,  3.43it/s]\n",
            "                 Class     Images  Instances      Box(P          R      mAP50  mAP50-95): 100%|██████████| 7/7 [00:01<00:00,  4.20it/s]"
          ]
        },
        {
          "output_type": "stream",
          "name": "stdout",
          "text": [
            "                   all        213        496      0.968      0.959      0.986      0.849\n"
          ]
        },
        {
          "output_type": "stream",
          "name": "stderr",
          "text": [
            "\n"
          ]
        },
        {
          "output_type": "stream",
          "name": "stdout",
          "text": [
            "\n",
            "      Epoch    GPU_mem   box_loss   cls_loss   dfl_loss  Instances       Size\n"
          ]
        },
        {
          "output_type": "stream",
          "name": "stderr",
          "text": [
            "    135/200         7G     0.7516     0.7182      1.086         22        640: 100%|██████████| 14/14 [00:04<00:00,  3.39it/s]\n",
            "                 Class     Images  Instances      Box(P          R      mAP50  mAP50-95): 100%|██████████| 7/7 [00:01<00:00,  4.22it/s]"
          ]
        },
        {
          "output_type": "stream",
          "name": "stdout",
          "text": [
            "                   all        213        496       0.97       0.96      0.985      0.851\n"
          ]
        },
        {
          "output_type": "stream",
          "name": "stderr",
          "text": [
            "\n"
          ]
        },
        {
          "output_type": "stream",
          "name": "stdout",
          "text": [
            "\n",
            "      Epoch    GPU_mem   box_loss   cls_loss   dfl_loss  Instances       Size\n"
          ]
        },
        {
          "output_type": "stream",
          "name": "stderr",
          "text": [
            "    136/200      7.13G     0.7452     0.6844      1.064         21        640: 100%|██████████| 14/14 [00:04<00:00,  3.41it/s]\n",
            "                 Class     Images  Instances      Box(P          R      mAP50  mAP50-95): 100%|██████████| 7/7 [00:01<00:00,  4.16it/s]"
          ]
        },
        {
          "output_type": "stream",
          "name": "stdout",
          "text": [
            "                   all        213        496      0.955      0.966      0.985      0.865\n"
          ]
        },
        {
          "output_type": "stream",
          "name": "stderr",
          "text": [
            "\n"
          ]
        },
        {
          "output_type": "stream",
          "name": "stdout",
          "text": [
            "\n",
            "      Epoch    GPU_mem   box_loss   cls_loss   dfl_loss  Instances       Size\n"
          ]
        },
        {
          "output_type": "stream",
          "name": "stderr",
          "text": [
            "    137/200      7.03G     0.7641     0.7015      1.099         24        640: 100%|██████████| 14/14 [00:04<00:00,  3.45it/s]\n",
            "                 Class     Images  Instances      Box(P          R      mAP50  mAP50-95): 100%|██████████| 7/7 [00:01<00:00,  4.10it/s]"
          ]
        },
        {
          "output_type": "stream",
          "name": "stdout",
          "text": [
            "                   all        213        496      0.963      0.957      0.985      0.861\n"
          ]
        },
        {
          "output_type": "stream",
          "name": "stderr",
          "text": [
            "\n"
          ]
        },
        {
          "output_type": "stream",
          "name": "stdout",
          "text": [
            "\n",
            "      Epoch    GPU_mem   box_loss   cls_loss   dfl_loss  Instances       Size\n"
          ]
        },
        {
          "output_type": "stream",
          "name": "stderr",
          "text": [
            "    138/200      7.13G     0.8154     0.7422      1.111         21        640: 100%|██████████| 14/14 [00:04<00:00,  3.39it/s]\n",
            "                 Class     Images  Instances      Box(P          R      mAP50  mAP50-95): 100%|██████████| 7/7 [00:01<00:00,  4.18it/s]"
          ]
        },
        {
          "output_type": "stream",
          "name": "stdout",
          "text": [
            "                   all        213        496      0.952      0.969      0.985       0.86\n"
          ]
        },
        {
          "output_type": "stream",
          "name": "stderr",
          "text": [
            "\n"
          ]
        },
        {
          "output_type": "stream",
          "name": "stdout",
          "text": [
            "\n",
            "      Epoch    GPU_mem   box_loss   cls_loss   dfl_loss  Instances       Size\n"
          ]
        },
        {
          "output_type": "stream",
          "name": "stderr",
          "text": [
            "    139/200      7.02G     0.7516     0.6931       1.08          8        640: 100%|██████████| 14/14 [00:04<00:00,  3.47it/s]\n",
            "                 Class     Images  Instances      Box(P          R      mAP50  mAP50-95): 100%|██████████| 7/7 [00:01<00:00,  4.40it/s]"
          ]
        },
        {
          "output_type": "stream",
          "name": "stdout",
          "text": [
            "                   all        213        496      0.958      0.964      0.982      0.852\n"
          ]
        },
        {
          "output_type": "stream",
          "name": "stderr",
          "text": [
            "\n"
          ]
        },
        {
          "output_type": "stream",
          "name": "stdout",
          "text": [
            "\n",
            "      Epoch    GPU_mem   box_loss   cls_loss   dfl_loss  Instances       Size\n"
          ]
        },
        {
          "output_type": "stream",
          "name": "stderr",
          "text": [
            "    140/200      7.14G     0.7382     0.6737      1.071         19        640: 100%|██████████| 14/14 [00:04<00:00,  3.43it/s]\n",
            "                 Class     Images  Instances      Box(P          R      mAP50  mAP50-95): 100%|██████████| 7/7 [00:01<00:00,  4.25it/s]"
          ]
        },
        {
          "output_type": "stream",
          "name": "stdout",
          "text": [
            "                   all        213        496       0.98      0.956      0.985      0.864\n"
          ]
        },
        {
          "output_type": "stream",
          "name": "stderr",
          "text": [
            "\n"
          ]
        },
        {
          "output_type": "stream",
          "name": "stdout",
          "text": [
            "\n",
            "      Epoch    GPU_mem   box_loss   cls_loss   dfl_loss  Instances       Size\n"
          ]
        },
        {
          "output_type": "stream",
          "name": "stderr",
          "text": [
            "    141/200       7.1G     0.7476     0.7096        1.1         29        640: 100%|██████████| 14/14 [00:04<00:00,  3.46it/s]\n",
            "                 Class     Images  Instances      Box(P          R      mAP50  mAP50-95): 100%|██████████| 7/7 [00:01<00:00,  4.33it/s]"
          ]
        },
        {
          "output_type": "stream",
          "name": "stdout",
          "text": [
            "                   all        213        496      0.964      0.968      0.986      0.869\n"
          ]
        },
        {
          "output_type": "stream",
          "name": "stderr",
          "text": [
            "\n"
          ]
        },
        {
          "output_type": "stream",
          "name": "stdout",
          "text": [
            "\n",
            "      Epoch    GPU_mem   box_loss   cls_loss   dfl_loss  Instances       Size\n"
          ]
        },
        {
          "output_type": "stream",
          "name": "stderr",
          "text": [
            "    142/200      7.13G     0.7673     0.6926      1.091         24        640: 100%|██████████| 14/14 [00:04<00:00,  3.43it/s]\n",
            "                 Class     Images  Instances      Box(P          R      mAP50  mAP50-95): 100%|██████████| 7/7 [00:01<00:00,  4.26it/s]"
          ]
        },
        {
          "output_type": "stream",
          "name": "stdout",
          "text": [
            "                   all        213        496      0.978      0.965      0.987      0.866\n"
          ]
        },
        {
          "output_type": "stream",
          "name": "stderr",
          "text": [
            "\n"
          ]
        },
        {
          "output_type": "stream",
          "name": "stdout",
          "text": [
            "\n",
            "      Epoch    GPU_mem   box_loss   cls_loss   dfl_loss  Instances       Size\n"
          ]
        },
        {
          "output_type": "stream",
          "name": "stderr",
          "text": [
            "    143/200      7.02G     0.7735     0.6869       1.09         18        640: 100%|██████████| 14/14 [00:04<00:00,  3.45it/s]\n",
            "                 Class     Images  Instances      Box(P          R      mAP50  mAP50-95): 100%|██████████| 7/7 [00:01<00:00,  4.23it/s]"
          ]
        },
        {
          "output_type": "stream",
          "name": "stdout",
          "text": [
            "                   all        213        496      0.976      0.966      0.987      0.863\n"
          ]
        },
        {
          "output_type": "stream",
          "name": "stderr",
          "text": [
            "\n"
          ]
        },
        {
          "output_type": "stream",
          "name": "stdout",
          "text": [
            "\n",
            "      Epoch    GPU_mem   box_loss   cls_loss   dfl_loss  Instances       Size\n"
          ]
        },
        {
          "output_type": "stream",
          "name": "stderr",
          "text": [
            "    144/200      7.14G     0.7829     0.7385      1.105         11        640: 100%|██████████| 14/14 [00:04<00:00,  3.40it/s]\n",
            "                 Class     Images  Instances      Box(P          R      mAP50  mAP50-95): 100%|██████████| 7/7 [00:01<00:00,  4.29it/s]"
          ]
        },
        {
          "output_type": "stream",
          "name": "stdout",
          "text": [
            "                   all        213        496       0.96      0.971      0.987      0.866\n"
          ]
        },
        {
          "output_type": "stream",
          "name": "stderr",
          "text": [
            "\n"
          ]
        },
        {
          "output_type": "stream",
          "name": "stdout",
          "text": [
            "\n",
            "      Epoch    GPU_mem   box_loss   cls_loss   dfl_loss  Instances       Size\n"
          ]
        },
        {
          "output_type": "stream",
          "name": "stderr",
          "text": [
            "    145/200      7.05G     0.7404     0.7025      1.102         14        640: 100%|██████████| 14/14 [00:04<00:00,  3.45it/s]\n",
            "                 Class     Images  Instances      Box(P          R      mAP50  mAP50-95): 100%|██████████| 7/7 [00:01<00:00,  4.16it/s]"
          ]
        },
        {
          "output_type": "stream",
          "name": "stdout",
          "text": [
            "                   all        213        496      0.966      0.965      0.987      0.871\n"
          ]
        },
        {
          "output_type": "stream",
          "name": "stderr",
          "text": [
            "\n"
          ]
        },
        {
          "output_type": "stream",
          "name": "stdout",
          "text": [
            "\n",
            "      Epoch    GPU_mem   box_loss   cls_loss   dfl_loss  Instances       Size\n"
          ]
        },
        {
          "output_type": "stream",
          "name": "stderr",
          "text": [
            "    146/200      7.11G     0.6976     0.6664      1.046         20        640: 100%|██████████| 14/14 [00:04<00:00,  3.43it/s]\n",
            "                 Class     Images  Instances      Box(P          R      mAP50  mAP50-95): 100%|██████████| 7/7 [00:01<00:00,  4.24it/s]"
          ]
        },
        {
          "output_type": "stream",
          "name": "stdout",
          "text": [
            "                   all        213        496      0.963      0.964      0.987      0.875\n"
          ]
        },
        {
          "output_type": "stream",
          "name": "stderr",
          "text": [
            "\n"
          ]
        },
        {
          "output_type": "stream",
          "name": "stdout",
          "text": [
            "\n",
            "      Epoch    GPU_mem   box_loss   cls_loss   dfl_loss  Instances       Size\n"
          ]
        },
        {
          "output_type": "stream",
          "name": "stderr",
          "text": [
            "    147/200      7.02G     0.7222     0.6789      1.076         27        640: 100%|██████████| 14/14 [00:04<00:00,  3.45it/s]\n",
            "                 Class     Images  Instances      Box(P          R      mAP50  mAP50-95): 100%|██████████| 7/7 [00:01<00:00,  4.07it/s]"
          ]
        },
        {
          "output_type": "stream",
          "name": "stdout",
          "text": [
            "                   all        213        496      0.972      0.964      0.987      0.878\n"
          ]
        },
        {
          "output_type": "stream",
          "name": "stderr",
          "text": [
            "\n"
          ]
        },
        {
          "output_type": "stream",
          "name": "stdout",
          "text": [
            "\n",
            "      Epoch    GPU_mem   box_loss   cls_loss   dfl_loss  Instances       Size\n"
          ]
        },
        {
          "output_type": "stream",
          "name": "stderr",
          "text": [
            "    148/200      7.11G      0.716     0.6782      1.082         18        640: 100%|██████████| 14/14 [00:04<00:00,  3.43it/s]\n",
            "                 Class     Images  Instances      Box(P          R      mAP50  mAP50-95): 100%|██████████| 7/7 [00:01<00:00,  4.16it/s]"
          ]
        },
        {
          "output_type": "stream",
          "name": "stdout",
          "text": [
            "                   all        213        496      0.967       0.97      0.986      0.877\n"
          ]
        },
        {
          "output_type": "stream",
          "name": "stderr",
          "text": [
            "\n"
          ]
        },
        {
          "output_type": "stream",
          "name": "stdout",
          "text": [
            "\n",
            "      Epoch    GPU_mem   box_loss   cls_loss   dfl_loss  Instances       Size\n"
          ]
        },
        {
          "output_type": "stream",
          "name": "stderr",
          "text": [
            "    149/200      7.04G     0.6976     0.6676      1.049         36        640: 100%|██████████| 14/14 [00:04<00:00,  3.46it/s]\n",
            "                 Class     Images  Instances      Box(P          R      mAP50  mAP50-95): 100%|██████████| 7/7 [00:01<00:00,  4.15it/s]"
          ]
        },
        {
          "output_type": "stream",
          "name": "stdout",
          "text": [
            "                   all        213        496      0.975      0.963       0.99      0.885\n"
          ]
        },
        {
          "output_type": "stream",
          "name": "stderr",
          "text": [
            "\n"
          ]
        },
        {
          "output_type": "stream",
          "name": "stdout",
          "text": [
            "\n",
            "      Epoch    GPU_mem   box_loss   cls_loss   dfl_loss  Instances       Size\n"
          ]
        },
        {
          "output_type": "stream",
          "name": "stderr",
          "text": [
            "    150/200      7.12G     0.7107     0.6842      1.075         15        640: 100%|██████████| 14/14 [00:04<00:00,  3.41it/s]\n",
            "                 Class     Images  Instances      Box(P          R      mAP50  mAP50-95): 100%|██████████| 7/7 [00:01<00:00,  4.27it/s]"
          ]
        },
        {
          "output_type": "stream",
          "name": "stdout",
          "text": [
            "                   all        213        496      0.974      0.967      0.988      0.884\n"
          ]
        },
        {
          "output_type": "stream",
          "name": "stderr",
          "text": [
            "\n"
          ]
        },
        {
          "output_type": "stream",
          "name": "stdout",
          "text": [
            "\n",
            "      Epoch    GPU_mem   box_loss   cls_loss   dfl_loss  Instances       Size\n"
          ]
        },
        {
          "output_type": "stream",
          "name": "stderr",
          "text": [
            "    151/200      7.03G     0.7341     0.7234      1.078         16        640: 100%|██████████| 14/14 [00:04<00:00,  3.45it/s]\n",
            "                 Class     Images  Instances      Box(P          R      mAP50  mAP50-95): 100%|██████████| 7/7 [00:01<00:00,  4.26it/s]"
          ]
        },
        {
          "output_type": "stream",
          "name": "stdout",
          "text": [
            "                   all        213        496      0.977      0.981      0.988      0.878\n"
          ]
        },
        {
          "output_type": "stream",
          "name": "stderr",
          "text": [
            "\n"
          ]
        },
        {
          "output_type": "stream",
          "name": "stdout",
          "text": [
            "\n",
            "      Epoch    GPU_mem   box_loss   cls_loss   dfl_loss  Instances       Size\n"
          ]
        },
        {
          "output_type": "stream",
          "name": "stderr",
          "text": [
            "    152/200      7.11G     0.6931     0.6641       1.07         29        640: 100%|██████████| 14/14 [00:04<00:00,  3.42it/s]\n",
            "                 Class     Images  Instances      Box(P          R      mAP50  mAP50-95): 100%|██████████| 7/7 [00:01<00:00,  4.29it/s]"
          ]
        },
        {
          "output_type": "stream",
          "name": "stdout",
          "text": [
            "                   all        213        496      0.977      0.986      0.989      0.887\n"
          ]
        },
        {
          "output_type": "stream",
          "name": "stderr",
          "text": [
            "\n"
          ]
        },
        {
          "output_type": "stream",
          "name": "stdout",
          "text": [
            "\n",
            "      Epoch    GPU_mem   box_loss   cls_loss   dfl_loss  Instances       Size\n"
          ]
        },
        {
          "output_type": "stream",
          "name": "stderr",
          "text": [
            "    153/200      7.02G     0.7394     0.7031      1.128          7        640: 100%|██████████| 14/14 [00:04<00:00,  3.44it/s]\n",
            "                 Class     Images  Instances      Box(P          R      mAP50  mAP50-95): 100%|██████████| 7/7 [00:01<00:00,  4.25it/s]"
          ]
        },
        {
          "output_type": "stream",
          "name": "stdout",
          "text": [
            "                   all        213        496      0.979       0.98      0.988      0.884\n"
          ]
        },
        {
          "output_type": "stream",
          "name": "stderr",
          "text": [
            "\n"
          ]
        },
        {
          "output_type": "stream",
          "name": "stdout",
          "text": [
            "\n",
            "      Epoch    GPU_mem   box_loss   cls_loss   dfl_loss  Instances       Size\n"
          ]
        },
        {
          "output_type": "stream",
          "name": "stderr",
          "text": [
            "    154/200      7.09G     0.7101     0.6985      1.075         21        640: 100%|██████████| 14/14 [00:04<00:00,  3.42it/s]\n",
            "                 Class     Images  Instances      Box(P          R      mAP50  mAP50-95): 100%|██████████| 7/7 [00:01<00:00,  4.18it/s]"
          ]
        },
        {
          "output_type": "stream",
          "name": "stdout",
          "text": [
            "                   all        213        496      0.983      0.981       0.99      0.884\n"
          ]
        },
        {
          "output_type": "stream",
          "name": "stderr",
          "text": [
            "\n"
          ]
        },
        {
          "output_type": "stream",
          "name": "stdout",
          "text": [
            "\n",
            "      Epoch    GPU_mem   box_loss   cls_loss   dfl_loss  Instances       Size\n"
          ]
        },
        {
          "output_type": "stream",
          "name": "stderr",
          "text": [
            "    155/200      6.99G     0.7216     0.6731      1.075         22        640: 100%|██████████| 14/14 [00:04<00:00,  3.46it/s]\n",
            "                 Class     Images  Instances      Box(P          R      mAP50  mAP50-95): 100%|██████████| 7/7 [00:01<00:00,  4.21it/s]"
          ]
        },
        {
          "output_type": "stream",
          "name": "stdout",
          "text": [
            "                   all        213        496      0.978      0.982       0.99      0.885\n"
          ]
        },
        {
          "output_type": "stream",
          "name": "stderr",
          "text": [
            "\n"
          ]
        },
        {
          "output_type": "stream",
          "name": "stdout",
          "text": [
            "\n",
            "      Epoch    GPU_mem   box_loss   cls_loss   dfl_loss  Instances       Size\n"
          ]
        },
        {
          "output_type": "stream",
          "name": "stderr",
          "text": [
            "    156/200      7.08G     0.6913     0.6499       1.04         22        640: 100%|██████████| 14/14 [00:04<00:00,  3.44it/s]\n",
            "                 Class     Images  Instances      Box(P          R      mAP50  mAP50-95): 100%|██████████| 7/7 [00:01<00:00,  4.17it/s]"
          ]
        },
        {
          "output_type": "stream",
          "name": "stdout",
          "text": [
            "                   all        213        496      0.977      0.969      0.989      0.873\n"
          ]
        },
        {
          "output_type": "stream",
          "name": "stderr",
          "text": [
            "\n"
          ]
        },
        {
          "output_type": "stream",
          "name": "stdout",
          "text": [
            "\n",
            "      Epoch    GPU_mem   box_loss   cls_loss   dfl_loss  Instances       Size\n"
          ]
        },
        {
          "output_type": "stream",
          "name": "stderr",
          "text": [
            "    157/200      7.03G     0.7029     0.6671       1.07         14        640: 100%|██████████| 14/14 [00:04<00:00,  3.46it/s]\n",
            "                 Class     Images  Instances      Box(P          R      mAP50  mAP50-95): 100%|██████████| 7/7 [00:01<00:00,  4.19it/s]"
          ]
        },
        {
          "output_type": "stream",
          "name": "stdout",
          "text": [
            "                   all        213        496      0.984      0.961      0.989      0.882\n"
          ]
        },
        {
          "output_type": "stream",
          "name": "stderr",
          "text": [
            "\n"
          ]
        },
        {
          "output_type": "stream",
          "name": "stdout",
          "text": [
            "\n",
            "      Epoch    GPU_mem   box_loss   cls_loss   dfl_loss  Instances       Size\n"
          ]
        },
        {
          "output_type": "stream",
          "name": "stderr",
          "text": [
            "    158/200      7.13G     0.7117     0.6511      1.064         32        640: 100%|██████████| 14/14 [00:04<00:00,  3.43it/s]\n",
            "                 Class     Images  Instances      Box(P          R      mAP50  mAP50-95): 100%|██████████| 7/7 [00:01<00:00,  4.15it/s]"
          ]
        },
        {
          "output_type": "stream",
          "name": "stdout",
          "text": [
            "                   all        213        496      0.974      0.976      0.989      0.881\n"
          ]
        },
        {
          "output_type": "stream",
          "name": "stderr",
          "text": [
            "\n"
          ]
        },
        {
          "output_type": "stream",
          "name": "stdout",
          "text": [
            "\n",
            "      Epoch    GPU_mem   box_loss   cls_loss   dfl_loss  Instances       Size\n"
          ]
        },
        {
          "output_type": "stream",
          "name": "stderr",
          "text": [
            "    159/200      7.02G      0.685     0.6325      1.037         23        640: 100%|██████████| 14/14 [00:04<00:00,  3.45it/s]\n",
            "                 Class     Images  Instances      Box(P          R      mAP50  mAP50-95): 100%|██████████| 7/7 [00:01<00:00,  4.18it/s]"
          ]
        },
        {
          "output_type": "stream",
          "name": "stdout",
          "text": [
            "                   all        213        496      0.976      0.972      0.988      0.885\n"
          ]
        },
        {
          "output_type": "stream",
          "name": "stderr",
          "text": [
            "\n"
          ]
        },
        {
          "output_type": "stream",
          "name": "stdout",
          "text": [
            "\n",
            "      Epoch    GPU_mem   box_loss   cls_loss   dfl_loss  Instances       Size\n"
          ]
        },
        {
          "output_type": "stream",
          "name": "stderr",
          "text": [
            "    160/200      7.08G     0.6619     0.5978       1.03         24        640: 100%|██████████| 14/14 [00:04<00:00,  3.42it/s]\n",
            "                 Class     Images  Instances      Box(P          R      mAP50  mAP50-95): 100%|██████████| 7/7 [00:01<00:00,  4.24it/s]"
          ]
        },
        {
          "output_type": "stream",
          "name": "stdout",
          "text": [
            "                   all        213        496      0.972      0.971      0.987      0.889\n"
          ]
        },
        {
          "output_type": "stream",
          "name": "stderr",
          "text": [
            "\n"
          ]
        },
        {
          "output_type": "stream",
          "name": "stdout",
          "text": [
            "\n",
            "      Epoch    GPU_mem   box_loss   cls_loss   dfl_loss  Instances       Size\n"
          ]
        },
        {
          "output_type": "stream",
          "name": "stderr",
          "text": [
            "    161/200       7.1G     0.6727     0.6364      1.028         13        640: 100%|██████████| 14/14 [00:04<00:00,  3.45it/s]\n",
            "                 Class     Images  Instances      Box(P          R      mAP50  mAP50-95): 100%|██████████| 7/7 [00:01<00:00,  4.09it/s]"
          ]
        },
        {
          "output_type": "stream",
          "name": "stdout",
          "text": [
            "                   all        213        496      0.975       0.97      0.988      0.888\n"
          ]
        },
        {
          "output_type": "stream",
          "name": "stderr",
          "text": [
            "\n"
          ]
        },
        {
          "output_type": "stream",
          "name": "stdout",
          "text": [
            "\n",
            "      Epoch    GPU_mem   box_loss   cls_loss   dfl_loss  Instances       Size\n"
          ]
        },
        {
          "output_type": "stream",
          "name": "stderr",
          "text": [
            "    162/200      7.11G     0.6823     0.6475      1.039         33        640: 100%|██████████| 14/14 [00:04<00:00,  3.41it/s]\n",
            "                 Class     Images  Instances      Box(P          R      mAP50  mAP50-95): 100%|██████████| 7/7 [00:01<00:00,  4.31it/s]"
          ]
        },
        {
          "output_type": "stream",
          "name": "stdout",
          "text": [
            "                   all        213        496      0.965      0.976      0.988      0.891\n"
          ]
        },
        {
          "output_type": "stream",
          "name": "stderr",
          "text": [
            "\n"
          ]
        },
        {
          "output_type": "stream",
          "name": "stdout",
          "text": [
            "\n",
            "      Epoch    GPU_mem   box_loss   cls_loss   dfl_loss  Instances       Size\n"
          ]
        },
        {
          "output_type": "stream",
          "name": "stderr",
          "text": [
            "    163/200      7.03G     0.6488       0.62       1.04          9        640: 100%|██████████| 14/14 [00:04<00:00,  3.46it/s]\n",
            "                 Class     Images  Instances      Box(P          R      mAP50  mAP50-95): 100%|██████████| 7/7 [00:01<00:00,  4.01it/s]"
          ]
        },
        {
          "output_type": "stream",
          "name": "stdout",
          "text": [
            "                   all        213        496       0.97      0.972      0.987      0.897\n"
          ]
        },
        {
          "output_type": "stream",
          "name": "stderr",
          "text": [
            "\n"
          ]
        },
        {
          "output_type": "stream",
          "name": "stdout",
          "text": [
            "\n",
            "      Epoch    GPU_mem   box_loss   cls_loss   dfl_loss  Instances       Size\n"
          ]
        },
        {
          "output_type": "stream",
          "name": "stderr",
          "text": [
            "    164/200       7.1G      0.677     0.6342      1.036         30        640: 100%|██████████| 14/14 [00:04<00:00,  3.42it/s]\n",
            "                 Class     Images  Instances      Box(P          R      mAP50  mAP50-95): 100%|██████████| 7/7 [00:01<00:00,  4.26it/s]"
          ]
        },
        {
          "output_type": "stream",
          "name": "stdout",
          "text": [
            "                   all        213        496      0.982      0.966      0.987        0.9\n"
          ]
        },
        {
          "output_type": "stream",
          "name": "stderr",
          "text": [
            "\n"
          ]
        },
        {
          "output_type": "stream",
          "name": "stdout",
          "text": [
            "\n",
            "      Epoch    GPU_mem   box_loss   cls_loss   dfl_loss  Instances       Size\n"
          ]
        },
        {
          "output_type": "stream",
          "name": "stderr",
          "text": [
            "    165/200         7G     0.6888     0.6635      1.061         23        640: 100%|██████████| 14/14 [00:04<00:00,  3.46it/s]\n",
            "                 Class     Images  Instances      Box(P          R      mAP50  mAP50-95): 100%|██████████| 7/7 [00:01<00:00,  4.17it/s]"
          ]
        },
        {
          "output_type": "stream",
          "name": "stdout",
          "text": [
            "                   all        213        496      0.979      0.974      0.987      0.903\n"
          ]
        },
        {
          "output_type": "stream",
          "name": "stderr",
          "text": [
            "\n"
          ]
        },
        {
          "output_type": "stream",
          "name": "stdout",
          "text": [
            "\n",
            "      Epoch    GPU_mem   box_loss   cls_loss   dfl_loss  Instances       Size\n"
          ]
        },
        {
          "output_type": "stream",
          "name": "stderr",
          "text": [
            "    166/200      7.09G      0.653     0.6305      1.027         35        640: 100%|██████████| 14/14 [00:04<00:00,  3.43it/s]\n",
            "                 Class     Images  Instances      Box(P          R      mAP50  mAP50-95): 100%|██████████| 7/7 [00:01<00:00,  4.32it/s]"
          ]
        },
        {
          "output_type": "stream",
          "name": "stdout",
          "text": [
            "                   all        213        496      0.986      0.977      0.987      0.899\n"
          ]
        },
        {
          "output_type": "stream",
          "name": "stderr",
          "text": [
            "\n"
          ]
        },
        {
          "output_type": "stream",
          "name": "stdout",
          "text": [
            "\n",
            "      Epoch    GPU_mem   box_loss   cls_loss   dfl_loss  Instances       Size\n"
          ]
        },
        {
          "output_type": "stream",
          "name": "stderr",
          "text": [
            "    167/200      7.05G     0.6595     0.6235      1.048         25        640: 100%|██████████| 14/14 [00:04<00:00,  3.47it/s]\n",
            "                 Class     Images  Instances      Box(P          R      mAP50  mAP50-95): 100%|██████████| 7/7 [00:01<00:00,  4.28it/s]"
          ]
        },
        {
          "output_type": "stream",
          "name": "stdout",
          "text": [
            "                   all        213        496      0.989      0.978       0.99      0.909\n"
          ]
        },
        {
          "output_type": "stream",
          "name": "stderr",
          "text": [
            "\n"
          ]
        },
        {
          "output_type": "stream",
          "name": "stdout",
          "text": [
            "\n",
            "      Epoch    GPU_mem   box_loss   cls_loss   dfl_loss  Instances       Size\n"
          ]
        },
        {
          "output_type": "stream",
          "name": "stderr",
          "text": [
            "    168/200      7.13G     0.6561     0.6071       1.04         15        640: 100%|██████████| 14/14 [00:04<00:00,  3.39it/s]\n",
            "                 Class     Images  Instances      Box(P          R      mAP50  mAP50-95): 100%|██████████| 7/7 [00:01<00:00,  4.08it/s]"
          ]
        },
        {
          "output_type": "stream",
          "name": "stdout",
          "text": [
            "                   all        213        496      0.984       0.97      0.988      0.909\n"
          ]
        },
        {
          "output_type": "stream",
          "name": "stderr",
          "text": [
            "\n"
          ]
        },
        {
          "output_type": "stream",
          "name": "stdout",
          "text": [
            "\n",
            "      Epoch    GPU_mem   box_loss   cls_loss   dfl_loss  Instances       Size\n"
          ]
        },
        {
          "output_type": "stream",
          "name": "stderr",
          "text": [
            "    169/200      7.04G     0.6424     0.6294      1.042         28        640: 100%|██████████| 14/14 [00:04<00:00,  3.45it/s]\n",
            "                 Class     Images  Instances      Box(P          R      mAP50  mAP50-95): 100%|██████████| 7/7 [00:01<00:00,  4.29it/s]"
          ]
        },
        {
          "output_type": "stream",
          "name": "stdout",
          "text": [
            "                   all        213        496      0.983      0.973      0.988      0.909\n"
          ]
        },
        {
          "output_type": "stream",
          "name": "stderr",
          "text": [
            "\n"
          ]
        },
        {
          "output_type": "stream",
          "name": "stdout",
          "text": [
            "\n",
            "      Epoch    GPU_mem   box_loss   cls_loss   dfl_loss  Instances       Size\n"
          ]
        },
        {
          "output_type": "stream",
          "name": "stderr",
          "text": [
            "    170/200      7.08G     0.6547     0.6223      1.044         21        640: 100%|██████████| 14/14 [00:04<00:00,  3.43it/s]\n",
            "                 Class     Images  Instances      Box(P          R      mAP50  mAP50-95): 100%|██████████| 7/7 [00:01<00:00,  4.11it/s]"
          ]
        },
        {
          "output_type": "stream",
          "name": "stdout",
          "text": [
            "                   all        213        496      0.976      0.984       0.99      0.916\n"
          ]
        },
        {
          "output_type": "stream",
          "name": "stderr",
          "text": [
            "\n"
          ]
        },
        {
          "output_type": "stream",
          "name": "stdout",
          "text": [
            "\n",
            "      Epoch    GPU_mem   box_loss   cls_loss   dfl_loss  Instances       Size\n"
          ]
        },
        {
          "output_type": "stream",
          "name": "stderr",
          "text": [
            "    171/200      7.03G      0.661     0.6161       1.03         37        640: 100%|██████████| 14/14 [00:04<00:00,  3.44it/s]\n",
            "                 Class     Images  Instances      Box(P          R      mAP50  mAP50-95): 100%|██████████| 7/7 [00:01<00:00,  4.17it/s]"
          ]
        },
        {
          "output_type": "stream",
          "name": "stdout",
          "text": [
            "                   all        213        496      0.979      0.983       0.99      0.915\n"
          ]
        },
        {
          "output_type": "stream",
          "name": "stderr",
          "text": [
            "\n"
          ]
        },
        {
          "output_type": "stream",
          "name": "stdout",
          "text": [
            "\n",
            "      Epoch    GPU_mem   box_loss   cls_loss   dfl_loss  Instances       Size\n"
          ]
        },
        {
          "output_type": "stream",
          "name": "stderr",
          "text": [
            "    172/200      7.13G      0.676     0.6043      1.043         39        640: 100%|██████████| 14/14 [00:04<00:00,  3.44it/s]\n",
            "                 Class     Images  Instances      Box(P          R      mAP50  mAP50-95): 100%|██████████| 7/7 [00:01<00:00,  4.14it/s]"
          ]
        },
        {
          "output_type": "stream",
          "name": "stdout",
          "text": [
            "                   all        213        496      0.973      0.975      0.988      0.904\n"
          ]
        },
        {
          "output_type": "stream",
          "name": "stderr",
          "text": [
            "\n"
          ]
        },
        {
          "output_type": "stream",
          "name": "stdout",
          "text": [
            "\n",
            "      Epoch    GPU_mem   box_loss   cls_loss   dfl_loss  Instances       Size\n"
          ]
        },
        {
          "output_type": "stream",
          "name": "stderr",
          "text": [
            "    173/200      7.04G     0.6246     0.5824      1.021         16        640: 100%|██████████| 14/14 [00:04<00:00,  3.44it/s]\n",
            "                 Class     Images  Instances      Box(P          R      mAP50  mAP50-95): 100%|██████████| 7/7 [00:01<00:00,  4.23it/s]"
          ]
        },
        {
          "output_type": "stream",
          "name": "stdout",
          "text": [
            "                   all        213        496      0.974      0.977      0.987      0.913\n"
          ]
        },
        {
          "output_type": "stream",
          "name": "stderr",
          "text": [
            "\n"
          ]
        },
        {
          "output_type": "stream",
          "name": "stdout",
          "text": [
            "\n",
            "      Epoch    GPU_mem   box_loss   cls_loss   dfl_loss  Instances       Size\n"
          ]
        },
        {
          "output_type": "stream",
          "name": "stderr",
          "text": [
            "    174/200      7.12G     0.6344     0.5914      1.026         30        640: 100%|██████████| 14/14 [00:04<00:00,  3.43it/s]\n",
            "                 Class     Images  Instances      Box(P          R      mAP50  mAP50-95): 100%|██████████| 7/7 [00:01<00:00,  4.33it/s]"
          ]
        },
        {
          "output_type": "stream",
          "name": "stdout",
          "text": [
            "                   all        213        496       0.98      0.972      0.988      0.909\n"
          ]
        },
        {
          "output_type": "stream",
          "name": "stderr",
          "text": [
            "\n"
          ]
        },
        {
          "output_type": "stream",
          "name": "stdout",
          "text": [
            "\n",
            "      Epoch    GPU_mem   box_loss   cls_loss   dfl_loss  Instances       Size\n"
          ]
        },
        {
          "output_type": "stream",
          "name": "stderr",
          "text": [
            "    175/200      7.04G     0.6365     0.6214      1.031         31        640: 100%|██████████| 14/14 [00:04<00:00,  3.45it/s]\n",
            "                 Class     Images  Instances      Box(P          R      mAP50  mAP50-95): 100%|██████████| 7/7 [00:01<00:00,  4.17it/s]\n"
          ]
        },
        {
          "output_type": "stream",
          "name": "stdout",
          "text": [
            "                   all        213        496      0.984      0.972      0.989      0.908\n",
            "\n",
            "      Epoch    GPU_mem   box_loss   cls_loss   dfl_loss  Instances       Size\n"
          ]
        },
        {
          "output_type": "stream",
          "name": "stderr",
          "text": [
            "    176/200      7.09G     0.6245     0.5573      1.014         37        640: 100%|██████████| 14/14 [00:04<00:00,  3.43it/s]\n",
            "                 Class     Images  Instances      Box(P          R      mAP50  mAP50-95): 100%|██████████| 7/7 [00:01<00:00,  4.37it/s]"
          ]
        },
        {
          "output_type": "stream",
          "name": "stdout",
          "text": [
            "                   all        213        496      0.979      0.984       0.99      0.916\n"
          ]
        },
        {
          "output_type": "stream",
          "name": "stderr",
          "text": [
            "\n"
          ]
        },
        {
          "output_type": "stream",
          "name": "stdout",
          "text": [
            "\n",
            "      Epoch    GPU_mem   box_loss   cls_loss   dfl_loss  Instances       Size\n"
          ]
        },
        {
          "output_type": "stream",
          "name": "stderr",
          "text": [
            "    177/200      7.05G     0.6353     0.6062      1.038         25        640: 100%|██████████| 14/14 [00:04<00:00,  3.45it/s]\n",
            "                 Class     Images  Instances      Box(P          R      mAP50  mAP50-95): 100%|██████████| 7/7 [00:01<00:00,  4.21it/s]"
          ]
        },
        {
          "output_type": "stream",
          "name": "stdout",
          "text": [
            "                   all        213        496      0.981      0.982       0.99      0.919\n"
          ]
        },
        {
          "output_type": "stream",
          "name": "stderr",
          "text": [
            "\n"
          ]
        },
        {
          "output_type": "stream",
          "name": "stdout",
          "text": [
            "\n",
            "      Epoch    GPU_mem   box_loss   cls_loss   dfl_loss  Instances       Size\n"
          ]
        },
        {
          "output_type": "stream",
          "name": "stderr",
          "text": [
            "    178/200      7.14G     0.6249     0.5917       1.02         14        640: 100%|██████████| 14/14 [00:04<00:00,  3.43it/s]\n",
            "                 Class     Images  Instances      Box(P          R      mAP50  mAP50-95): 100%|██████████| 7/7 [00:01<00:00,  4.29it/s]"
          ]
        },
        {
          "output_type": "stream",
          "name": "stdout",
          "text": [
            "                   all        213        496      0.982      0.983      0.991      0.921\n"
          ]
        },
        {
          "output_type": "stream",
          "name": "stderr",
          "text": [
            "\n"
          ]
        },
        {
          "output_type": "stream",
          "name": "stdout",
          "text": [
            "\n",
            "      Epoch    GPU_mem   box_loss   cls_loss   dfl_loss  Instances       Size\n"
          ]
        },
        {
          "output_type": "stream",
          "name": "stderr",
          "text": [
            "    179/200      7.01G       0.65     0.5948      1.026         15        640: 100%|██████████| 14/14 [00:04<00:00,  3.46it/s]\n",
            "                 Class     Images  Instances      Box(P          R      mAP50  mAP50-95): 100%|██████████| 7/7 [00:01<00:00,  3.93it/s]"
          ]
        },
        {
          "output_type": "stream",
          "name": "stdout",
          "text": [
            "                   all        213        496      0.978      0.982      0.989      0.911\n"
          ]
        },
        {
          "output_type": "stream",
          "name": "stderr",
          "text": [
            "\n"
          ]
        },
        {
          "output_type": "stream",
          "name": "stdout",
          "text": [
            "\n",
            "      Epoch    GPU_mem   box_loss   cls_loss   dfl_loss  Instances       Size\n"
          ]
        },
        {
          "output_type": "stream",
          "name": "stderr",
          "text": [
            "    180/200      7.11G     0.6197     0.5657      1.012         36        640: 100%|██████████| 14/14 [00:04<00:00,  3.44it/s]\n",
            "                 Class     Images  Instances      Box(P          R      mAP50  mAP50-95): 100%|██████████| 7/7 [00:01<00:00,  4.19it/s]"
          ]
        },
        {
          "output_type": "stream",
          "name": "stdout",
          "text": [
            "                   all        213        496      0.989      0.977       0.99      0.915\n"
          ]
        },
        {
          "output_type": "stream",
          "name": "stderr",
          "text": [
            "\n"
          ]
        },
        {
          "output_type": "stream",
          "name": "stdout",
          "text": [
            "\n",
            "      Epoch    GPU_mem   box_loss   cls_loss   dfl_loss  Instances       Size\n"
          ]
        },
        {
          "output_type": "stream",
          "name": "stderr",
          "text": [
            "    181/200      7.04G     0.6319      0.601      1.035         23        640: 100%|██████████| 14/14 [00:04<00:00,  3.45it/s]\n",
            "                 Class     Images  Instances      Box(P          R      mAP50  mAP50-95): 100%|██████████| 7/7 [00:01<00:00,  4.30it/s]"
          ]
        },
        {
          "output_type": "stream",
          "name": "stdout",
          "text": [
            "                   all        213        496      0.984      0.985      0.991      0.922\n"
          ]
        },
        {
          "output_type": "stream",
          "name": "stderr",
          "text": [
            "\n"
          ]
        },
        {
          "output_type": "stream",
          "name": "stdout",
          "text": [
            "\n",
            "      Epoch    GPU_mem   box_loss   cls_loss   dfl_loss  Instances       Size\n"
          ]
        },
        {
          "output_type": "stream",
          "name": "stderr",
          "text": [
            "    182/200      7.09G     0.6402     0.6019      1.047         29        640: 100%|██████████| 14/14 [00:04<00:00,  3.41it/s]\n",
            "                 Class     Images  Instances      Box(P          R      mAP50  mAP50-95): 100%|██████████| 7/7 [00:01<00:00,  4.25it/s]"
          ]
        },
        {
          "output_type": "stream",
          "name": "stdout",
          "text": [
            "                   all        213        496      0.981      0.986      0.991      0.921\n"
          ]
        },
        {
          "output_type": "stream",
          "name": "stderr",
          "text": [
            "\n"
          ]
        },
        {
          "output_type": "stream",
          "name": "stdout",
          "text": [
            "\n",
            "      Epoch    GPU_mem   box_loss   cls_loss   dfl_loss  Instances       Size\n"
          ]
        },
        {
          "output_type": "stream",
          "name": "stderr",
          "text": [
            "    183/200      7.01G     0.6047     0.5595     0.9944         24        640: 100%|██████████| 14/14 [00:04<00:00,  3.46it/s]\n",
            "                 Class     Images  Instances      Box(P          R      mAP50  mAP50-95): 100%|██████████| 7/7 [00:01<00:00,  4.35it/s]"
          ]
        },
        {
          "output_type": "stream",
          "name": "stdout",
          "text": [
            "                   all        213        496      0.981      0.984      0.991      0.923\n"
          ]
        },
        {
          "output_type": "stream",
          "name": "stderr",
          "text": [
            "\n"
          ]
        },
        {
          "output_type": "stream",
          "name": "stdout",
          "text": [
            "\n",
            "      Epoch    GPU_mem   box_loss   cls_loss   dfl_loss  Instances       Size\n"
          ]
        },
        {
          "output_type": "stream",
          "name": "stderr",
          "text": [
            "    184/200      7.09G     0.6348     0.6359      1.035         28        640: 100%|██████████| 14/14 [00:04<00:00,  3.42it/s]\n",
            "                 Class     Images  Instances      Box(P          R      mAP50  mAP50-95): 100%|██████████| 7/7 [00:01<00:00,  4.28it/s]"
          ]
        },
        {
          "output_type": "stream",
          "name": "stdout",
          "text": [
            "                   all        213        496      0.976      0.986      0.991      0.922\n"
          ]
        },
        {
          "output_type": "stream",
          "name": "stderr",
          "text": [
            "\n"
          ]
        },
        {
          "output_type": "stream",
          "name": "stdout",
          "text": [
            "\n",
            "      Epoch    GPU_mem   box_loss   cls_loss   dfl_loss  Instances       Size\n"
          ]
        },
        {
          "output_type": "stream",
          "name": "stderr",
          "text": [
            "    185/200         7G     0.6195     0.5861      1.021         24        640: 100%|██████████| 14/14 [00:04<00:00,  3.46it/s]\n",
            "                 Class     Images  Instances      Box(P          R      mAP50  mAP50-95): 100%|██████████| 7/7 [00:01<00:00,  4.29it/s]"
          ]
        },
        {
          "output_type": "stream",
          "name": "stdout",
          "text": [
            "                   all        213        496      0.982      0.983      0.992      0.927\n"
          ]
        },
        {
          "output_type": "stream",
          "name": "stderr",
          "text": [
            "\n"
          ]
        },
        {
          "output_type": "stream",
          "name": "stdout",
          "text": [
            "\n",
            "      Epoch    GPU_mem   box_loss   cls_loss   dfl_loss  Instances       Size\n"
          ]
        },
        {
          "output_type": "stream",
          "name": "stderr",
          "text": [
            "    186/200      7.11G     0.6078     0.5809      1.018          9        640: 100%|██████████| 14/14 [00:04<00:00,  3.44it/s]\n",
            "                 Class     Images  Instances      Box(P          R      mAP50  mAP50-95): 100%|██████████| 7/7 [00:01<00:00,  4.13it/s]"
          ]
        },
        {
          "output_type": "stream",
          "name": "stdout",
          "text": [
            "                   all        213        496      0.985       0.98       0.99       0.92\n"
          ]
        },
        {
          "output_type": "stream",
          "name": "stderr",
          "text": [
            "\n"
          ]
        },
        {
          "output_type": "stream",
          "name": "stdout",
          "text": [
            "\n",
            "      Epoch    GPU_mem   box_loss   cls_loss   dfl_loss  Instances       Size\n"
          ]
        },
        {
          "output_type": "stream",
          "name": "stderr",
          "text": [
            "    187/200      7.02G     0.6106     0.6128      1.023         17        640: 100%|██████████| 14/14 [00:04<00:00,  3.44it/s]\n",
            "                 Class     Images  Instances      Box(P          R      mAP50  mAP50-95): 100%|██████████| 7/7 [00:01<00:00,  4.29it/s]"
          ]
        },
        {
          "output_type": "stream",
          "name": "stdout",
          "text": [
            "                   all        213        496      0.981      0.982      0.991      0.924\n"
          ]
        },
        {
          "output_type": "stream",
          "name": "stderr",
          "text": [
            "\n"
          ]
        },
        {
          "output_type": "stream",
          "name": "stdout",
          "text": [
            "\n",
            "      Epoch    GPU_mem   box_loss   cls_loss   dfl_loss  Instances       Size\n"
          ]
        },
        {
          "output_type": "stream",
          "name": "stderr",
          "text": [
            "    188/200      7.11G      0.584     0.5475      1.014         18        640: 100%|██████████| 14/14 [00:04<00:00,  3.43it/s]\n",
            "                 Class     Images  Instances      Box(P          R      mAP50  mAP50-95): 100%|██████████| 7/7 [00:01<00:00,  4.21it/s]"
          ]
        },
        {
          "output_type": "stream",
          "name": "stdout",
          "text": [
            "                   all        213        496      0.982      0.983      0.991      0.929\n"
          ]
        },
        {
          "output_type": "stream",
          "name": "stderr",
          "text": [
            "\n"
          ]
        },
        {
          "output_type": "stream",
          "name": "stdout",
          "text": [
            "\n",
            "      Epoch    GPU_mem   box_loss   cls_loss   dfl_loss  Instances       Size\n"
          ]
        },
        {
          "output_type": "stream",
          "name": "stderr",
          "text": [
            "    189/200      7.02G     0.6132     0.5904      1.018         26        640: 100%|██████████| 14/14 [00:04<00:00,  3.46it/s]\n",
            "                 Class     Images  Instances      Box(P          R      mAP50  mAP50-95): 100%|██████████| 7/7 [00:01<00:00,  4.19it/s]"
          ]
        },
        {
          "output_type": "stream",
          "name": "stdout",
          "text": [
            "                   all        213        496      0.985      0.982       0.99      0.927\n"
          ]
        },
        {
          "output_type": "stream",
          "name": "stderr",
          "text": [
            "\n"
          ]
        },
        {
          "output_type": "stream",
          "name": "stdout",
          "text": [
            "\n",
            "      Epoch    GPU_mem   box_loss   cls_loss   dfl_loss  Instances       Size\n"
          ]
        },
        {
          "output_type": "stream",
          "name": "stderr",
          "text": [
            "    190/200      7.09G     0.6266     0.5854      1.016         30        640: 100%|██████████| 14/14 [00:04<00:00,  3.43it/s]\n",
            "                 Class     Images  Instances      Box(P          R      mAP50  mAP50-95): 100%|██████████| 7/7 [00:01<00:00,  4.18it/s]"
          ]
        },
        {
          "output_type": "stream",
          "name": "stdout",
          "text": [
            "                   all        213        496      0.983      0.984      0.991      0.926\n"
          ]
        },
        {
          "output_type": "stream",
          "name": "stderr",
          "text": [
            "\n"
          ]
        },
        {
          "output_type": "stream",
          "name": "stdout",
          "text": [
            "Closing dataloader mosaic\n",
            "\u001b[34m\u001b[1malbumentations: \u001b[0mBlur(p=0.01, blur_limit=(3, 7)), MedianBlur(p=0.01, blur_limit=(3, 7)), ToGray(p=0.01, num_output_channels=3, method='weighted_average'), CLAHE(p=0.01, clip_limit=(1.0, 4.0), tile_grid_size=(8, 8))\n",
            "\n",
            "      Epoch    GPU_mem   box_loss   cls_loss   dfl_loss  Instances       Size\n"
          ]
        },
        {
          "output_type": "stream",
          "name": "stderr",
          "text": [
            "    191/200         7G     0.4878     0.4359     0.9299         12        640: 100%|██████████| 14/14 [00:05<00:00,  2.52it/s]\n",
            "                 Class     Images  Instances      Box(P          R      mAP50  mAP50-95): 100%|██████████| 7/7 [00:01<00:00,  4.15it/s]"
          ]
        },
        {
          "output_type": "stream",
          "name": "stdout",
          "text": [
            "                   all        213        496      0.981      0.985      0.991      0.925\n"
          ]
        },
        {
          "output_type": "stream",
          "name": "stderr",
          "text": [
            "\n"
          ]
        },
        {
          "output_type": "stream",
          "name": "stdout",
          "text": [
            "\n",
            "      Epoch    GPU_mem   box_loss   cls_loss   dfl_loss  Instances       Size\n"
          ]
        },
        {
          "output_type": "stream",
          "name": "stderr",
          "text": [
            "    192/200      7.09G     0.4946     0.4176     0.9323          8        640: 100%|██████████| 14/14 [00:04<00:00,  3.45it/s]\n",
            "                 Class     Images  Instances      Box(P          R      mAP50  mAP50-95): 100%|██████████| 7/7 [00:01<00:00,  4.15it/s]"
          ]
        },
        {
          "output_type": "stream",
          "name": "stdout",
          "text": [
            "                   all        213        496       0.98      0.985      0.991      0.925\n"
          ]
        },
        {
          "output_type": "stream",
          "name": "stderr",
          "text": [
            "\n"
          ]
        },
        {
          "output_type": "stream",
          "name": "stdout",
          "text": [
            "\n",
            "      Epoch    GPU_mem   box_loss   cls_loss   dfl_loss  Instances       Size\n"
          ]
        },
        {
          "output_type": "stream",
          "name": "stderr",
          "text": [
            "    193/200      6.99G     0.4963     0.4289      0.932         14        640: 100%|██████████| 14/14 [00:04<00:00,  3.45it/s]\n",
            "                 Class     Images  Instances      Box(P          R      mAP50  mAP50-95): 100%|██████████| 7/7 [00:01<00:00,  4.10it/s]"
          ]
        },
        {
          "output_type": "stream",
          "name": "stdout",
          "text": [
            "                   all        213        496      0.981      0.985      0.991      0.926\n"
          ]
        },
        {
          "output_type": "stream",
          "name": "stderr",
          "text": [
            "\n"
          ]
        },
        {
          "output_type": "stream",
          "name": "stdout",
          "text": [
            "\n",
            "      Epoch    GPU_mem   box_loss   cls_loss   dfl_loss  Instances       Size\n"
          ]
        },
        {
          "output_type": "stream",
          "name": "stderr",
          "text": [
            "    194/200      7.09G     0.4952     0.4041     0.9131         11        640: 100%|██████████| 14/14 [00:04<00:00,  3.42it/s]\n",
            "                 Class     Images  Instances      Box(P          R      mAP50  mAP50-95): 100%|██████████| 7/7 [00:01<00:00,  4.19it/s]"
          ]
        },
        {
          "output_type": "stream",
          "name": "stdout",
          "text": [
            "                   all        213        496      0.982      0.988      0.991      0.923\n"
          ]
        },
        {
          "output_type": "stream",
          "name": "stderr",
          "text": [
            "\n"
          ]
        },
        {
          "output_type": "stream",
          "name": "stdout",
          "text": [
            "\n",
            "      Epoch    GPU_mem   box_loss   cls_loss   dfl_loss  Instances       Size\n"
          ]
        },
        {
          "output_type": "stream",
          "name": "stderr",
          "text": [
            "    195/200         7G     0.4763     0.4058      0.923          5        640: 100%|██████████| 14/14 [00:04<00:00,  3.46it/s]\n",
            "                 Class     Images  Instances      Box(P          R      mAP50  mAP50-95): 100%|██████████| 7/7 [00:01<00:00,  4.10it/s]"
          ]
        },
        {
          "output_type": "stream",
          "name": "stdout",
          "text": [
            "                   all        213        496      0.984      0.988      0.991      0.923\n"
          ]
        },
        {
          "output_type": "stream",
          "name": "stderr",
          "text": [
            "\n"
          ]
        },
        {
          "output_type": "stream",
          "name": "stdout",
          "text": [
            "\n",
            "      Epoch    GPU_mem   box_loss   cls_loss   dfl_loss  Instances       Size\n"
          ]
        },
        {
          "output_type": "stream",
          "name": "stderr",
          "text": [
            "    196/200      7.08G     0.4952     0.4126     0.9081          7        640: 100%|██████████| 14/14 [00:04<00:00,  3.43it/s]\n",
            "                 Class     Images  Instances      Box(P          R      mAP50  mAP50-95): 100%|██████████| 7/7 [00:01<00:00,  4.06it/s]"
          ]
        },
        {
          "output_type": "stream",
          "name": "stdout",
          "text": [
            "                   all        213        496       0.98      0.987      0.991      0.929\n"
          ]
        },
        {
          "output_type": "stream",
          "name": "stderr",
          "text": [
            "\n"
          ]
        },
        {
          "output_type": "stream",
          "name": "stdout",
          "text": [
            "\n",
            "      Epoch    GPU_mem   box_loss   cls_loss   dfl_loss  Instances       Size\n"
          ]
        },
        {
          "output_type": "stream",
          "name": "stderr",
          "text": [
            "    197/200      7.04G     0.4801     0.3944     0.9187         11        640: 100%|██████████| 14/14 [00:04<00:00,  3.45it/s]\n",
            "                 Class     Images  Instances      Box(P          R      mAP50  mAP50-95): 100%|██████████| 7/7 [00:01<00:00,  4.30it/s]"
          ]
        },
        {
          "output_type": "stream",
          "name": "stdout",
          "text": [
            "                   all        213        496      0.982      0.986      0.991      0.929\n"
          ]
        },
        {
          "output_type": "stream",
          "name": "stderr",
          "text": [
            "\n"
          ]
        },
        {
          "output_type": "stream",
          "name": "stdout",
          "text": [
            "\n",
            "      Epoch    GPU_mem   box_loss   cls_loss   dfl_loss  Instances       Size\n"
          ]
        },
        {
          "output_type": "stream",
          "name": "stderr",
          "text": [
            "    198/200      7.08G     0.4596     0.3865     0.8993         20        640: 100%|██████████| 14/14 [00:04<00:00,  3.40it/s]\n",
            "                 Class     Images  Instances      Box(P          R      mAP50  mAP50-95): 100%|██████████| 7/7 [00:01<00:00,  4.21it/s]"
          ]
        },
        {
          "output_type": "stream",
          "name": "stdout",
          "text": [
            "                   all        213        496      0.984      0.986      0.991      0.929\n"
          ]
        },
        {
          "output_type": "stream",
          "name": "stderr",
          "text": [
            "\n"
          ]
        },
        {
          "output_type": "stream",
          "name": "stdout",
          "text": [
            "\n",
            "      Epoch    GPU_mem   box_loss   cls_loss   dfl_loss  Instances       Size\n"
          ]
        },
        {
          "output_type": "stream",
          "name": "stderr",
          "text": [
            "    199/200         7G     0.4546     0.3855      0.912          8        640: 100%|██████████| 14/14 [00:04<00:00,  3.48it/s]\n",
            "                 Class     Images  Instances      Box(P          R      mAP50  mAP50-95): 100%|██████████| 7/7 [00:01<00:00,  4.30it/s]"
          ]
        },
        {
          "output_type": "stream",
          "name": "stdout",
          "text": [
            "                   all        213        496      0.983      0.985      0.991      0.929\n"
          ]
        },
        {
          "output_type": "stream",
          "name": "stderr",
          "text": [
            "\n"
          ]
        },
        {
          "output_type": "stream",
          "name": "stdout",
          "text": [
            "\n",
            "      Epoch    GPU_mem   box_loss   cls_loss   dfl_loss  Instances       Size\n"
          ]
        },
        {
          "output_type": "stream",
          "name": "stderr",
          "text": [
            "    200/200      7.12G     0.4848     0.3908      0.933          8        640: 100%|██████████| 14/14 [00:04<00:00,  3.43it/s]\n",
            "                 Class     Images  Instances      Box(P          R      mAP50  mAP50-95): 100%|██████████| 7/7 [00:01<00:00,  3.95it/s]"
          ]
        },
        {
          "output_type": "stream",
          "name": "stdout",
          "text": [
            "                   all        213        496      0.982      0.986      0.991       0.93\n"
          ]
        },
        {
          "output_type": "stream",
          "name": "stderr",
          "text": [
            "\n"
          ]
        },
        {
          "output_type": "stream",
          "name": "stdout",
          "text": [
            "\n",
            "200 epochs completed in 0.390 hours.\n",
            "Optimizer stripped from runs/detect/train2/weights/last.pt, 52.0MB\n",
            "Optimizer stripped from runs/detect/train2/weights/best.pt, 52.0MB\n",
            "\n",
            "Validating runs/detect/train2/weights/best.pt...\n",
            "Ultralytics 8.3.28 🚀 Python-3.10.12 torch-2.5.0+cu121 CUDA:0 (NVIDIA L4, 22700MiB)\n",
            "Model summary (fused): 218 layers, 25,841,497 parameters, 0 gradients, 78.7 GFLOPs\n"
          ]
        },
        {
          "output_type": "stream",
          "name": "stderr",
          "text": [
            "                 Class     Images  Instances      Box(P          R      mAP50  mAP50-95): 100%|██████████| 7/7 [00:02<00:00,  2.75it/s]\n"
          ]
        },
        {
          "output_type": "stream",
          "name": "stdout",
          "text": [
            "                   all        213        496      0.982      0.986      0.991      0.929\n",
            "            limnospira         86        176      0.977      0.969      0.984       0.92\n",
            "              anabaena         78        269      0.989      0.989      0.995      0.922\n",
            "           microcystis         44         51       0.98          1      0.995      0.945\n",
            "Speed: 0.1ms preprocess, 4.2ms inference, 0.0ms loss, 2.4ms postprocess per image\n",
            "Results saved to \u001b[1mruns/detect/train2\u001b[0m\n"
          ]
        }
      ]
    },
    {
      "cell_type": "code",
      "source": [
        "model = YOLO('/content/drive/MyDrive/thesis/graphs/detect/yolov11m 200 epochs finetuned/weights/best.pt')"
      ],
      "metadata": {
        "id": "4yDkVXmPO4O0"
      },
      "execution_count": null,
      "outputs": []
    },
    {
      "cell_type": "code",
      "source": [
        "print(model.names)"
      ],
      "metadata": {
        "colab": {
          "base_uri": "https://localhost:8080/"
        },
        "id": "G7MVTjwMnOc7",
        "outputId": "15883ce3-7836-4b64-b90d-5ee1bd9e7e9a"
      },
      "execution_count": null,
      "outputs": [
        {
          "output_type": "stream",
          "name": "stdout",
          "text": [
            "{0: 'arthrospira', 1: 'anabaena', 2: 'microcystis'}\n"
          ]
        }
      ]
    },
    {
      "cell_type": "code",
      "source": [
        "model.model.names = {0: 'arthrospira', 1: 'anabaena', 2: 'microcystis'}"
      ],
      "metadata": {
        "id": "KXE_vRLCnjFA"
      },
      "execution_count": null,
      "outputs": []
    },
    {
      "cell_type": "code",
      "source": [
        "val11 = model.val(data = os.path.join(ROOT_DIR, 'config.yml'))"
      ],
      "metadata": {
        "colab": {
          "base_uri": "https://localhost:8080/"
        },
        "collapsed": true,
        "id": "OQqp8WrtP4RD",
        "outputId": "4c4c0912-d5d7-4ec3-8c0f-5a4fa6f1f167"
      },
      "execution_count": null,
      "outputs": [
        {
          "output_type": "stream",
          "name": "stdout",
          "text": [
            "Ultralytics 8.3.129 🚀 Python-3.11.12 torch-2.6.0+cu124 CPU (Intel Xeon 2.20GHz)\n",
            "YOLO11m summary (fused): 125 layers, 20,032,345 parameters, 0 gradients, 67.7 GFLOPs\n",
            "WARNING ⚠️ \u001b[34m\u001b[1mval: \u001b[0mSlow image access detected (ping: 14.9±32.0 ms, read: 136.7±109.6 MB/s, size: 3664.8 KB). Use local storage instead of remote/mounted storage for better performance. See https://docs.ultralytics.com/guides/model-training-tips/\n"
          ]
        },
        {
          "output_type": "stream",
          "name": "stderr",
          "text": [
            "\u001b[34m\u001b[1mval: \u001b[0mScanning /content/drive/MyDrive/thesis/data/labels/train.cache... 210 images, 5 backgrounds, 0 corrupt: 100%|██████████| 213/213 [00:00<?, ?it/s]\n",
            "                 Class     Images  Instances      Box(P          R      mAP50  mAP50-95): 100%|██████████| 14/14 [06:21<00:00, 27.24s/it]\n"
          ]
        },
        {
          "output_type": "stream",
          "name": "stdout",
          "text": [
            "                   all        213        496      0.983      0.974      0.988      0.894\n",
            "           arthrospira         86        176      0.982      0.947      0.977      0.892\n",
            "              anabaena         78        269      0.974      0.975      0.993      0.888\n",
            "           microcystis         44         51      0.992          1      0.995      0.902\n",
            "Speed: 5.6ms preprocess, 1739.7ms inference, 0.0ms loss, 0.6ms postprocess per image\n",
            "Results saved to \u001b[1mruns/detect/val2\u001b[0m\n"
          ]
        }
      ]
    },
    {
      "cell_type": "code",
      "source": [
        "test = model.predict(source = '/content/drive/MyDrive/thesis/data/images/train/microcystis (42).tif', save = True)"
      ],
      "metadata": {
        "colab": {
          "base_uri": "https://localhost:8080/"
        },
        "id": "_vX2xwFOjLCX",
        "outputId": "3ba6c76a-e88e-4674-9f5c-56876b892fa3"
      },
      "execution_count": null,
      "outputs": [
        {
          "output_type": "stream",
          "name": "stdout",
          "text": [
            "\n",
            "image 1/1 /content/drive/MyDrive/thesis/data/images/train/microcystis (42).tif: 480x640 1 microcystis, 2007.4ms\n",
            "Speed: 5.6ms preprocess, 2007.4ms inference, 1.6ms postprocess per image at shape (1, 3, 480, 640)\n",
            "Results saved to \u001b[1mruns/detect/predict3\u001b[0m\n"
          ]
        }
      ]
    },
    {
      "cell_type": "code",
      "source": [
        "!scp -r /content/runs/detect/val2 '/content/drive/MyDrive/thesis/graphs/detect/yolov11m validation 200 epochs finetuned'"
      ],
      "metadata": {
        "id": "aBbyYohfxv-N"
      },
      "execution_count": null,
      "outputs": []
    },
    {
      "cell_type": "code",
      "source": [
        "!pip list -v"
      ],
      "metadata": {
        "colab": {
          "base_uri": "https://localhost:8080/"
        },
        "id": "cQb-tOEBPzjc",
        "outputId": "68a0f1ca-a20b-4dfd-9f77-823a473bb774"
      },
      "execution_count": null,
      "outputs": [
        {
          "output_type": "stream",
          "name": "stdout",
          "text": [
            "Package                            Version              Location                                Installer\n",
            "---------------------------------- -------------------- --------------------------------------- ---------\n",
            "absl-py                            1.4.0                /usr/local/lib/python3.10/dist-packages uv\n",
            "accelerate                         0.34.2               /usr/local/lib/python3.10/dist-packages uv\n",
            "aiohappyeyeballs                   2.4.3                /usr/local/lib/python3.10/dist-packages uv\n",
            "aiohttp                            3.10.10              /usr/local/lib/python3.10/dist-packages uv\n",
            "aiosignal                          1.3.1                /usr/local/lib/python3.10/dist-packages uv\n",
            "alabaster                          0.7.16               /usr/local/lib/python3.10/dist-packages uv\n",
            "albucore                           0.0.16               /usr/local/lib/python3.10/dist-packages uv\n",
            "albumentations                     1.4.15               /usr/local/lib/python3.10/dist-packages uv\n",
            "altair                             4.2.2                /usr/local/lib/python3.10/dist-packages uv\n",
            "annotated-types                    0.7.0                /usr/local/lib/python3.10/dist-packages uv\n",
            "anyio                              3.7.1                /usr/local/lib/python3.10/dist-packages uv\n",
            "argon2-cffi                        23.1.0               /usr/local/lib/python3.10/dist-packages uv\n",
            "argon2-cffi-bindings               21.2.0               /usr/local/lib/python3.10/dist-packages uv\n",
            "array_record                       0.5.1                /usr/local/lib/python3.10/dist-packages uv\n",
            "arviz                              0.19.0               /usr/local/lib/python3.10/dist-packages uv\n",
            "astropy                            6.1.4                /usr/local/lib/python3.10/dist-packages uv\n",
            "astropy-iers-data                  0.2024.10.21.0.33.21 /usr/local/lib/python3.10/dist-packages uv\n",
            "astunparse                         1.6.3                /usr/local/lib/python3.10/dist-packages uv\n",
            "async-timeout                      4.0.3                /usr/local/lib/python3.10/dist-packages uv\n",
            "atpublic                           4.1.0                /usr/local/lib/python3.10/dist-packages uv\n",
            "attrs                              24.2.0               /usr/local/lib/python3.10/dist-packages uv\n",
            "audioread                          3.0.1                /usr/local/lib/python3.10/dist-packages uv\n",
            "autograd                           1.7.0                /usr/local/lib/python3.10/dist-packages uv\n",
            "babel                              2.16.0               /usr/local/lib/python3.10/dist-packages uv\n",
            "backcall                           0.2.0                /usr/local/lib/python3.10/dist-packages uv\n",
            "beautifulsoup4                     4.12.3               /usr/local/lib/python3.10/dist-packages uv\n",
            "bigframes                          1.22.0               /usr/local/lib/python3.10/dist-packages uv\n",
            "bigquery-magics                    0.4.0                /usr/local/lib/python3.10/dist-packages uv\n",
            "bleach                             6.1.0                /usr/local/lib/python3.10/dist-packages uv\n",
            "blinker                            1.4                  /usr/lib/python3/dist-packages\n",
            "blis                               0.7.11               /usr/local/lib/python3.10/dist-packages uv\n",
            "blosc2                             2.0.0                /usr/local/lib/python3.10/dist-packages uv\n",
            "bokeh                              3.4.3                /usr/local/lib/python3.10/dist-packages uv\n",
            "Bottleneck                         1.4.2                /usr/local/lib/python3.10/dist-packages uv\n",
            "bqplot                             0.12.43              /usr/local/lib/python3.10/dist-packages uv\n",
            "branca                             0.8.0                /usr/local/lib/python3.10/dist-packages uv\n",
            "CacheControl                       0.14.0               /usr/local/lib/python3.10/dist-packages uv\n",
            "cachetools                         5.5.0                /usr/local/lib/python3.10/dist-packages uv\n",
            "catalogue                          2.0.10               /usr/local/lib/python3.10/dist-packages uv\n",
            "certifi                            2024.8.30            /usr/local/lib/python3.10/dist-packages uv\n",
            "cffi                               1.17.1               /usr/local/lib/python3.10/dist-packages uv\n",
            "chardet                            5.2.0                /usr/local/lib/python3.10/dist-packages uv\n",
            "charset-normalizer                 3.4.0                /usr/local/lib/python3.10/dist-packages uv\n",
            "chex                               0.1.87               /usr/local/lib/python3.10/dist-packages uv\n",
            "clarabel                           0.9.0                /usr/local/lib/python3.10/dist-packages uv\n",
            "click                              8.1.7                /usr/local/lib/python3.10/dist-packages uv\n",
            "cloudpathlib                       0.20.0               /usr/local/lib/python3.10/dist-packages uv\n",
            "cloudpickle                        3.1.0                /usr/local/lib/python3.10/dist-packages uv\n",
            "cmake                              3.30.5               /usr/local/lib/python3.10/dist-packages uv\n",
            "cmdstanpy                          1.2.4                /usr/local/lib/python3.10/dist-packages uv\n",
            "colorcet                           3.1.0                /usr/local/lib/python3.10/dist-packages uv\n",
            "colorlover                         0.3.0                /usr/local/lib/python3.10/dist-packages uv\n",
            "colour                             0.1.5                /usr/local/lib/python3.10/dist-packages uv\n",
            "community                          1.0.0b1              /usr/local/lib/python3.10/dist-packages uv\n",
            "confection                         0.1.5                /usr/local/lib/python3.10/dist-packages uv\n",
            "cons                               0.4.6                /usr/local/lib/python3.10/dist-packages uv\n",
            "contourpy                          1.3.0                /usr/local/lib/python3.10/dist-packages uv\n",
            "cryptography                       43.0.3               /usr/local/lib/python3.10/dist-packages uv\n",
            "cuda-python                        12.2.1               /usr/local/lib/python3.10/dist-packages uv\n",
            "cudf-cu12                          24.10.1              /usr/local/lib/python3.10/dist-packages uv\n",
            "cufflinks                          0.17.3               /usr/local/lib/python3.10/dist-packages uv\n",
            "cupy-cuda12x                       12.2.0               /usr/local/lib/python3.10/dist-packages uv\n",
            "cvxopt                             1.3.2                /usr/local/lib/python3.10/dist-packages uv\n",
            "cvxpy                              1.5.3                /usr/local/lib/python3.10/dist-packages uv\n",
            "cycler                             0.12.1               /usr/local/lib/python3.10/dist-packages uv\n",
            "cymem                              2.0.8                /usr/local/lib/python3.10/dist-packages uv\n",
            "Cython                             3.0.11               /usr/local/lib/python3.10/dist-packages uv\n",
            "dask                               2024.8.2             /usr/local/lib/python3.10/dist-packages uv\n",
            "datascience                        0.17.6               /usr/local/lib/python3.10/dist-packages uv\n",
            "db-dtypes                          1.3.0                /usr/local/lib/python3.10/dist-packages uv\n",
            "dbus-python                        1.2.18               /usr/lib/python3/dist-packages\n",
            "debugpy                            1.6.6                /usr/local/lib/python3.10/dist-packages uv\n",
            "decorator                          4.4.2                /usr/local/lib/python3.10/dist-packages uv\n",
            "defusedxml                         0.7.1                /usr/local/lib/python3.10/dist-packages uv\n",
            "Deprecated                         1.2.14               /usr/local/lib/python3.10/dist-packages uv\n",
            "diffusers                          0.30.3               /usr/local/lib/python3.10/dist-packages uv\n",
            "distro                             1.7.0                /usr/lib/python3/dist-packages\n",
            "dlib                               19.24.2              /usr/local/lib/python3.10/dist-packages uv\n",
            "dm-tree                            0.1.8                /usr/local/lib/python3.10/dist-packages uv\n",
            "docker-pycreds                     0.4.0                /usr/local/lib/python3.10/dist-packages uv\n",
            "docstring_parser                   0.16                 /usr/local/lib/python3.10/dist-packages uv\n",
            "docutils                           0.18.1               /usr/local/lib/python3.10/dist-packages uv\n",
            "dopamine_rl                        4.0.9                /usr/local/lib/python3.10/dist-packages uv\n",
            "duckdb                             1.1.2                /usr/local/lib/python3.10/dist-packages uv\n",
            "earthengine-api                    1.0.0                /usr/local/lib/python3.10/dist-packages uv\n",
            "easydict                           1.13                 /usr/local/lib/python3.10/dist-packages uv\n",
            "ecos                               2.0.14               /usr/local/lib/python3.10/dist-packages uv\n",
            "editdistance                       0.8.1                /usr/local/lib/python3.10/dist-packages uv\n",
            "eerepr                             0.0.4                /usr/local/lib/python3.10/dist-packages uv\n",
            "einops                             0.8.0                /usr/local/lib/python3.10/dist-packages uv\n",
            "en-core-web-sm                     3.7.1                /usr/local/lib/python3.10/dist-packages pip\n",
            "entrypoints                        0.4                  /usr/local/lib/python3.10/dist-packages uv\n",
            "et-xmlfile                         1.1.0                /usr/local/lib/python3.10/dist-packages uv\n",
            "etils                              1.10.0               /usr/local/lib/python3.10/dist-packages uv\n",
            "etuples                            0.3.9                /usr/local/lib/python3.10/dist-packages uv\n",
            "eval_type_backport                 0.2.0                /usr/local/lib/python3.10/dist-packages uv\n",
            "exceptiongroup                     1.2.2                /usr/local/lib/python3.10/dist-packages uv\n",
            "fastai                             2.7.18               /usr/local/lib/python3.10/dist-packages uv\n",
            "fastcore                           1.7.19               /usr/local/lib/python3.10/dist-packages uv\n",
            "fastdownload                       0.0.7                /usr/local/lib/python3.10/dist-packages uv\n",
            "fastjsonschema                     2.20.0               /usr/local/lib/python3.10/dist-packages uv\n",
            "fastprogress                       1.0.3                /usr/local/lib/python3.10/dist-packages uv\n",
            "fastrlock                          0.8.2                /usr/local/lib/python3.10/dist-packages uv\n",
            "filelock                           3.16.1               /usr/local/lib/python3.10/dist-packages uv\n",
            "firebase-admin                     6.5.0                /usr/local/lib/python3.10/dist-packages uv\n",
            "Flask                              2.2.5                /usr/local/lib/python3.10/dist-packages uv\n",
            "flatbuffers                        24.3.25              /usr/local/lib/python3.10/dist-packages uv\n",
            "flax                               0.8.5                /usr/local/lib/python3.10/dist-packages uv\n",
            "folium                             0.17.0               /usr/local/lib/python3.10/dist-packages uv\n",
            "fonttools                          4.54.1               /usr/local/lib/python3.10/dist-packages uv\n",
            "frozendict                         2.4.6                /usr/local/lib/python3.10/dist-packages uv\n",
            "frozenlist                         1.4.1                /usr/local/lib/python3.10/dist-packages uv\n",
            "fsspec                             2024.6.1             /usr/local/lib/python3.10/dist-packages uv\n",
            "future                             1.0.0                /usr/local/lib/python3.10/dist-packages uv\n",
            "gast                               0.6.0                /usr/local/lib/python3.10/dist-packages uv\n",
            "gcsfs                              2024.6.1             /usr/local/lib/python3.10/dist-packages uv\n",
            "GDAL                               3.6.4                /usr/local/lib/python3.10/dist-packages uv\n",
            "gdown                              5.2.0                /usr/local/lib/python3.10/dist-packages uv\n",
            "geemap                             0.34.5               /usr/local/lib/python3.10/dist-packages uv\n",
            "gensim                             4.3.3                /usr/local/lib/python3.10/dist-packages uv\n",
            "geocoder                           1.38.1               /usr/local/lib/python3.10/dist-packages uv\n",
            "geographiclib                      2.0                  /usr/local/lib/python3.10/dist-packages uv\n",
            "geopandas                          1.0.1                /usr/local/lib/python3.10/dist-packages uv\n",
            "geopy                              2.4.1                /usr/local/lib/python3.10/dist-packages uv\n",
            "gin-config                         0.5.0                /usr/local/lib/python3.10/dist-packages uv\n",
            "gitdb                              4.0.11               /usr/local/lib/python3.10/dist-packages uv\n",
            "GitPython                          3.1.43               /usr/local/lib/python3.10/dist-packages uv\n",
            "glob2                              0.7                  /usr/local/lib/python3.10/dist-packages uv\n",
            "google                             2.0.3                /usr/local/lib/python3.10/dist-packages uv\n",
            "google-ai-generativelanguage       0.6.10               /usr/local/lib/python3.10/dist-packages uv\n",
            "google-api-core                    2.19.2               /usr/local/lib/python3.10/dist-packages uv\n",
            "google-api-python-client           2.137.0              /usr/local/lib/python3.10/dist-packages uv\n",
            "google-auth                        2.27.0               /usr/local/lib/python3.10/dist-packages uv\n",
            "google-auth-httplib2               0.2.0                /usr/local/lib/python3.10/dist-packages uv\n",
            "google-auth-oauthlib               1.2.1                /usr/local/lib/python3.10/dist-packages uv\n",
            "google-cloud-aiplatform            1.70.0               /usr/local/lib/python3.10/dist-packages uv\n",
            "google-cloud-bigquery              3.25.0               /usr/local/lib/python3.10/dist-packages uv\n",
            "google-cloud-bigquery-connection   1.15.5               /usr/local/lib/python3.10/dist-packages uv\n",
            "google-cloud-bigquery-storage      2.27.0               /usr/local/lib/python3.10/dist-packages uv\n",
            "google-cloud-bigtable              2.26.0               /usr/local/lib/python3.10/dist-packages uv\n",
            "google-cloud-core                  2.4.1                /usr/local/lib/python3.10/dist-packages uv\n",
            "google-cloud-datastore             2.19.0               /usr/local/lib/python3.10/dist-packages uv\n",
            "google-cloud-firestore             2.16.1               /usr/local/lib/python3.10/dist-packages uv\n",
            "google-cloud-functions             1.16.5               /usr/local/lib/python3.10/dist-packages uv\n",
            "google-cloud-iam                   2.15.2               /usr/local/lib/python3.10/dist-packages uv\n",
            "google-cloud-language              2.13.4               /usr/local/lib/python3.10/dist-packages uv\n",
            "google-cloud-pubsub                2.25.0               /usr/local/lib/python3.10/dist-packages uv\n",
            "google-cloud-resource-manager      1.12.5               /usr/local/lib/python3.10/dist-packages uv\n",
            "google-cloud-storage               2.8.0                /usr/local/lib/python3.10/dist-packages uv\n",
            "google-cloud-translate             3.15.5               /usr/local/lib/python3.10/dist-packages uv\n",
            "google-colab                       1.0.0                /usr/local/lib/python3.10/dist-packages uv\n",
            "google-crc32c                      1.6.0                /usr/local/lib/python3.10/dist-packages uv\n",
            "google-generativeai                0.8.3                /usr/local/lib/python3.10/dist-packages uv\n",
            "google-pasta                       0.2.0                /usr/local/lib/python3.10/dist-packages uv\n",
            "google-resumable-media             2.7.2                /usr/local/lib/python3.10/dist-packages uv\n",
            "googleapis-common-protos           1.65.0               /usr/local/lib/python3.10/dist-packages uv\n",
            "googledrivedownloader              0.4                  /usr/local/lib/python3.10/dist-packages uv\n",
            "graphviz                           0.20.3               /usr/local/lib/python3.10/dist-packages uv\n",
            "greenlet                           3.1.1                /usr/local/lib/python3.10/dist-packages uv\n",
            "grpc-google-iam-v1                 0.13.1               /usr/local/lib/python3.10/dist-packages uv\n",
            "grpcio                             1.64.1               /usr/local/lib/python3.10/dist-packages uv\n",
            "grpcio-status                      1.48.2               /usr/local/lib/python3.10/dist-packages uv\n",
            "gspread                            6.0.2                /usr/local/lib/python3.10/dist-packages uv\n",
            "gspread-dataframe                  3.3.1                /usr/local/lib/python3.10/dist-packages uv\n",
            "gym                                0.25.2               /usr/local/lib/python3.10/dist-packages uv\n",
            "gym-notices                        0.0.8                /usr/local/lib/python3.10/dist-packages uv\n",
            "h5netcdf                           1.4.0                /usr/local/lib/python3.10/dist-packages uv\n",
            "h5py                               3.11.0               /usr/local/lib/python3.10/dist-packages uv\n",
            "holidays                           0.59                 /usr/local/lib/python3.10/dist-packages uv\n",
            "holoviews                          1.19.1               /usr/local/lib/python3.10/dist-packages uv\n",
            "html5lib                           1.1                  /usr/local/lib/python3.10/dist-packages uv\n",
            "httpimport                         1.4.0                /usr/local/lib/python3.10/dist-packages uv\n",
            "httplib2                           0.22.0               /usr/local/lib/python3.10/dist-packages uv\n",
            "huggingface-hub                    0.24.7               /usr/local/lib/python3.10/dist-packages uv\n",
            "humanize                           4.10.0               /usr/local/lib/python3.10/dist-packages uv\n",
            "hyperopt                           0.2.7                /usr/local/lib/python3.10/dist-packages uv\n",
            "ibis-framework                     9.2.0                /usr/local/lib/python3.10/dist-packages uv\n",
            "idna                               3.10                 /usr/local/lib/python3.10/dist-packages uv\n",
            "imageio                            2.35.1               /usr/local/lib/python3.10/dist-packages uv\n",
            "imageio-ffmpeg                     0.5.1                /usr/local/lib/python3.10/dist-packages uv\n",
            "imagesize                          1.4.1                /usr/local/lib/python3.10/dist-packages uv\n",
            "imbalanced-learn                   0.12.4               /usr/local/lib/python3.10/dist-packages uv\n",
            "imgaug                             0.4.0                /usr/local/lib/python3.10/dist-packages uv\n",
            "immutabledict                      4.2.0                /usr/local/lib/python3.10/dist-packages uv\n",
            "importlib_metadata                 8.5.0                /usr/local/lib/python3.10/dist-packages uv\n",
            "importlib_resources                6.4.5                /usr/local/lib/python3.10/dist-packages uv\n",
            "imutils                            0.5.4                /usr/local/lib/python3.10/dist-packages uv\n",
            "inflect                            7.4.0                /usr/local/lib/python3.10/dist-packages uv\n",
            "iniconfig                          2.0.0                /usr/local/lib/python3.10/dist-packages uv\n",
            "intel-cmplr-lib-ur                 2024.2.1             /usr/local/lib/python3.10/dist-packages uv\n",
            "intel-openmp                       2024.2.1             /usr/local/lib/python3.10/dist-packages uv\n",
            "ipyevents                          2.0.2                /usr/local/lib/python3.10/dist-packages uv\n",
            "ipyfilechooser                     0.6.0                /usr/local/lib/python3.10/dist-packages uv\n",
            "ipykernel                          5.5.6                /usr/local/lib/python3.10/dist-packages uv\n",
            "ipyleaflet                         0.19.2               /usr/local/lib/python3.10/dist-packages uv\n",
            "ipyparallel                        8.8.0                /usr/local/lib/python3.10/dist-packages uv\n",
            "ipython                            7.34.0               /usr/local/lib/python3.10/dist-packages uv\n",
            "ipython-genutils                   0.2.0                /usr/local/lib/python3.10/dist-packages uv\n",
            "ipython-sql                        0.5.0                /usr/local/lib/python3.10/dist-packages uv\n",
            "ipytree                            0.2.2                /usr/local/lib/python3.10/dist-packages uv\n",
            "ipywidgets                         7.7.1                /usr/local/lib/python3.10/dist-packages uv\n",
            "itsdangerous                       2.2.0                /usr/local/lib/python3.10/dist-packages uv\n",
            "jax                                0.4.33               /usr/local/lib/python3.10/dist-packages uv\n",
            "jax-cuda12-pjrt                    0.4.33               /usr/local/lib/python3.10/dist-packages uv\n",
            "jax-cuda12-plugin                  0.4.33               /usr/local/lib/python3.10/dist-packages uv\n",
            "jaxlib                             0.4.33               /usr/local/lib/python3.10/dist-packages uv\n",
            "jeepney                            0.7.1                /usr/lib/python3/dist-packages          flit\n",
            "jellyfish                          1.1.0                /usr/local/lib/python3.10/dist-packages uv\n",
            "jieba                              0.42.1               /usr/local/lib/python3.10/dist-packages uv\n",
            "Jinja2                             3.1.4                /usr/local/lib/python3.10/dist-packages uv\n",
            "joblib                             1.4.2                /usr/local/lib/python3.10/dist-packages uv\n",
            "jsonpickle                         3.3.0                /usr/local/lib/python3.10/dist-packages uv\n",
            "jsonschema                         4.23.0               /usr/local/lib/python3.10/dist-packages uv\n",
            "jsonschema-specifications          2024.10.1            /usr/local/lib/python3.10/dist-packages uv\n",
            "jupyter-client                     6.1.12               /usr/local/lib/python3.10/dist-packages uv\n",
            "jupyter-console                    6.1.0                /usr/local/lib/python3.10/dist-packages uv\n",
            "jupyter_core                       5.7.2                /usr/local/lib/python3.10/dist-packages uv\n",
            "jupyter-leaflet                    0.19.2               /usr/local/lib/python3.10/dist-packages uv\n",
            "jupyter-server                     1.24.0               /usr/local/lib/python3.10/dist-packages uv\n",
            "jupyterlab_pygments                0.3.0                /usr/local/lib/python3.10/dist-packages uv\n",
            "jupyterlab_widgets                 3.0.13               /usr/local/lib/python3.10/dist-packages uv\n",
            "kaggle                             1.6.17               /usr/local/lib/python3.10/dist-packages uv\n",
            "kagglehub                          0.3.3                /usr/local/lib/python3.10/dist-packages uv\n",
            "keras                              3.4.1                /usr/local/lib/python3.10/dist-packages uv\n",
            "keyring                            23.5.0               /usr/lib/python3/dist-packages\n",
            "kiwisolver                         1.4.7                /usr/local/lib/python3.10/dist-packages uv\n",
            "langcodes                          3.4.1                /usr/local/lib/python3.10/dist-packages uv\n",
            "language_data                      1.2.0                /usr/local/lib/python3.10/dist-packages uv\n",
            "launchpadlib                       1.10.16              /usr/lib/python3/dist-packages\n",
            "lazr.restfulclient                 0.14.4               /usr/lib/python3/dist-packages\n",
            "lazr.uri                           1.0.6                /usr/lib/python3/dist-packages\n",
            "lazy_loader                        0.4                  /usr/local/lib/python3.10/dist-packages uv\n",
            "libclang                           18.1.1               /usr/local/lib/python3.10/dist-packages uv\n",
            "libcudf-cu12                       24.10.1              /usr/local/lib/python3.10/dist-packages uv\n",
            "librosa                            0.10.2.post1         /usr/local/lib/python3.10/dist-packages uv\n",
            "lightgbm                           4.5.0                /usr/local/lib/python3.10/dist-packages uv\n",
            "linkify-it-py                      2.0.3                /usr/local/lib/python3.10/dist-packages uv\n",
            "llvmlite                           0.43.0               /usr/local/lib/python3.10/dist-packages uv\n",
            "locket                             1.0.0                /usr/local/lib/python3.10/dist-packages uv\n",
            "logical-unification                0.4.6                /usr/local/lib/python3.10/dist-packages uv\n",
            "lxml                               4.9.4                /usr/local/lib/python3.10/dist-packages uv\n",
            "marisa-trie                        1.2.1                /usr/local/lib/python3.10/dist-packages uv\n",
            "Markdown                           3.7                  /usr/local/lib/python3.10/dist-packages uv\n",
            "markdown-it-py                     3.0.0                /usr/local/lib/python3.10/dist-packages uv\n",
            "MarkupSafe                         3.0.2                /usr/local/lib/python3.10/dist-packages uv\n",
            "matplotlib                         3.7.1                /usr/local/lib/python3.10/dist-packages uv\n",
            "matplotlib-inline                  0.1.7                /usr/local/lib/python3.10/dist-packages uv\n",
            "matplotlib-venn                    1.1.1                /usr/local/lib/python3.10/dist-packages uv\n",
            "mdit-py-plugins                    0.4.2                /usr/local/lib/python3.10/dist-packages uv\n",
            "mdurl                              0.1.2                /usr/local/lib/python3.10/dist-packages uv\n",
            "miniKanren                         1.0.3                /usr/local/lib/python3.10/dist-packages uv\n",
            "missingno                          0.5.2                /usr/local/lib/python3.10/dist-packages uv\n",
            "mistune                            0.8.4                /usr/local/lib/python3.10/dist-packages uv\n",
            "mizani                             0.11.4               /usr/local/lib/python3.10/dist-packages uv\n",
            "mkl                                2024.2.2             /usr/local/lib/python3.10/dist-packages uv\n",
            "ml-dtypes                          0.4.1                /usr/local/lib/python3.10/dist-packages uv\n",
            "mlxtend                            0.23.1               /usr/local/lib/python3.10/dist-packages uv\n",
            "more-itertools                     10.5.0               /usr/local/lib/python3.10/dist-packages uv\n",
            "moviepy                            1.0.3                /usr/local/lib/python3.10/dist-packages uv\n",
            "mpmath                             1.3.0                /usr/local/lib/python3.10/dist-packages uv\n",
            "msgpack                            1.1.0                /usr/local/lib/python3.10/dist-packages uv\n",
            "multidict                          6.1.0                /usr/local/lib/python3.10/dist-packages uv\n",
            "multipledispatch                   1.0.0                /usr/local/lib/python3.10/dist-packages uv\n",
            "multitasking                       0.0.11               /usr/local/lib/python3.10/dist-packages uv\n",
            "murmurhash                         1.0.10               /usr/local/lib/python3.10/dist-packages uv\n",
            "music21                            9.1.0                /usr/local/lib/python3.10/dist-packages uv\n",
            "namex                              0.0.8                /usr/local/lib/python3.10/dist-packages uv\n",
            "natsort                            8.4.0                /usr/local/lib/python3.10/dist-packages uv\n",
            "nbclassic                          1.1.0                /usr/local/lib/python3.10/dist-packages uv\n",
            "nbclient                           0.10.0               /usr/local/lib/python3.10/dist-packages uv\n",
            "nbconvert                          6.5.4                /usr/local/lib/python3.10/dist-packages uv\n",
            "nbformat                           5.10.4               /usr/local/lib/python3.10/dist-packages uv\n",
            "nest-asyncio                       1.6.0                /usr/local/lib/python3.10/dist-packages uv\n",
            "networkx                           3.4.2                /usr/local/lib/python3.10/dist-packages uv\n",
            "nibabel                            5.2.1                /usr/local/lib/python3.10/dist-packages uv\n",
            "nltk                               3.8.1                /usr/local/lib/python3.10/dist-packages uv\n",
            "notebook                           6.5.5                /usr/local/lib/python3.10/dist-packages uv\n",
            "notebook_shim                      0.2.4                /usr/local/lib/python3.10/dist-packages uv\n",
            "numba                              0.60.0               /usr/local/lib/python3.10/dist-packages uv\n",
            "numexpr                            2.10.1               /usr/local/lib/python3.10/dist-packages uv\n",
            "numpy                              1.26.4               /usr/local/lib/python3.10/dist-packages uv\n",
            "nvidia-cublas-cu12                 12.6.3.3             /usr/local/lib/python3.10/dist-packages uv\n",
            "nvidia-cuda-cupti-cu12             12.6.80              /usr/local/lib/python3.10/dist-packages uv\n",
            "nvidia-cuda-nvcc-cu12              12.6.77              /usr/local/lib/python3.10/dist-packages uv\n",
            "nvidia-cuda-runtime-cu12           12.6.77              /usr/local/lib/python3.10/dist-packages uv\n",
            "nvidia-cudnn-cu12                  9.5.0.50             /usr/local/lib/python3.10/dist-packages uv\n",
            "nvidia-cufft-cu12                  11.3.0.4             /usr/local/lib/python3.10/dist-packages uv\n",
            "nvidia-curand-cu12                 10.3.7.77            /usr/local/lib/python3.10/dist-packages uv\n",
            "nvidia-cusolver-cu12               11.7.1.2             /usr/local/lib/python3.10/dist-packages uv\n",
            "nvidia-cusparse-cu12               12.5.4.2             /usr/local/lib/python3.10/dist-packages uv\n",
            "nvidia-nccl-cu12                   2.23.4               /usr/local/lib/python3.10/dist-packages uv\n",
            "nvidia-nvjitlink-cu12              12.6.77              /usr/local/lib/python3.10/dist-packages uv\n",
            "nvtx                               0.2.10               /usr/local/lib/python3.10/dist-packages uv\n",
            "nx-cugraph-cu12                    24.10.0              /usr/local/lib/python3.10/dist-packages uv\n",
            "oauth2client                       4.1.3                /usr/local/lib/python3.10/dist-packages uv\n",
            "oauthlib                           3.2.2                /usr/local/lib/python3.10/dist-packages uv\n",
            "opencv-contrib-python              4.10.0.84            /usr/local/lib/python3.10/dist-packages uv\n",
            "opencv-python                      4.10.0.84            /usr/local/lib/python3.10/dist-packages uv\n",
            "opencv-python-headless             4.10.0.84            /usr/local/lib/python3.10/dist-packages uv\n",
            "openpyxl                           3.1.5                /usr/local/lib/python3.10/dist-packages uv\n",
            "opentelemetry-api                  1.16.0               /usr/local/lib/python3.10/dist-packages uv\n",
            "opentelemetry-sdk                  1.16.0               /usr/local/lib/python3.10/dist-packages uv\n",
            "opentelemetry-semantic-conventions 0.37b0               /usr/local/lib/python3.10/dist-packages uv\n",
            "opt_einsum                         3.4.0                /usr/local/lib/python3.10/dist-packages uv\n",
            "optax                              0.2.3                /usr/local/lib/python3.10/dist-packages uv\n",
            "optree                             0.13.0               /usr/local/lib/python3.10/dist-packages uv\n",
            "orbax-checkpoint                   0.6.4                /usr/local/lib/python3.10/dist-packages uv\n",
            "osqp                               0.6.7.post3          /usr/local/lib/python3.10/dist-packages uv\n",
            "packaging                          24.1                 /usr/local/lib/python3.10/dist-packages uv\n",
            "pandas                             2.2.2                /usr/local/lib/python3.10/dist-packages uv\n",
            "pandas-datareader                  0.10.0               /usr/local/lib/python3.10/dist-packages uv\n",
            "pandas-gbq                         0.23.2               /usr/local/lib/python3.10/dist-packages uv\n",
            "pandas-stubs                       2.2.2.240909         /usr/local/lib/python3.10/dist-packages uv\n",
            "pandocfilters                      1.5.1                /usr/local/lib/python3.10/dist-packages uv\n",
            "panel                              1.4.5                /usr/local/lib/python3.10/dist-packages uv\n",
            "param                              2.1.1                /usr/local/lib/python3.10/dist-packages uv\n",
            "parso                              0.8.4                /usr/local/lib/python3.10/dist-packages uv\n",
            "parsy                              2.1                  /usr/local/lib/python3.10/dist-packages uv\n",
            "partd                              1.4.2                /usr/local/lib/python3.10/dist-packages uv\n",
            "pathlib                            1.0.1                /usr/local/lib/python3.10/dist-packages uv\n",
            "patsy                              0.5.6                /usr/local/lib/python3.10/dist-packages uv\n",
            "peewee                             3.17.7               /usr/local/lib/python3.10/dist-packages uv\n",
            "pexpect                            4.9.0                /usr/local/lib/python3.10/dist-packages uv\n",
            "pickleshare                        0.7.5                /usr/local/lib/python3.10/dist-packages uv\n",
            "pillow                             10.4.0               /usr/local/lib/python3.10/dist-packages uv\n",
            "pip                                24.1.2               /usr/local/lib/python3.10/dist-packages uv\n",
            "platformdirs                       4.3.6                /usr/local/lib/python3.10/dist-packages uv\n",
            "plotly                             5.24.1               /usr/local/lib/python3.10/dist-packages uv\n",
            "plotnine                           0.13.6               /usr/local/lib/python3.10/dist-packages uv\n",
            "pluggy                             1.5.0                /usr/local/lib/python3.10/dist-packages uv\n",
            "polars                             1.7.1                /usr/local/lib/python3.10/dist-packages uv\n",
            "pooch                              1.8.2                /usr/local/lib/python3.10/dist-packages uv\n",
            "portpicker                         1.5.2                /usr/local/lib/python3.10/dist-packages uv\n",
            "preshed                            3.0.9                /usr/local/lib/python3.10/dist-packages uv\n",
            "prettytable                        3.11.0               /usr/local/lib/python3.10/dist-packages uv\n",
            "proglog                            0.1.10               /usr/local/lib/python3.10/dist-packages uv\n",
            "progressbar2                       4.5.0                /usr/local/lib/python3.10/dist-packages uv\n",
            "prometheus_client                  0.21.0               /usr/local/lib/python3.10/dist-packages uv\n",
            "promise                            2.3                  /usr/local/lib/python3.10/dist-packages uv\n",
            "prompt_toolkit                     3.0.48               /usr/local/lib/python3.10/dist-packages uv\n",
            "propcache                          0.2.0                /usr/local/lib/python3.10/dist-packages uv\n",
            "prophet                            1.1.6                /usr/local/lib/python3.10/dist-packages uv\n",
            "proto-plus                         1.24.0               /usr/local/lib/python3.10/dist-packages uv\n",
            "protobuf                           3.20.3               /usr/local/lib/python3.10/dist-packages uv\n",
            "psutil                             5.9.5                /usr/local/lib/python3.10/dist-packages uv\n",
            "psycopg2                           2.9.10               /usr/local/lib/python3.10/dist-packages uv\n",
            "ptyprocess                         0.7.0                /usr/local/lib/python3.10/dist-packages uv\n",
            "py-cpuinfo                         9.0.0                /usr/local/lib/python3.10/dist-packages uv\n",
            "py4j                               0.10.9.7             /usr/local/lib/python3.10/dist-packages uv\n",
            "pyarrow                            16.1.0               /usr/local/lib/python3.10/dist-packages uv\n",
            "pyarrow-hotfix                     0.6                  /usr/local/lib/python3.10/dist-packages uv\n",
            "pyasn1                             0.6.1                /usr/local/lib/python3.10/dist-packages uv\n",
            "pyasn1_modules                     0.4.1                /usr/local/lib/python3.10/dist-packages uv\n",
            "pycocotools                        2.0.8                /usr/local/lib/python3.10/dist-packages uv\n",
            "pycparser                          2.22                 /usr/local/lib/python3.10/dist-packages uv\n",
            "pydantic                           2.9.2                /usr/local/lib/python3.10/dist-packages uv\n",
            "pydantic_core                      2.23.4               /usr/local/lib/python3.10/dist-packages uv\n",
            "pydata-google-auth                 1.8.2                /usr/local/lib/python3.10/dist-packages uv\n",
            "pydot                              3.0.2                /usr/local/lib/python3.10/dist-packages uv\n",
            "pydotplus                          2.0.2                /usr/local/lib/python3.10/dist-packages uv\n",
            "PyDrive                            1.3.1                /usr/local/lib/python3.10/dist-packages uv\n",
            "PyDrive2                           1.20.0               /usr/local/lib/python3.10/dist-packages uv\n",
            "pyerfa                             2.0.1.4              /usr/local/lib/python3.10/dist-packages uv\n",
            "pygame                             2.6.1                /usr/local/lib/python3.10/dist-packages uv\n",
            "pygit2                             1.15.1               /usr/local/lib/python3.10/dist-packages uv\n",
            "Pygments                           2.18.0               /usr/local/lib/python3.10/dist-packages uv\n",
            "PyGObject                          3.42.1               /usr/lib/python3/dist-packages\n",
            "PyJWT                              2.9.0                /usr/local/lib/python3.10/dist-packages uv\n",
            "pylibcudf-cu12                     24.10.1              /usr/local/lib/python3.10/dist-packages uv\n",
            "pylibcugraph-cu12                  24.10.0              /usr/local/lib/python3.10/dist-packages uv\n",
            "pylibraft-cu12                     24.10.0              /usr/local/lib/python3.10/dist-packages uv\n",
            "pymc                               5.16.2               /usr/local/lib/python3.10/dist-packages uv\n",
            "pymystem3                          0.2.0                /usr/local/lib/python3.10/dist-packages uv\n",
            "pynvjitlink-cu12                   0.3.0                /usr/local/lib/python3.10/dist-packages uv\n",
            "pyogrio                            0.10.0               /usr/local/lib/python3.10/dist-packages uv\n",
            "PyOpenGL                           3.1.7                /usr/local/lib/python3.10/dist-packages uv\n",
            "pyOpenSSL                          24.2.1               /usr/local/lib/python3.10/dist-packages uv\n",
            "pyparsing                          3.2.0                /usr/local/lib/python3.10/dist-packages uv\n",
            "pyperclip                          1.9.0                /usr/local/lib/python3.10/dist-packages uv\n",
            "pyproj                             3.7.0                /usr/local/lib/python3.10/dist-packages uv\n",
            "pyshp                              2.3.1                /usr/local/lib/python3.10/dist-packages uv\n",
            "PySocks                            1.7.1                /usr/local/lib/python3.10/dist-packages uv\n",
            "pyspark                            3.5.3                /usr/local/lib/python3.10/dist-packages uv\n",
            "pytensor                           2.25.5               /usr/local/lib/python3.10/dist-packages uv\n",
            "pytest                             7.4.4                /usr/local/lib/python3.10/dist-packages uv\n",
            "python-apt                         0.0.0                /usr/local/lib/python3.10/dist-packages\n",
            "python-box                         7.2.0                /usr/local/lib/python3.10/dist-packages uv\n",
            "python-dateutil                    2.8.2                /usr/local/lib/python3.10/dist-packages uv\n",
            "python-louvain                     0.16                 /usr/local/lib/python3.10/dist-packages uv\n",
            "python-slugify                     8.0.4                /usr/local/lib/python3.10/dist-packages uv\n",
            "python-utils                       3.9.0                /usr/local/lib/python3.10/dist-packages uv\n",
            "pytz                               2024.2               /usr/local/lib/python3.10/dist-packages uv\n",
            "pyviz_comms                        3.0.3                /usr/local/lib/python3.10/dist-packages uv\n",
            "PyYAML                             6.0.2                /usr/local/lib/python3.10/dist-packages uv\n",
            "pyzmq                              24.0.1               /usr/local/lib/python3.10/dist-packages uv\n",
            "qdldl                              0.1.7.post4          /usr/local/lib/python3.10/dist-packages uv\n",
            "ratelim                            0.1.6                /usr/local/lib/python3.10/dist-packages uv\n",
            "referencing                        0.35.1               /usr/local/lib/python3.10/dist-packages uv\n",
            "regex                              2024.9.11            /usr/local/lib/python3.10/dist-packages uv\n",
            "requests                           2.32.3               /usr/local/lib/python3.10/dist-packages uv\n",
            "requests-oauthlib                  1.3.1                /usr/local/lib/python3.10/dist-packages uv\n",
            "requirements-parser                0.9.0                /usr/local/lib/python3.10/dist-packages uv\n",
            "rich                               13.9.3               /usr/local/lib/python3.10/dist-packages uv\n",
            "rmm-cu12                           24.10.0              /usr/local/lib/python3.10/dist-packages uv\n",
            "rpds-py                            0.20.0               /usr/local/lib/python3.10/dist-packages uv\n",
            "rpy2                               3.4.2                /usr/local/lib/python3.10/dist-packages uv\n",
            "rsa                                4.9                  /usr/local/lib/python3.10/dist-packages uv\n",
            "safetensors                        0.4.5                /usr/local/lib/python3.10/dist-packages uv\n",
            "scikit-image                       0.24.0               /usr/local/lib/python3.10/dist-packages uv\n",
            "scikit-learn                       1.5.2                /usr/local/lib/python3.10/dist-packages uv\n",
            "scipy                              1.13.1               /usr/local/lib/python3.10/dist-packages uv\n",
            "scooby                             0.10.0               /usr/local/lib/python3.10/dist-packages uv\n",
            "scs                                3.2.7                /usr/local/lib/python3.10/dist-packages uv\n",
            "seaborn                            0.13.2               /usr/local/lib/python3.10/dist-packages uv\n",
            "SecretStorage                      3.3.1                /usr/lib/python3/dist-packages\n",
            "Send2Trash                         1.8.3                /usr/local/lib/python3.10/dist-packages uv\n",
            "sentencepiece                      0.2.0                /usr/local/lib/python3.10/dist-packages uv\n",
            "sentry-sdk                         2.17.0               /usr/local/lib/python3.10/dist-packages uv\n",
            "setproctitle                       1.3.3                /usr/local/lib/python3.10/dist-packages uv\n",
            "setuptools                         75.1.0               /usr/local/lib/python3.10/dist-packages uv\n",
            "shap                               0.46.0               /usr/local/lib/python3.10/dist-packages uv\n",
            "shapely                            2.0.6                /usr/local/lib/python3.10/dist-packages uv\n",
            "shellingham                        1.5.4                /usr/local/lib/python3.10/dist-packages uv\n",
            "simple-parsing                     0.1.6                /usr/local/lib/python3.10/dist-packages uv\n",
            "six                                1.16.0               /usr/local/lib/python3.10/dist-packages uv\n",
            "sklearn-pandas                     2.2.0                /usr/local/lib/python3.10/dist-packages uv\n",
            "slicer                             0.0.8                /usr/local/lib/python3.10/dist-packages uv\n",
            "smart-open                         7.0.5                /usr/local/lib/python3.10/dist-packages uv\n",
            "smmap                              5.0.1                /usr/local/lib/python3.10/dist-packages uv\n",
            "sniffio                            1.3.1                /usr/local/lib/python3.10/dist-packages uv\n",
            "snowballstemmer                    2.2.0                /usr/local/lib/python3.10/dist-packages uv\n",
            "soundfile                          0.12.1               /usr/local/lib/python3.10/dist-packages uv\n",
            "soupsieve                          2.6                  /usr/local/lib/python3.10/dist-packages uv\n",
            "soxr                               0.5.0.post1          /usr/local/lib/python3.10/dist-packages uv\n",
            "spacy                              3.7.5                /usr/local/lib/python3.10/dist-packages uv\n",
            "spacy-legacy                       3.0.12               /usr/local/lib/python3.10/dist-packages uv\n",
            "spacy-loggers                      1.0.5                /usr/local/lib/python3.10/dist-packages uv\n",
            "Sphinx                             5.0.2                /usr/local/lib/python3.10/dist-packages uv\n",
            "sphinxcontrib-applehelp            2.0.0                /usr/local/lib/python3.10/dist-packages uv\n",
            "sphinxcontrib-devhelp              2.0.0                /usr/local/lib/python3.10/dist-packages uv\n",
            "sphinxcontrib-htmlhelp             2.1.0                /usr/local/lib/python3.10/dist-packages uv\n",
            "sphinxcontrib-jsmath               1.0.1                /usr/local/lib/python3.10/dist-packages uv\n",
            "sphinxcontrib-qthelp               2.0.0                /usr/local/lib/python3.10/dist-packages uv\n",
            "sphinxcontrib-serializinghtml      2.0.0                /usr/local/lib/python3.10/dist-packages uv\n",
            "SQLAlchemy                         2.0.36               /usr/local/lib/python3.10/dist-packages uv\n",
            "sqlglot                            25.1.0               /usr/local/lib/python3.10/dist-packages uv\n",
            "sqlparse                           0.5.1                /usr/local/lib/python3.10/dist-packages uv\n",
            "srsly                              2.4.8                /usr/local/lib/python3.10/dist-packages uv\n",
            "stanio                             0.5.1                /usr/local/lib/python3.10/dist-packages uv\n",
            "statsmodels                        0.14.4               /usr/local/lib/python3.10/dist-packages uv\n",
            "StrEnum                            0.4.15               /usr/local/lib/python3.10/dist-packages uv\n",
            "sympy                              1.13.1               /usr/local/lib/python3.10/dist-packages uv\n",
            "tables                             3.8.0                /usr/local/lib/python3.10/dist-packages uv\n",
            "tabulate                           0.9.0                /usr/local/lib/python3.10/dist-packages uv\n",
            "tbb                                2021.13.1            /usr/local/lib/python3.10/dist-packages uv\n",
            "tenacity                           9.0.0                /usr/local/lib/python3.10/dist-packages uv\n",
            "tensorboard                        2.17.0               /usr/local/lib/python3.10/dist-packages uv\n",
            "tensorboard-data-server            0.7.2                /usr/local/lib/python3.10/dist-packages uv\n",
            "tensorflow                         2.17.0               /usr/local/lib/python3.10/dist-packages uv\n",
            "tensorflow-datasets                4.9.6                /usr/local/lib/python3.10/dist-packages uv\n",
            "tensorflow-hub                     0.16.1               /usr/local/lib/python3.10/dist-packages uv\n",
            "tensorflow-io-gcs-filesystem       0.37.1               /usr/local/lib/python3.10/dist-packages uv\n",
            "tensorflow-metadata                1.16.1               /usr/local/lib/python3.10/dist-packages uv\n",
            "tensorflow-probability             0.24.0               /usr/local/lib/python3.10/dist-packages uv\n",
            "tensorstore                        0.1.66               /usr/local/lib/python3.10/dist-packages uv\n",
            "termcolor                          2.5.0                /usr/local/lib/python3.10/dist-packages uv\n",
            "terminado                          0.18.1               /usr/local/lib/python3.10/dist-packages uv\n",
            "text-unidecode                     1.3                  /usr/local/lib/python3.10/dist-packages uv\n",
            "textblob                           0.17.1               /usr/local/lib/python3.10/dist-packages uv\n",
            "tf_keras                           2.17.0               /usr/local/lib/python3.10/dist-packages uv\n",
            "tf-slim                            1.1.0                /usr/local/lib/python3.10/dist-packages uv\n",
            "thinc                              8.2.5                /usr/local/lib/python3.10/dist-packages uv\n",
            "threadpoolctl                      3.5.0                /usr/local/lib/python3.10/dist-packages uv\n",
            "tifffile                           2024.9.20            /usr/local/lib/python3.10/dist-packages uv\n",
            "timm                               1.0.11               /usr/local/lib/python3.10/dist-packages uv\n",
            "tinycss2                           1.3.0                /usr/local/lib/python3.10/dist-packages uv\n",
            "tokenizers                         0.19.1               /usr/local/lib/python3.10/dist-packages uv\n",
            "toml                               0.10.2               /usr/local/lib/python3.10/dist-packages uv\n",
            "tomli                              2.0.2                /usr/local/lib/python3.10/dist-packages uv\n",
            "toolz                              0.12.1               /usr/local/lib/python3.10/dist-packages uv\n",
            "torch                              2.5.0+cu121          /usr/local/lib/python3.10/dist-packages uv\n",
            "torchaudio                         2.5.0+cu121          /usr/local/lib/python3.10/dist-packages uv\n",
            "torchsummary                       1.5.1                /usr/local/lib/python3.10/dist-packages uv\n",
            "torchvision                        0.20.0+cu121         /usr/local/lib/python3.10/dist-packages uv\n",
            "tornado                            6.3.3                /usr/local/lib/python3.10/dist-packages uv\n",
            "tqdm                               4.66.5               /usr/local/lib/python3.10/dist-packages uv\n",
            "traitlets                          5.7.1                /usr/local/lib/python3.10/dist-packages uv\n",
            "traittypes                         0.2.1                /usr/local/lib/python3.10/dist-packages uv\n",
            "transformers                       4.44.2               /usr/local/lib/python3.10/dist-packages uv\n",
            "tweepy                             4.14.0               /usr/local/lib/python3.10/dist-packages uv\n",
            "typeguard                          4.3.0                /usr/local/lib/python3.10/dist-packages uv\n",
            "typer                              0.12.5               /usr/local/lib/python3.10/dist-packages uv\n",
            "types-pytz                         2024.2.0.20241003    /usr/local/lib/python3.10/dist-packages uv\n",
            "types-setuptools                   75.2.0.20241025      /usr/local/lib/python3.10/dist-packages uv\n",
            "typing_extensions                  4.12.2               /usr/local/lib/python3.10/dist-packages uv\n",
            "tzdata                             2024.2               /usr/local/lib/python3.10/dist-packages uv\n",
            "tzlocal                            5.2                  /usr/local/lib/python3.10/dist-packages uv\n",
            "uc-micro-py                        1.0.3                /usr/local/lib/python3.10/dist-packages uv\n",
            "ultralytics                        8.3.23               /usr/local/lib/python3.10/dist-packages pip\n",
            "ultralytics-thop                   2.0.9                /usr/local/lib/python3.10/dist-packages pip\n",
            "uritemplate                        4.1.1                /usr/local/lib/python3.10/dist-packages uv\n",
            "urllib3                            2.2.3                /usr/local/lib/python3.10/dist-packages uv\n",
            "vega-datasets                      0.9.0                /usr/local/lib/python3.10/dist-packages uv\n",
            "wadllib                            1.3.6                /usr/lib/python3/dist-packages\n",
            "wandb                              0.18.5               /usr/local/lib/python3.10/dist-packages uv\n",
            "wasabi                             1.1.3                /usr/local/lib/python3.10/dist-packages uv\n",
            "wcwidth                            0.2.13               /usr/local/lib/python3.10/dist-packages uv\n",
            "weasel                             0.4.1                /usr/local/lib/python3.10/dist-packages uv\n",
            "webcolors                          24.8.0               /usr/local/lib/python3.10/dist-packages uv\n",
            "webencodings                       0.5.1                /usr/local/lib/python3.10/dist-packages uv\n",
            "websocket-client                   1.8.0                /usr/local/lib/python3.10/dist-packages uv\n",
            "Werkzeug                           3.0.4                /usr/local/lib/python3.10/dist-packages uv\n",
            "wheel                              0.44.0               /usr/local/lib/python3.10/dist-packages uv\n",
            "widgetsnbextension                 3.6.10               /usr/local/lib/python3.10/dist-packages uv\n",
            "wordcloud                          1.9.3                /usr/local/lib/python3.10/dist-packages uv\n",
            "wrapt                              1.16.0               /usr/local/lib/python3.10/dist-packages uv\n",
            "xarray                             2024.9.0             /usr/local/lib/python3.10/dist-packages uv\n",
            "xarray-einstats                    0.8.0                /usr/local/lib/python3.10/dist-packages uv\n",
            "xgboost                            2.1.1                /usr/local/lib/python3.10/dist-packages uv\n",
            "xlrd                               2.0.1                /usr/local/lib/python3.10/dist-packages uv\n",
            "xyzservices                        2024.9.0             /usr/local/lib/python3.10/dist-packages uv\n",
            "yarl                               1.16.0               /usr/local/lib/python3.10/dist-packages uv\n",
            "yellowbrick                        1.5                  /usr/local/lib/python3.10/dist-packages uv\n",
            "yfinance                           0.2.46               /usr/local/lib/python3.10/dist-packages uv\n",
            "zipp                               3.20.2               /usr/local/lib/python3.10/dist-packages uv\n"
          ]
        }
      ]
    }
  ]
}